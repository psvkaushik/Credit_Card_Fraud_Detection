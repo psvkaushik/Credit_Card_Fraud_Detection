{
  "nbformat": 4,
  "nbformat_minor": 0,
  "metadata": {
    "colab": {
      "provenance": [],
      "collapsed_sections": [
        "17cVlZ6Bi5ye",
        "vLA0sTSIjleG",
        "YvZ2iUXNjy81",
        "7JHnNHWxiCLp"
      ]
    },
    "kernelspec": {
      "name": "python3",
      "display_name": "Python 3"
    },
    "language_info": {
      "name": "python"
    },
    "gpuClass": "standard",
    "accelerator": "GPU"
  },
  "cells": [
    {
      "cell_type": "code",
      "source": [
        "import tensorflow as tf\n",
        "from tensorflow import keras\n",
        "\n",
        "import os\n",
        "import tempfile\n",
        "\n",
        "import matplotlib as mpl\n",
        "import matplotlib.pyplot as plt\n",
        "import numpy as np\n",
        "import pandas as pd\n",
        "import seaborn as sns\n",
        "\n",
        "import sklearn\n",
        "from sklearn.metrics import confusion_matrix\n",
        "from sklearn.model_selection import train_test_split\n",
        "from sklearn.preprocessing import StandardScaler\n",
        "\n",
        "import pandas as pd\n",
        "import numpy as np\n",
        "import matplotlib.pyplot as plt\n",
        "import imblearn\n",
        "from imblearn.over_sampling import SMOTE\n",
        "from sklearn.model_selection import  train_test_split\n",
        "from sklearn.tree import DecisionTreeClassifier\n",
        "import math\n",
        "import collections\n",
        "from sklearn.metrics import accuracy_score\n",
        "from sklearn.metrics import f1_score\n",
        "\n",
        "import keras.backend as K \n",
        "from tensorflow.python.ops import math_ops\n"
      ],
      "metadata": {
        "id": "LcXmMDGBLM-C"
      },
      "execution_count": 1,
      "outputs": []
    },
    {
      "cell_type": "code",
      "source": [
        "from sklearn.metrics import PrecisionRecallDisplay"
      ],
      "metadata": {
        "id": "dySUgHgvWhbk"
      },
      "execution_count": 2,
      "outputs": []
    },
    {
      "cell_type": "code",
      "source": [
        "\n",
        "import glob\n",
        "\n",
        "from sklearn import metrics\n",
        "\n",
        "from keras.models import Sequential\n",
        "from keras.layers import Dense\n",
        "from keras.layers import Flatten, Reshape\n",
        "from keras.utils import to_categorical\n",
        "from keras.layers.convolutional import Conv1D\n",
        "from keras.layers.convolutional import MaxPooling1D\n",
        "from keras.optimizers import SGD, Adam, RMSprop, Adagrad\n",
        "from keras.layers import Dropout, InputLayer, LSTM\n",
        "from keras.layers import Bidirectional, BatchNormalization\n",
        "from keras.layers import TimeDistributed\n",
        "from keras.layers import Conv2D, MaxPooling2D, Flatten, Dense, Activation, BatchNormalization, Dropout, UpSampling1D, AveragePooling1D\n",
        "\n",
        "import tensorflow as tf\n",
        "from tensorflow import keras\n",
        "from sklearn.metrics import classification_report, ConfusionMatrixDisplay, precision_recall_curve, precision_recall_fscore_support\n",
        "from tensorflow.keras.callbacks import ReduceLROnPlateau"
      ],
      "metadata": {
        "id": "zA4kG98QjG3M"
      },
      "execution_count": 3,
      "outputs": []
    },
    {
      "cell_type": "code",
      "source": [
        "!pip install -q -U keras-tuner\n",
        "import keras_tuner as kt\n",
        "import tensorflow as tf\n",
        "from tensorflow import keras"
      ],
      "metadata": {
        "colab": {
          "base_uri": "https://localhost:8080/"
        },
        "id": "pFkn0w7RiTFL",
        "outputId": "40f8faa6-41ab-4150-90e4-a66afdf0938d"
      },
      "execution_count": 4,
      "outputs": [
        {
          "output_type": "stream",
          "name": "stdout",
          "text": [
            "\u001b[?25l     \u001b[90m━━━━━━━━━━━━━━━━━━━━━━━━━━━━━━━━━━━━━━━━\u001b[0m \u001b[32m0.0/176.1 kB\u001b[0m \u001b[31m?\u001b[0m eta \u001b[36m-:--:--\u001b[0m\r\u001b[2K     \u001b[91m━━━━━━━━━━━━━━━━━━━━━━━━━━━━━━━━━━━━━━\u001b[0m\u001b[91m╸\u001b[0m \u001b[32m174.1/176.1 kB\u001b[0m \u001b[31m6.1 MB/s\u001b[0m eta \u001b[36m0:00:01\u001b[0m\r\u001b[2K     \u001b[90m━━━━━━━━━━━━━━━━━━━━━━━━━━━━━━━━━━━━━━━\u001b[0m \u001b[32m176.1/176.1 kB\u001b[0m \u001b[31m3.8 MB/s\u001b[0m eta \u001b[36m0:00:00\u001b[0m\n",
            "\u001b[?25h"
          ]
        }
      ]
    },
    {
      "cell_type": "code",
      "source": [
        "!pip install imblearn \n",
        "from imblearn.over_sampling import SMOTE\n",
        "from imblearn.under_sampling import CondensedNearestNeighbour, ClusterCentroids\n",
        "from sklearn.cluster import MiniBatchKMeans"
      ],
      "metadata": {
        "id": "k3tpnoG02H1y",
        "colab": {
          "base_uri": "https://localhost:8080/"
        },
        "outputId": "2cd3c355-4643-4418-b30d-cf059ea9ade9"
      },
      "execution_count": 5,
      "outputs": [
        {
          "output_type": "stream",
          "name": "stdout",
          "text": [
            "Looking in indexes: https://pypi.org/simple, https://us-python.pkg.dev/colab-wheels/public/simple/\n",
            "Collecting imblearn\n",
            "  Downloading imblearn-0.0-py2.py3-none-any.whl (1.9 kB)\n",
            "Requirement already satisfied: imbalanced-learn in /usr/local/lib/python3.9/dist-packages (from imblearn) (0.10.1)\n",
            "Requirement already satisfied: numpy>=1.17.3 in /usr/local/lib/python3.9/dist-packages (from imbalanced-learn->imblearn) (1.22.4)\n",
            "Requirement already satisfied: scipy>=1.3.2 in /usr/local/lib/python3.9/dist-packages (from imbalanced-learn->imblearn) (1.10.1)\n",
            "Requirement already satisfied: joblib>=1.1.1 in /usr/local/lib/python3.9/dist-packages (from imbalanced-learn->imblearn) (1.2.0)\n",
            "Requirement already satisfied: threadpoolctl>=2.0.0 in /usr/local/lib/python3.9/dist-packages (from imbalanced-learn->imblearn) (3.1.0)\n",
            "Requirement already satisfied: scikit-learn>=1.0.2 in /usr/local/lib/python3.9/dist-packages (from imbalanced-learn->imblearn) (1.2.2)\n",
            "Installing collected packages: imblearn\n",
            "Successfully installed imblearn-0.0\n"
          ]
        }
      ]
    },
    {
      "cell_type": "code",
      "source": [
        "\n",
        "#data = pd.read_csv('/content/drive/MyDrive/ALDA_final_project/creditcard.csv')\n",
        "data = pd.read_csv('https://storage.googleapis.com/download.tensorflow.org/data/creditcard.csv')\n"
      ],
      "metadata": {
        "id": "y6PCFrCsRHZI"
      },
      "execution_count": 6,
      "outputs": []
    },
    {
      "cell_type": "code",
      "source": [
        "data.duplicated().value_counts().plot.bar()"
      ],
      "metadata": {
        "colab": {
          "base_uri": "https://localhost:8080/",
          "height": 468
        },
        "id": "qFRentEXRJTp",
        "outputId": "1ea3ca7b-4d5f-4f08-dc35-9c38e3b7a727"
      },
      "execution_count": 7,
      "outputs": [
        {
          "output_type": "execute_result",
          "data": {
            "text/plain": [
              "<Axes: >"
            ]
          },
          "metadata": {},
          "execution_count": 7
        },
        {
          "output_type": "display_data",
          "data": {
            "text/plain": [
              "<Figure size 640x480 with 1 Axes>"
            ],
            "image/png": "[encoded data removed]"
          },
          "metadata": {}
        }
      ]
    },
    {
      "cell_type": "code",
      "source": [
        "data.drop_duplicates(inplace=True)"
      ],
      "metadata": {
        "id": "cVLM5Cj4Rtf0"
      },
      "execution_count": 8,
      "outputs": []
    },
    {
      "cell_type": "code",
      "source": [
        "data.duplicated().value_counts().plot.bar()"
      ],
      "metadata": {
        "colab": {
          "base_uri": "https://localhost:8080/",
          "height": 468
        },
        "id": "rgJOKLyfR09y",
        "outputId": "ba6b6b08-a9d3-4eb8-9735-187ee992b991"
      },
      "execution_count": 9,
      "outputs": [
        {
          "output_type": "execute_result",
          "data": {
            "text/plain": [
              "<Axes: >"
            ]
          },
          "metadata": {},
          "execution_count": 9
        },
        {
          "output_type": "display_data",
          "data": {
            "text/plain": [
              "<Figure size 640x480 with 1 Axes>"
            ],
            "image/png": "[encoded data removed]"
          },
          "metadata": {}
        }
      ]
    },
    {
      "cell_type": "code",
      "source": [
        "data['Class'].value_counts()"
      ],
      "metadata": {
        "colab": {
          "base_uri": "https://localhost:8080/"
        },
        "id": "WvkgrnsyR3Es",
        "outputId": "38e8464c-3ae9-4064-8a0c-4327846ce634"
      },
      "execution_count": 10,
      "outputs": [
        {
          "output_type": "execute_result",
          "data": {
            "text/plain": [
              "0    283253\n",
              "1       473\n",
              "Name: Class, dtype: int64"
            ]
          },
          "metadata": {},
          "execution_count": 10
        }
      ]
    },
    {
      "cell_type": "code",
      "source": [
        "\n",
        "data.head()"
      ],
      "metadata": {
        "colab": {
          "base_uri": "https://localhost:8080/",
          "height": 299
        },
        "id": "exwFsLJWR7va",
        "outputId": "f7aee29a-1158-4685-f4e1-68679f5d0107"
      },
      "execution_count": 11,
      "outputs": [
        {
          "output_type": "execute_result",
          "data": {
            "text/plain": [
              "   Time        V1        V2        V3        V4        V5        V6        V7  \\\n",
              "0   0.0 -1.359807 -0.072781  2.536347  1.378155 -0.338321  0.462388  0.239599   \n",
              "1   0.0  1.191857  0.266151  0.166480  0.448154  0.060018 -0.082361 -0.078803   \n",
              "2   1.0 -1.358354 -1.340163  1.773209  0.379780 -0.503198  1.800499  0.791461   \n",
              "3   1.0 -0.966272 -0.185226  1.792993 -0.863291 -0.010309  1.247203  0.237609   \n",
              "4   2.0 -1.158233  0.877737  1.548718  0.403034 -0.407193  0.095921  0.592941   \n",
              "\n",
              "         V8        V9  ...       V21       V22       V23       V24       V25  \\\n",
              "0  0.098698  0.363787  ... -0.018307  0.277838 -0.110474  0.066928  0.128539   \n",
              "1  0.085102 -0.255425  ... -0.225775 -0.638672  0.101288 -0.339846  0.167170   \n",
              "2  0.247676 -1.514654  ...  0.247998  0.771679  0.909412 -0.689281 -0.327642   \n",
              "3  0.377436 -1.387024  ... -0.108300  0.005274 -0.190321 -1.175575  0.647376   \n",
              "4 -0.270533  0.817739  ... -0.009431  0.798278 -0.137458  0.141267 -0.206010   \n",
              "\n",
              "        V26       V27       V28  Amount  Class  \n",
              "0 -0.189115  0.133558 -0.021053  149.62      0  \n",
              "1  0.125895 -0.008983  0.014724    2.69      0  \n",
              "2 -0.139097 -0.055353 -0.059752  378.66      0  \n",
              "3 -0.221929  0.062723  0.061458  123.50      0  \n",
              "4  0.502292  0.219422  0.215153   69.99      0  \n",
              "\n",
              "[5 rows x 31 columns]"
            ],
            "text/html": [
              "\n",
              "  <div id=\"df-007eb940-1959-45e7-91d2-326ce7c4096b\">\n",
              "    <div class=\"colab-df-container\">\n",
              "      <div>\n",
              "<style scoped>\n",
              "    .dataframe tbody tr th:only-of-type {\n",
              "        vertical-align: middle;\n",
              "    }\n",
              "\n",
              "    .dataframe tbody tr th {\n",
              "        vertical-align: top;\n",
              "    }\n",
              "\n",
              "    .dataframe thead th {\n",
              "        text-align: right;\n",
              "    }\n",
              "</style>\n",
              "<table border=\"1\" class=\"dataframe\">\n",
              "  <thead>\n",
              "    <tr style=\"text-align: right;\">\n",
              "      <th></th>\n",
              "      <th>Time</th>\n",
              "      <th>V1</th>\n",
              "      <th>V2</th>\n",
              "      <th>V3</th>\n",
              "      <th>V4</th>\n",
              "      <th>V5</th>\n",
              "      <th>V6</th>\n",
              "      <th>V7</th>\n",
              "      <th>V8</th>\n",
              "      <th>V9</th>\n",
              "      <th>...</th>\n",
              "      <th>V21</th>\n",
              "      <th>V22</th>\n",
              "      <th>V23</th>\n",
              "      <th>V24</th>\n",
              "      <th>V25</th>\n",
              "      <th>V26</th>\n",
              "      <th>V27</th>\n",
              "      <th>V28</th>\n",
              "      <th>Amount</th>\n",
              "      <th>Class</th>\n",
              "    </tr>\n",
              "  </thead>\n",
              "  <tbody>\n",
              "    <tr>\n",
              "      <th>0</th>\n",
              "      <td>0.0</td>\n",
              "      <td>-1.359807</td>\n",
              "      <td>-0.072781</td>\n",
              "      <td>2.536347</td>\n",
              "      <td>1.378155</td>\n",
              "      <td>-0.338321</td>\n",
              "      <td>0.462388</td>\n",
              "      <td>0.239599</td>\n",
              "      <td>0.098698</td>\n",
              "      <td>0.363787</td>\n",
              "      <td>...</td>\n",
              "      <td>-0.018307</td>\n",
              "      <td>0.277838</td>\n",
              "      <td>-0.110474</td>\n",
              "      <td>0.066928</td>\n",
              "      <td>0.128539</td>\n",
              "      <td>-0.189115</td>\n",
              "      <td>0.133558</td>\n",
              "      <td>-0.021053</td>\n",
              "      <td>149.62</td>\n",
              "      <td>0</td>\n",
              "    </tr>\n",
              "    <tr>\n",
              "      <th>1</th>\n",
              "      <td>0.0</td>\n",
              "      <td>1.191857</td>\n",
              "      <td>0.266151</td>\n",
              "      <td>0.166480</td>\n",
              "      <td>0.448154</td>\n",
              "      <td>0.060018</td>\n",
              "      <td>-0.082361</td>\n",
              "      <td>-0.078803</td>\n",
              "      <td>0.085102</td>\n",
              "      <td>-0.255425</td>\n",
              "      <td>...</td>\n",
              "      <td>-0.225775</td>\n",
              "      <td>-0.638672</td>\n",
              "      <td>0.101288</td>\n",
              "      <td>-0.339846</td>\n",
              "      <td>0.167170</td>\n",
              "      <td>0.125895</td>\n",
              "      <td>-0.008983</td>\n",
              "      <td>0.014724</td>\n",
              "      <td>2.69</td>\n",
              "      <td>0</td>\n",
              "    </tr>\n",
              "    <tr>\n",
              "      <th>2</th>\n",
              "      <td>1.0</td>\n",
              "      <td>-1.358354</td>\n",
              "      <td>-1.340163</td>\n",
              "      <td>1.773209</td>\n",
              "      <td>0.379780</td>\n",
              "      <td>-0.503198</td>\n",
              "      <td>1.800499</td>\n",
              "      <td>0.791461</td>\n",
              "      <td>0.247676</td>\n",
              "      <td>-1.514654</td>\n",
              "      <td>...</td>\n",
              "      <td>0.247998</td>\n",
              "      <td>0.771679</td>\n",
              "      <td>0.909412</td>\n",
              "      <td>-0.689281</td>\n",
              "      <td>-0.327642</td>\n",
              "      <td>-0.139097</td>\n",
              "      <td>-0.055353</td>\n",
              "      <td>-0.059752</td>\n",
              "      <td>378.66</td>\n",
              "      <td>0</td>\n",
              "    </tr>\n",
              "    <tr>\n",
              "      <th>3</th>\n",
              "      <td>1.0</td>\n",
              "      <td>-0.966272</td>\n",
              "      <td>-0.185226</td>\n",
              "      <td>1.792993</td>\n",
              "      <td>-0.863291</td>\n",
              "      <td>-0.010309</td>\n",
              "      <td>1.247203</td>\n",
              "      <td>0.237609</td>\n",
              "      <td>0.377436</td>\n",
              "      <td>-1.387024</td>\n",
              "      <td>...</td>\n",
              "      <td>-0.108300</td>\n",
              "      <td>0.005274</td>\n",
              "      <td>-0.190321</td>\n",
              "      <td>-1.175575</td>\n",
              "      <td>0.647376</td>\n",
              "      <td>-0.221929</td>\n",
              "      <td>0.062723</td>\n",
              "      <td>0.061458</td>\n",
              "      <td>123.50</td>\n",
              "      <td>0</td>\n",
              "    </tr>\n",
              "    <tr>\n",
              "      <th>4</th>\n",
              "      <td>2.0</td>\n",
              "      <td>-1.158233</td>\n",
              "      <td>0.877737</td>\n",
              "      <td>1.548718</td>\n",
              "      <td>0.403034</td>\n",
              "      <td>-0.407193</td>\n",
              "      <td>0.095921</td>\n",
              "      <td>0.592941</td>\n",
              "      <td>-0.270533</td>\n",
              "      <td>0.817739</td>\n",
              "      <td>...</td>\n",
              "      <td>-0.009431</td>\n",
              "      <td>0.798278</td>\n",
              "      <td>-0.137458</td>\n",
              "      <td>0.141267</td>\n",
              "      <td>-0.206010</td>\n",
              "      <td>0.502292</td>\n",
              "      <td>0.219422</td>\n",
              "      <td>0.215153</td>\n",
              "      <td>69.99</td>\n",
              "      <td>0</td>\n",
              "    </tr>\n",
              "  </tbody>\n",
              "</table>\n",
              "<p>5 rows × 31 columns</p>\n",
              "</div>\n",
              "      <button class=\"colab-df-convert\" onclick=\"convertToInteractive('df-007eb940-1959-45e7-91d2-326ce7c4096b')\"\n",
              "              title=\"Convert this dataframe to an interactive table.\"\n",
              "              style=\"display:none;\">\n",
              "        \n",
              "  <svg xmlns=\"http://www.w3.org/2000/svg\" height=\"24px\"viewBox=\"0 0 24 24\"\n",
              "       width=\"24px\">\n",
              "    <path d=\"M0 0h24v24H0V0z\" fill=\"none\"/>\n",
              "    <path d=\"M18.56 5.44l.94 2.06.94-2.06 2.06-.94-2.06-.94-.94-2.06-.94 2.06-2.06.94zm-11 1L8.5 8.5l.94-2.06 2.06-.94-2.06-.94L8.5 2.5l-.94 2.06-2.06.94zm10 10l.94 2.06.94-2.06 2.06-.94-2.06-.94-.94-2.06-.94 2.06-2.06.94z\"/><path d=\"M17.41 7.96l-1.37-1.37c-.4-.4-.92-.59-1.43-.59-.52 0-1.04.2-1.43.59L10.3 9.45l-7.72 7.72c-.78.78-.78 2.05 0 2.83L4 21.41c.39.39.9.59 1.41.59.51 0 1.02-.2 1.41-.59l7.78-7.78 2.81-2.81c.8-.78.8-2.07 0-2.86zM5.41 20L4 18.59l7.72-7.72 1.47 1.35L5.41 20z\"/>\n",
              "  </svg>\n",
              "      </button>\n",
              "      \n",
              "  <style>\n",
              "    .colab-df-container {\n",
              "      display:flex;\n",
              "      flex-wrap:wrap;\n",
              "      gap: 12px;\n",
              "    }\n",
              "\n",
              "    .colab-df-convert {\n",
              "      background-color: #E8F0FE;\n",
              "      border: none;\n",
              "      border-radius: 50%;\n",
              "      cursor: pointer;\n",
              "      display: none;\n",
              "      fill: #1967D2;\n",
              "      height: 32px;\n",
              "      padding: 0 0 0 0;\n",
              "      width: 32px;\n",
              "    }\n",
              "\n",
              "    .colab-df-convert:hover {\n",
              "      background-color: #E2EBFA;\n",
              "      box-shadow: 0px 1px 2px rgba(60, 64, 67, 0.3), 0px 1px 3px 1px rgba(60, 64, 67, 0.15);\n",
              "      fill: #174EA6;\n",
              "    }\n",
              "\n",
              "    [theme=dark] .colab-df-convert {\n",
              "      background-color: #3B4455;\n",
              "      fill: #D2E3FC;\n",
              "    }\n",
              "\n",
              "    [theme=dark] .colab-df-convert:hover {\n",
              "      background-color: #434B5C;\n",
              "      box-shadow: 0px 1px 3px 1px rgba(0, 0, 0, 0.15);\n",
              "      filter: drop-shadow(0px 1px 2px rgba(0, 0, 0, 0.3));\n",
              "      fill: #FFFFFF;\n",
              "    }\n",
              "  </style>\n",
              "\n",
              "      <script>\n",
              "        const buttonEl =\n",
              "          document.querySelector('#df-007eb940-1959-45e7-91d2-326ce7c4096b button.colab-df-convert');\n",
              "        buttonEl.style.display =\n",
              "          google.colab.kernel.accessAllowed ? 'block' : 'none';\n",
              "\n",
              "        async function convertToInteractive(key) {\n",
              "          const element = document.querySelector('#df-007eb940-1959-45e7-91d2-326ce7c4096b');\n",
              "          const dataTable =\n",
              "            await google.colab.kernel.invokeFunction('convertToInteractive',\n",
              "                                                     [key], {});\n",
              "          if (!dataTable) return;\n",
              "\n",
              "          const docLinkHtml = 'Like what you see? Visit the ' +\n",
              "            '<a target=\"_blank\" href=https://colab.research.google.com/notebooks/data_table.ipynb>data table notebook</a>'\n",
              "            + ' to learn more about interactive tables.';\n",
              "          element.innerHTML = '';\n",
              "          dataTable['output_type'] = 'display_data';\n",
              "          await google.colab.output.renderOutput(dataTable, element);\n",
              "          const docLink = document.createElement('div');\n",
              "          docLink.innerHTML = docLinkHtml;\n",
              "          element.appendChild(docLink);\n",
              "        }\n",
              "      </script>\n",
              "    </div>\n",
              "  </div>\n",
              "  "
            ]
          },
          "metadata": {},
          "execution_count": 11
        }
      ]
    },
    {
      "cell_type": "code",
      "source": [
        "data.describe()"
      ],
      "metadata": {
        "colab": {
          "base_uri": "https://localhost:8080/",
          "height": 393
        },
        "id": "LPf-L3slSc5K",
        "outputId": "3a4913aa-6595-4e79-a5cb-f33bffd74379"
      },
      "execution_count": 12,
      "outputs": [
        {
          "output_type": "execute_result",
          "data": {
            "text/plain": [
              "                Time             V1             V2             V3  \\\n",
              "count  283726.000000  283726.000000  283726.000000  283726.000000   \n",
              "mean    94811.077600       0.005917      -0.004135       0.001613   \n",
              "std     47481.047891       1.948026       1.646703       1.508682   \n",
              "min         0.000000     -56.407510     -72.715728     -48.325589   \n",
              "25%     54204.750000      -0.915951      -0.600321      -0.889682   \n",
              "50%     84692.500000       0.020384       0.063949       0.179963   \n",
              "75%    139298.000000       1.316068       0.800283       1.026960   \n",
              "max    172792.000000       2.454930      22.057729       9.382558   \n",
              "\n",
              "                  V4             V5             V6             V7  \\\n",
              "count  283726.000000  283726.000000  283726.000000  283726.000000   \n",
              "mean       -0.002966       0.001828      -0.001139       0.001801   \n",
              "std         1.414184       1.377008       1.331931       1.227664   \n",
              "min        -5.683171    -113.743307     -26.160506     -43.557242   \n",
              "25%        -0.850134      -0.689830      -0.769031      -0.552509   \n",
              "50%        -0.022248      -0.053468      -0.275168       0.040859   \n",
              "75%         0.739647       0.612218       0.396792       0.570474   \n",
              "max        16.875344      34.801666      73.301626     120.589494   \n",
              "\n",
              "                  V8             V9  ...            V21            V22  \\\n",
              "count  283726.000000  283726.000000  ...  283726.000000  283726.000000   \n",
              "mean       -0.000854      -0.001596  ...      -0.000371      -0.000015   \n",
              "std         1.179054       1.095492  ...       0.723909       0.724550   \n",
              "min       -73.216718     -13.434066  ...     -34.830382     -10.933144   \n",
              "25%        -0.208828      -0.644221  ...      -0.228305      -0.542700   \n",
              "50%         0.021898      -0.052596  ...      -0.029441       0.006675   \n",
              "75%         0.325704       0.595977  ...       0.186194       0.528245   \n",
              "max        20.007208      15.594995  ...      27.202839      10.503090   \n",
              "\n",
              "                 V23            V24            V25            V26  \\\n",
              "count  283726.000000  283726.000000  283726.000000  283726.000000   \n",
              "mean        0.000198       0.000214      -0.000232       0.000149   \n",
              "std         0.623702       0.605627       0.521220       0.482053   \n",
              "min       -44.807735      -2.836627     -10.295397      -2.604551   \n",
              "25%        -0.161703      -0.354453      -0.317485      -0.326763   \n",
              "50%        -0.011159       0.041016       0.016278      -0.052172   \n",
              "75%         0.147748       0.439738       0.350667       0.240261   \n",
              "max        22.528412       4.584549       7.519589       3.517346   \n",
              "\n",
              "                 V27            V28         Amount          Class  \n",
              "count  283726.000000  283726.000000  283726.000000  283726.000000  \n",
              "mean        0.001763       0.000547      88.472687       0.001667  \n",
              "std         0.395744       0.328027     250.399437       0.040796  \n",
              "min       -22.565679     -15.430084       0.000000       0.000000  \n",
              "25%        -0.070641      -0.052818       5.600000       0.000000  \n",
              "50%         0.001479       0.011288      22.000000       0.000000  \n",
              "75%         0.091208       0.078276      77.510000       0.000000  \n",
              "max        31.612198      33.847808   25691.160000       1.000000  \n",
              "\n",
              "[8 rows x 31 columns]"
            ],
            "text/html": [
              "\n",
              "  <div id=\"df-ca1b09ac-bdd8-4849-b1c7-dac5147aa893\">\n",
              "    <div class=\"colab-df-container\">\n",
              "      <div>\n",
              "<style scoped>\n",
              "    .dataframe tbody tr th:only-of-type {\n",
              "        vertical-align: middle;\n",
              "    }\n",
              "\n",
              "    .dataframe tbody tr th {\n",
              "        vertical-align: top;\n",
              "    }\n",
              "\n",
              "    .dataframe thead th {\n",
              "        text-align: right;\n",
              "    }\n",
              "</style>\n",
              "<table border=\"1\" class=\"dataframe\">\n",
              "  <thead>\n",
              "    <tr style=\"text-align: right;\">\n",
              "      <th></th>\n",
              "      <th>Time</th>\n",
              "      <th>V1</th>\n",
              "      <th>V2</th>\n",
              "      <th>V3</th>\n",
              "      <th>V4</th>\n",
              "      <th>V5</th>\n",
              "      <th>V6</th>\n",
              "      <th>V7</th>\n",
              "      <th>V8</th>\n",
              "      <th>V9</th>\n",
              "      <th>...</th>\n",
              "      <th>V21</th>\n",
              "      <th>V22</th>\n",
              "      <th>V23</th>\n",
              "      <th>V24</th>\n",
              "      <th>V25</th>\n",
              "      <th>V26</th>\n",
              "      <th>V27</th>\n",
              "      <th>V28</th>\n",
              "      <th>Amount</th>\n",
              "      <th>Class</th>\n",
              "    </tr>\n",
              "  </thead>\n",
              "  <tbody>\n",
              "    <tr>\n",
              "      <th>count</th>\n",
              "      <td>283726.000000</td>\n",
              "      <td>283726.000000</td>\n",
              "      <td>283726.000000</td>\n",
              "      <td>283726.000000</td>\n",
              "      <td>283726.000000</td>\n",
              "      <td>283726.000000</td>\n",
              "      <td>283726.000000</td>\n",
              "      <td>283726.000000</td>\n",
              "      <td>283726.000000</td>\n",
              "      <td>283726.000000</td>\n",
              "      <td>...</td>\n",
              "      <td>283726.000000</td>\n",
              "      <td>283726.000000</td>\n",
              "      <td>283726.000000</td>\n",
              "      <td>283726.000000</td>\n",
              "      <td>283726.000000</td>\n",
              "      <td>283726.000000</td>\n",
              "      <td>283726.000000</td>\n",
              "      <td>283726.000000</td>\n",
              "      <td>283726.000000</td>\n",
              "      <td>283726.000000</td>\n",
              "    </tr>\n",
              "    <tr>\n",
              "      <th>mean</th>\n",
              "      <td>94811.077600</td>\n",
              "      <td>0.005917</td>\n",
              "      <td>-0.004135</td>\n",
              "      <td>0.001613</td>\n",
              "      <td>-0.002966</td>\n",
              "      <td>0.001828</td>\n",
              "      <td>-0.001139</td>\n",
              "      <td>0.001801</td>\n",
              "      <td>-0.000854</td>\n",
              "      <td>-0.001596</td>\n",
              "      <td>...</td>\n",
              "      <td>-0.000371</td>\n",
              "      <td>-0.000015</td>\n",
              "      <td>0.000198</td>\n",
              "      <td>0.000214</td>\n",
              "      <td>-0.000232</td>\n",
              "      <td>0.000149</td>\n",
              "      <td>0.001763</td>\n",
              "      <td>0.000547</td>\n",
              "      <td>88.472687</td>\n",
              "      <td>0.001667</td>\n",
              "    </tr>\n",
              "    <tr>\n",
              "      <th>std</th>\n",
              "      <td>47481.047891</td>\n",
              "      <td>1.948026</td>\n",
              "      <td>1.646703</td>\n",
              "      <td>1.508682</td>\n",
              "      <td>1.414184</td>\n",
              "      <td>1.377008</td>\n",
              "      <td>1.331931</td>\n",
              "      <td>1.227664</td>\n",
              "      <td>1.179054</td>\n",
              "      <td>1.095492</td>\n",
              "      <td>...</td>\n",
              "      <td>0.723909</td>\n",
              "      <td>0.724550</td>\n",
              "      <td>0.623702</td>\n",
              "      <td>0.605627</td>\n",
              "      <td>0.521220</td>\n",
              "      <td>0.482053</td>\n",
              "      <td>0.395744</td>\n",
              "      <td>0.328027</td>\n",
              "      <td>250.399437</td>\n",
              "      <td>0.040796</td>\n",
              "    </tr>\n",
              "    <tr>\n",
              "      <th>min</th>\n",
              "      <td>0.000000</td>\n",
              "      <td>-56.407510</td>\n",
              "      <td>-72.715728</td>\n",
              "      <td>-48.325589</td>\n",
              "      <td>-5.683171</td>\n",
              "      <td>-113.743307</td>\n",
              "      <td>-26.160506</td>\n",
              "      <td>-43.557242</td>\n",
              "      <td>-73.216718</td>\n",
              "      <td>-13.434066</td>\n",
              "      <td>...</td>\n",
              "      <td>-34.830382</td>\n",
              "      <td>-10.933144</td>\n",
              "      <td>-44.807735</td>\n",
              "      <td>-2.836627</td>\n",
              "      <td>-10.295397</td>\n",
              "      <td>-2.604551</td>\n",
              "      <td>-22.565679</td>\n",
              "      <td>-15.430084</td>\n",
              "      <td>0.000000</td>\n",
              "      <td>0.000000</td>\n",
              "    </tr>\n",
              "    <tr>\n",
              "      <th>25%</th>\n",
              "      <td>54204.750000</td>\n",
              "      <td>-0.915951</td>\n",
              "      <td>-0.600321</td>\n",
              "      <td>-0.889682</td>\n",
              "      <td>-0.850134</td>\n",
              "      <td>-0.689830</td>\n",
              "      <td>-0.769031</td>\n",
              "      <td>-0.552509</td>\n",
              "      <td>-0.208828</td>\n",
              "      <td>-0.644221</td>\n",
              "      <td>...</td>\n",
              "      <td>-0.228305</td>\n",
              "      <td>-0.542700</td>\n",
              "      <td>-0.161703</td>\n",
              "      <td>-0.354453</td>\n",
              "      <td>-0.317485</td>\n",
              "      <td>-0.326763</td>\n",
              "      <td>-0.070641</td>\n",
              "      <td>-0.052818</td>\n",
              "      <td>5.600000</td>\n",
              "      <td>0.000000</td>\n",
              "    </tr>\n",
              "    <tr>\n",
              "      <th>50%</th>\n",
              "      <td>84692.500000</td>\n",
              "      <td>0.020384</td>\n",
              "      <td>0.063949</td>\n",
              "      <td>0.179963</td>\n",
              "      <td>-0.022248</td>\n",
              "      <td>-0.053468</td>\n",
              "      <td>-0.275168</td>\n",
              "      <td>0.040859</td>\n",
              "      <td>0.021898</td>\n",
              "      <td>-0.052596</td>\n",
              "      <td>...</td>\n",
              "      <td>-0.029441</td>\n",
              "      <td>0.006675</td>\n",
              "      <td>-0.011159</td>\n",
              "      <td>0.041016</td>\n",
              "      <td>0.016278</td>\n",
              "      <td>-0.052172</td>\n",
              "      <td>0.001479</td>\n",
              "      <td>0.011288</td>\n",
              "      <td>22.000000</td>\n",
              "      <td>0.000000</td>\n",
              "    </tr>\n",
              "    <tr>\n",
              "      <th>75%</th>\n",
              "      <td>139298.000000</td>\n",
              "      <td>1.316068</td>\n",
              "      <td>0.800283</td>\n",
              "      <td>1.026960</td>\n",
              "      <td>0.739647</td>\n",
              "      <td>0.612218</td>\n",
              "      <td>0.396792</td>\n",
              "      <td>0.570474</td>\n",
              "      <td>0.325704</td>\n",
              "      <td>0.595977</td>\n",
              "      <td>...</td>\n",
              "      <td>0.186194</td>\n",
              "      <td>0.528245</td>\n",
              "      <td>0.147748</td>\n",
              "      <td>0.439738</td>\n",
              "      <td>0.350667</td>\n",
              "      <td>0.240261</td>\n",
              "      <td>0.091208</td>\n",
              "      <td>0.078276</td>\n",
              "      <td>77.510000</td>\n",
              "      <td>0.000000</td>\n",
              "    </tr>\n",
              "    <tr>\n",
              "      <th>max</th>\n",
              "      <td>172792.000000</td>\n",
              "      <td>2.454930</td>\n",
              "      <td>22.057729</td>\n",
              "      <td>9.382558</td>\n",
              "      <td>16.875344</td>\n",
              "      <td>34.801666</td>\n",
              "      <td>73.301626</td>\n",
              "      <td>120.589494</td>\n",
              "      <td>20.007208</td>\n",
              "      <td>15.594995</td>\n",
              "      <td>...</td>\n",
              "      <td>27.202839</td>\n",
              "      <td>10.503090</td>\n",
              "      <td>22.528412</td>\n",
              "      <td>4.584549</td>\n",
              "      <td>7.519589</td>\n",
              "      <td>3.517346</td>\n",
              "      <td>31.612198</td>\n",
              "      <td>33.847808</td>\n",
              "      <td>25691.160000</td>\n",
              "      <td>1.000000</td>\n",
              "    </tr>\n",
              "  </tbody>\n",
              "</table>\n",
              "<p>8 rows × 31 columns</p>\n",
              "</div>\n",
              "      <button class=\"colab-df-convert\" onclick=\"convertToInteractive('df-ca1b09ac-bdd8-4849-b1c7-dac5147aa893')\"\n",
              "              title=\"Convert this dataframe to an interactive table.\"\n",
              "              style=\"display:none;\">\n",
              "        \n",
              "  <svg xmlns=\"http://www.w3.org/2000/svg\" height=\"24px\"viewBox=\"0 0 24 24\"\n",
              "       width=\"24px\">\n",
              "    <path d=\"M0 0h24v24H0V0z\" fill=\"none\"/>\n",
              "    <path d=\"M18.56 5.44l.94 2.06.94-2.06 2.06-.94-2.06-.94-.94-2.06-.94 2.06-2.06.94zm-11 1L8.5 8.5l.94-2.06 2.06-.94-2.06-.94L8.5 2.5l-.94 2.06-2.06.94zm10 10l.94 2.06.94-2.06 2.06-.94-2.06-.94-.94-2.06-.94 2.06-2.06.94z\"/><path d=\"M17.41 7.96l-1.37-1.37c-.4-.4-.92-.59-1.43-.59-.52 0-1.04.2-1.43.59L10.3 9.45l-7.72 7.72c-.78.78-.78 2.05 0 2.83L4 21.41c.39.39.9.59 1.41.59.51 0 1.02-.2 1.41-.59l7.78-7.78 2.81-2.81c.8-.78.8-2.07 0-2.86zM5.41 20L4 18.59l7.72-7.72 1.47 1.35L5.41 20z\"/>\n",
              "  </svg>\n",
              "      </button>\n",
              "      \n",
              "  <style>\n",
              "    .colab-df-container {\n",
              "      display:flex;\n",
              "      flex-wrap:wrap;\n",
              "      gap: 12px;\n",
              "    }\n",
              "\n",
              "    .colab-df-convert {\n",
              "      background-color: #E8F0FE;\n",
              "      border: none;\n",
              "      border-radius: 50%;\n",
              "      cursor: pointer;\n",
              "      display: none;\n",
              "      fill: #1967D2;\n",
              "      height: 32px;\n",
              "      padding: 0 0 0 0;\n",
              "      width: 32px;\n",
              "    }\n",
              "\n",
              "    .colab-df-convert:hover {\n",
              "      background-color: #E2EBFA;\n",
              "      box-shadow: 0px 1px 2px rgba(60, 64, 67, 0.3), 0px 1px 3px 1px rgba(60, 64, 67, 0.15);\n",
              "      fill: #174EA6;\n",
              "    }\n",
              "\n",
              "    [theme=dark] .colab-df-convert {\n",
              "      background-color: #3B4455;\n",
              "      fill: #D2E3FC;\n",
              "    }\n",
              "\n",
              "    [theme=dark] .colab-df-convert:hover {\n",
              "      background-color: #434B5C;\n",
              "      box-shadow: 0px 1px 3px 1px rgba(0, 0, 0, 0.15);\n",
              "      filter: drop-shadow(0px 1px 2px rgba(0, 0, 0, 0.3));\n",
              "      fill: #FFFFFF;\n",
              "    }\n",
              "  </style>\n",
              "\n",
              "      <script>\n",
              "        const buttonEl =\n",
              "          document.querySelector('#df-ca1b09ac-bdd8-4849-b1c7-dac5147aa893 button.colab-df-convert');\n",
              "        buttonEl.style.display =\n",
              "          google.colab.kernel.accessAllowed ? 'block' : 'none';\n",
              "\n",
              "        async function convertToInteractive(key) {\n",
              "          const element = document.querySelector('#df-ca1b09ac-bdd8-4849-b1c7-dac5147aa893');\n",
              "          const dataTable =\n",
              "            await google.colab.kernel.invokeFunction('convertToInteractive',\n",
              "                                                     [key], {});\n",
              "          if (!dataTable) return;\n",
              "\n",
              "          const docLinkHtml = 'Like what you see? Visit the ' +\n",
              "            '<a target=\"_blank\" href=https://colab.research.google.com/notebooks/data_table.ipynb>data table notebook</a>'\n",
              "            + ' to learn more about interactive tables.';\n",
              "          element.innerHTML = '';\n",
              "          dataTable['output_type'] = 'display_data';\n",
              "          await google.colab.output.renderOutput(dataTable, element);\n",
              "          const docLink = document.createElement('div');\n",
              "          docLink.innerHTML = docLinkHtml;\n",
              "          element.appendChild(docLink);\n",
              "        }\n",
              "      </script>\n",
              "    </div>\n",
              "  </div>\n",
              "  "
            ]
          },
          "metadata": {},
          "execution_count": 12
        }
      ]
    },
    {
      "cell_type": "markdown",
      "source": [
        "splitting into dependent and independent variables"
      ],
      "metadata": {
        "id": "5lQbbZgbTGf6"
      }
    },
    {
      "cell_type": "code",
      "source": [
        "X=data.drop(columns=['Class','Time'])\n",
        "y=pd.DataFrame(data.Class, columns=['Class'])"
      ],
      "metadata": {
        "id": "6Vd48E_pTFs3"
      },
      "execution_count": 13,
      "outputs": []
    },
    {
      "cell_type": "code",
      "source": [
        "X.head()"
      ],
      "metadata": {
        "colab": {
          "base_uri": "https://localhost:8080/",
          "height": 299
        },
        "id": "lN9C35uqTcjN",
        "outputId": "80707dc4-b821-4e81-ba1c-f277d7f9ab36"
      },
      "execution_count": 14,
      "outputs": [
        {
          "output_type": "execute_result",
          "data": {
            "text/plain": [
              "         V1        V2        V3        V4        V5        V6        V7  \\\n",
              "0 -1.359807 -0.072781  2.536347  1.378155 -0.338321  0.462388  0.239599   \n",
              "1  1.191857  0.266151  0.166480  0.448154  0.060018 -0.082361 -0.078803   \n",
              "2 -1.358354 -1.340163  1.773209  0.379780 -0.503198  1.800499  0.791461   \n",
              "3 -0.966272 -0.185226  1.792993 -0.863291 -0.010309  1.247203  0.237609   \n",
              "4 -1.158233  0.877737  1.548718  0.403034 -0.407193  0.095921  0.592941   \n",
              "\n",
              "         V8        V9       V10  ...       V20       V21       V22       V23  \\\n",
              "0  0.098698  0.363787  0.090794  ...  0.251412 -0.018307  0.277838 -0.110474   \n",
              "1  0.085102 -0.255425 -0.166974  ... -0.069083 -0.225775 -0.638672  0.101288   \n",
              "2  0.247676 -1.514654  0.207643  ...  0.524980  0.247998  0.771679  0.909412   \n",
              "3  0.377436 -1.387024 -0.054952  ... -0.208038 -0.108300  0.005274 -0.190321   \n",
              "4 -0.270533  0.817739  0.753074  ...  0.408542 -0.009431  0.798278 -0.137458   \n",
              "\n",
              "        V24       V25       V26       V27       V28  Amount  \n",
              "0  0.066928  0.128539 -0.189115  0.133558 -0.021053  149.62  \n",
              "1 -0.339846  0.167170  0.125895 -0.008983  0.014724    2.69  \n",
              "2 -0.689281 -0.327642 -0.139097 -0.055353 -0.059752  378.66  \n",
              "3 -1.175575  0.647376 -0.221929  0.062723  0.061458  123.50  \n",
              "4  0.141267 -0.206010  0.502292  0.219422  0.215153   69.99  \n",
              "\n",
              "[5 rows x 29 columns]"
            ],
            "text/html": [
              "\n",
              "  <div id=\"df-c423270f-d9e8-4e09-a136-0c306e76ae6c\">\n",
              "    <div class=\"colab-df-container\">\n",
              "      <div>\n",
              "<style scoped>\n",
              "    .dataframe tbody tr th:only-of-type {\n",
              "        vertical-align: middle;\n",
              "    }\n",
              "\n",
              "    .dataframe tbody tr th {\n",
              "        vertical-align: top;\n",
              "    }\n",
              "\n",
              "    .dataframe thead th {\n",
              "        text-align: right;\n",
              "    }\n",
              "</style>\n",
              "<table border=\"1\" class=\"dataframe\">\n",
              "  <thead>\n",
              "    <tr style=\"text-align: right;\">\n",
              "      <th></th>\n",
              "      <th>V1</th>\n",
              "      <th>V2</th>\n",
              "      <th>V3</th>\n",
              "      <th>V4</th>\n",
              "      <th>V5</th>\n",
              "      <th>V6</th>\n",
              "      <th>V7</th>\n",
              "      <th>V8</th>\n",
              "      <th>V9</th>\n",
              "      <th>V10</th>\n",
              "      <th>...</th>\n",
              "      <th>V20</th>\n",
              "      <th>V21</th>\n",
              "      <th>V22</th>\n",
              "      <th>V23</th>\n",
              "      <th>V24</th>\n",
              "      <th>V25</th>\n",
              "      <th>V26</th>\n",
              "      <th>V27</th>\n",
              "      <th>V28</th>\n",
              "      <th>Amount</th>\n",
              "    </tr>\n",
              "  </thead>\n",
              "  <tbody>\n",
              "    <tr>\n",
              "      <th>0</th>\n",
              "      <td>-1.359807</td>\n",
              "      <td>-0.072781</td>\n",
              "      <td>2.536347</td>\n",
              "      <td>1.378155</td>\n",
              "      <td>-0.338321</td>\n",
              "      <td>0.462388</td>\n",
              "      <td>0.239599</td>\n",
              "      <td>0.098698</td>\n",
              "      <td>0.363787</td>\n",
              "      <td>0.090794</td>\n",
              "      <td>...</td>\n",
              "      <td>0.251412</td>\n",
              "      <td>-0.018307</td>\n",
              "      <td>0.277838</td>\n",
              "      <td>-0.110474</td>\n",
              "      <td>0.066928</td>\n",
              "      <td>0.128539</td>\n",
              "      <td>-0.189115</td>\n",
              "      <td>0.133558</td>\n",
              "      <td>-0.021053</td>\n",
              "      <td>149.62</td>\n",
              "    </tr>\n",
              "    <tr>\n",
              "      <th>1</th>\n",
              "      <td>1.191857</td>\n",
              "      <td>0.266151</td>\n",
              "      <td>0.166480</td>\n",
              "      <td>0.448154</td>\n",
              "      <td>0.060018</td>\n",
              "      <td>-0.082361</td>\n",
              "      <td>-0.078803</td>\n",
              "      <td>0.085102</td>\n",
              "      <td>-0.255425</td>\n",
              "      <td>-0.166974</td>\n",
              "      <td>...</td>\n",
              "      <td>-0.069083</td>\n",
              "      <td>-0.225775</td>\n",
              "      <td>-0.638672</td>\n",
              "      <td>0.101288</td>\n",
              "      <td>-0.339846</td>\n",
              "      <td>0.167170</td>\n",
              "      <td>0.125895</td>\n",
              "      <td>-0.008983</td>\n",
              "      <td>0.014724</td>\n",
              "      <td>2.69</td>\n",
              "    </tr>\n",
              "    <tr>\n",
              "      <th>2</th>\n",
              "      <td>-1.358354</td>\n",
              "      <td>-1.340163</td>\n",
              "      <td>1.773209</td>\n",
              "      <td>0.379780</td>\n",
              "      <td>-0.503198</td>\n",
              "      <td>1.800499</td>\n",
              "      <td>0.791461</td>\n",
              "      <td>0.247676</td>\n",
              "      <td>-1.514654</td>\n",
              "      <td>0.207643</td>\n",
              "      <td>...</td>\n",
              "      <td>0.524980</td>\n",
              "      <td>0.247998</td>\n",
              "      <td>0.771679</td>\n",
              "      <td>0.909412</td>\n",
              "      <td>-0.689281</td>\n",
              "      <td>-0.327642</td>\n",
              "      <td>-0.139097</td>\n",
              "      <td>-0.055353</td>\n",
              "      <td>-0.059752</td>\n",
              "      <td>378.66</td>\n",
              "    </tr>\n",
              "    <tr>\n",
              "      <th>3</th>\n",
              "      <td>-0.966272</td>\n",
              "      <td>-0.185226</td>\n",
              "      <td>1.792993</td>\n",
              "      <td>-0.863291</td>\n",
              "      <td>-0.010309</td>\n",
              "      <td>1.247203</td>\n",
              "      <td>0.237609</td>\n",
              "      <td>0.377436</td>\n",
              "      <td>-1.387024</td>\n",
              "      <td>-0.054952</td>\n",
              "      <td>...</td>\n",
              "      <td>-0.208038</td>\n",
              "      <td>-0.108300</td>\n",
              "      <td>0.005274</td>\n",
              "      <td>-0.190321</td>\n",
              "      <td>-1.175575</td>\n",
              "      <td>0.647376</td>\n",
              "      <td>-0.221929</td>\n",
              "      <td>0.062723</td>\n",
              "      <td>0.061458</td>\n",
              "      <td>123.50</td>\n",
              "    </tr>\n",
              "    <tr>\n",
              "      <th>4</th>\n",
              "      <td>-1.158233</td>\n",
              "      <td>0.877737</td>\n",
              "      <td>1.548718</td>\n",
              "      <td>0.403034</td>\n",
              "      <td>-0.407193</td>\n",
              "      <td>0.095921</td>\n",
              "      <td>0.592941</td>\n",
              "      <td>-0.270533</td>\n",
              "      <td>0.817739</td>\n",
              "      <td>0.753074</td>\n",
              "      <td>...</td>\n",
              "      <td>0.408542</td>\n",
              "      <td>-0.009431</td>\n",
              "      <td>0.798278</td>\n",
              "      <td>-0.137458</td>\n",
              "      <td>0.141267</td>\n",
              "      <td>-0.206010</td>\n",
              "      <td>0.502292</td>\n",
              "      <td>0.219422</td>\n",
              "      <td>0.215153</td>\n",
              "      <td>69.99</td>\n",
              "    </tr>\n",
              "  </tbody>\n",
              "</table>\n",
              "<p>5 rows × 29 columns</p>\n",
              "</div>\n",
              "      <button class=\"colab-df-convert\" onclick=\"convertToInteractive('df-c423270f-d9e8-4e09-a136-0c306e76ae6c')\"\n",
              "              title=\"Convert this dataframe to an interactive table.\"\n",
              "              style=\"display:none;\">\n",
              "        \n",
              "  <svg xmlns=\"http://www.w3.org/2000/svg\" height=\"24px\"viewBox=\"0 0 24 24\"\n",
              "       width=\"24px\">\n",
              "    <path d=\"M0 0h24v24H0V0z\" fill=\"none\"/>\n",
              "    <path d=\"M18.56 5.44l.94 2.06.94-2.06 2.06-.94-2.06-.94-.94-2.06-.94 2.06-2.06.94zm-11 1L8.5 8.5l.94-2.06 2.06-.94-2.06-.94L8.5 2.5l-.94 2.06-2.06.94zm10 10l.94 2.06.94-2.06 2.06-.94-2.06-.94-.94-2.06-.94 2.06-2.06.94z\"/><path d=\"M17.41 7.96l-1.37-1.37c-.4-.4-.92-.59-1.43-.59-.52 0-1.04.2-1.43.59L10.3 9.45l-7.72 7.72c-.78.78-.78 2.05 0 2.83L4 21.41c.39.39.9.59 1.41.59.51 0 1.02-.2 1.41-.59l7.78-7.78 2.81-2.81c.8-.78.8-2.07 0-2.86zM5.41 20L4 18.59l7.72-7.72 1.47 1.35L5.41 20z\"/>\n",
              "  </svg>\n",
              "      </button>\n",
              "      \n",
              "  <style>\n",
              "    .colab-df-container {\n",
              "      display:flex;\n",
              "      flex-wrap:wrap;\n",
              "      gap: 12px;\n",
              "    }\n",
              "\n",
              "    .colab-df-convert {\n",
              "      background-color: #E8F0FE;\n",
              "      border: none;\n",
              "      border-radius: 50%;\n",
              "      cursor: pointer;\n",
              "      display: none;\n",
              "      fill: #1967D2;\n",
              "      height: 32px;\n",
              "      padding: 0 0 0 0;\n",
              "      width: 32px;\n",
              "    }\n",
              "\n",
              "    .colab-df-convert:hover {\n",
              "      background-color: #E2EBFA;\n",
              "      box-shadow: 0px 1px 2px rgba(60, 64, 67, 0.3), 0px 1px 3px 1px rgba(60, 64, 67, 0.15);\n",
              "      fill: #174EA6;\n",
              "    }\n",
              "\n",
              "    [theme=dark] .colab-df-convert {\n",
              "      background-color: #3B4455;\n",
              "      fill: #D2E3FC;\n",
              "    }\n",
              "\n",
              "    [theme=dark] .colab-df-convert:hover {\n",
              "      background-color: #434B5C;\n",
              "      box-shadow: 0px 1px 3px 1px rgba(0, 0, 0, 0.15);\n",
              "      filter: drop-shadow(0px 1px 2px rgba(0, 0, 0, 0.3));\n",
              "      fill: #FFFFFF;\n",
              "    }\n",
              "  </style>\n",
              "\n",
              "      <script>\n",
              "        const buttonEl =\n",
              "          document.querySelector('#df-c423270f-d9e8-4e09-a136-0c306e76ae6c button.colab-df-convert');\n",
              "        buttonEl.style.display =\n",
              "          google.colab.kernel.accessAllowed ? 'block' : 'none';\n",
              "\n",
              "        async function convertToInteractive(key) {\n",
              "          const element = document.querySelector('#df-c423270f-d9e8-4e09-a136-0c306e76ae6c');\n",
              "          const dataTable =\n",
              "            await google.colab.kernel.invokeFunction('convertToInteractive',\n",
              "                                                     [key], {});\n",
              "          if (!dataTable) return;\n",
              "\n",
              "          const docLinkHtml = 'Like what you see? Visit the ' +\n",
              "            '<a target=\"_blank\" href=https://colab.research.google.com/notebooks/data_table.ipynb>data table notebook</a>'\n",
              "            + ' to learn more about interactive tables.';\n",
              "          element.innerHTML = '';\n",
              "          dataTable['output_type'] = 'display_data';\n",
              "          await google.colab.output.renderOutput(dataTable, element);\n",
              "          const docLink = document.createElement('div');\n",
              "          docLink.innerHTML = docLinkHtml;\n",
              "          element.appendChild(docLink);\n",
              "        }\n",
              "      </script>\n",
              "    </div>\n",
              "  </div>\n",
              "  "
            ]
          },
          "metadata": {},
          "execution_count": 14
        }
      ]
    },
    {
      "cell_type": "code",
      "source": [
        "X_t,X_test,y_t,y_test = train_test_split(X,y, random_state=0,test_size=0.2)\n",
        "X_train,X_val,y_train,y_val = train_test_split(X_t,y_t, random_state=0,test_size=0.2)"
      ],
      "metadata": {
        "id": "hPhLqzAISfzW"
      },
      "execution_count": 15,
      "outputs": []
    },
    {
      "cell_type": "code",
      "source": [
        "X_train"
      ],
      "metadata": {
        "id": "1TxJxPX5dsYu",
        "colab": {
          "base_uri": "https://localhost:8080/",
          "height": 487
        },
        "outputId": "d7a36448-368b-4a85-8736-95f2af799de5"
      },
      "execution_count": 16,
      "outputs": [
        {
          "output_type": "execute_result",
          "data": {
            "text/plain": [
              "              V1        V2        V3        V4        V5        V6        V7  \\\n",
              "208634  2.109692 -0.282658 -1.601397  0.157529  0.253428 -0.420871 -0.048509   \n",
              "39245   1.053748  0.013416  0.069223  0.626361 -0.335350 -1.013352  0.422449   \n",
              "47254  -0.989392  1.293318  1.115086 -0.717161  0.590306 -0.084739  0.713956   \n",
              "124587 -0.988540 -0.461739  1.980627  0.905616  0.283450 -0.722550 -0.297916   \n",
              "138934 -0.802157  1.247812  1.179001  1.261785 -0.222228  0.229187  0.170057   \n",
              "...          ...       ...       ...       ...       ...       ...       ...   \n",
              "185987  2.001189 -0.094733 -1.090200  0.570819 -0.432203 -1.822925  0.340360   \n",
              "223202  0.447240  1.334847 -3.029222  0.366486  3.793179  3.010099  0.698789   \n",
              "102753 -0.974941  0.689634  0.823912 -0.923401  1.579553 -1.074996  1.055522   \n",
              "49577   0.915184 -0.439310  0.985385  1.309120 -0.886112  0.363668 -0.572176   \n",
              "255798  0.080823  0.918607 -0.345321 -0.615058  0.847077 -0.611251  0.825226   \n",
              "\n",
              "              V8        V9       V10  ...       V20       V21       V22  \\\n",
              "208634 -0.050893  0.957046  0.136783  ... -0.314604 -0.368694 -1.102181   \n",
              "39245  -0.186552 -0.425044  0.099097  ...  0.045924 -0.266699 -1.056257   \n",
              "47254   0.084723 -0.478270 -0.299138  ...  0.004422 -0.112918 -0.418050   \n",
              "124587  0.083711  0.102661 -0.427991  ...  0.444744  0.307675  0.798343   \n",
              "138934  0.680090 -0.703300 -0.157482  ...  0.018610  0.070837  0.389977   \n",
              "...          ...       ...       ...  ...       ...       ...       ...   \n",
              "185987 -0.516663  0.382659  0.112765  ... -0.192362  0.404687  1.402467   \n",
              "223202  0.616111 -1.183914 -0.910841  ...  0.320015  0.084315  0.453962   \n",
              "102753 -0.094849 -0.588977 -1.303515  ... -0.111182 -0.015863 -0.115064   \n",
              "49577   0.353048  0.709260 -0.042226  ... -0.094166  0.214717  0.606470   \n",
              "255798  0.068572 -0.208043 -0.645341  ... -0.011671 -0.287221 -0.757737   \n",
              "\n",
              "             V23       V24       V25       V26       V27       V28  Amount  \n",
              "208634  0.307043 -0.037267 -0.266569  0.215793 -0.094362 -0.064597    8.98  \n",
              "39245   0.083267  0.510509  0.205813 -0.005070 -0.078369  0.017176   93.13  \n",
              "47254  -0.032361 -0.354185 -0.411338 -0.086474 -0.079769  0.190587    3.58  \n",
              "124587  0.128419  0.485237 -0.360081  0.499079  0.118564  0.186870   59.90  \n",
              "138934 -0.072526  0.240541 -0.130200 -0.250525  0.297960  0.133787   14.42  \n",
              "...          ...       ...       ...       ...       ...       ...     ...  \n",
              "185987 -0.014434  1.064466  0.234796  0.948717 -0.092840 -0.066925   17.90  \n",
              "223202 -0.231124  0.566220 -0.634618  1.042536  0.248615  0.270882    0.76  \n",
              "102753 -0.247861 -0.141180  0.127222  0.032042 -0.156552 -0.103905    0.76  \n",
              "49577  -0.151048  0.232794  0.444971 -0.220120  0.048760  0.029466   89.00  \n",
              "255798  0.115478  0.640878 -0.491124  0.088975  0.212796  0.074412    5.34  \n",
              "\n",
              "[181584 rows x 29 columns]"
            ],
            "text/html": [
              "\n",
              "  <div id=\"df-f4215bce-ed74-4b6d-bb9e-23711593d017\">\n",
              "    <div class=\"colab-df-container\">\n",
              "      <div>\n",
              "<style scoped>\n",
              "    .dataframe tbody tr th:only-of-type {\n",
              "        vertical-align: middle;\n",
              "    }\n",
              "\n",
              "    .dataframe tbody tr th {\n",
              "        vertical-align: top;\n",
              "    }\n",
              "\n",
              "    .dataframe thead th {\n",
              "        text-align: right;\n",
              "    }\n",
              "</style>\n",
              "<table border=\"1\" class=\"dataframe\">\n",
              "  <thead>\n",
              "    <tr style=\"text-align: right;\">\n",
              "      <th></th>\n",
              "      <th>V1</th>\n",
              "      <th>V2</th>\n",
              "      <th>V3</th>\n",
              "      <th>V4</th>\n",
              "      <th>V5</th>\n",
              "      <th>V6</th>\n",
              "      <th>V7</th>\n",
              "      <th>V8</th>\n",
              "      <th>V9</th>\n",
              "      <th>V10</th>\n",
              "      <th>...</th>\n",
              "      <th>V20</th>\n",
              "      <th>V21</th>\n",
              "      <th>V22</th>\n",
              "      <th>V23</th>\n",
              "      <th>V24</th>\n",
              "      <th>V25</th>\n",
              "      <th>V26</th>\n",
              "      <th>V27</th>\n",
              "      <th>V28</th>\n",
              "      <th>Amount</th>\n",
              "    </tr>\n",
              "  </thead>\n",
              "  <tbody>\n",
              "    <tr>\n",
              "      <th>208634</th>\n",
              "      <td>2.109692</td>\n",
              "      <td>-0.282658</td>\n",
              "      <td>-1.601397</td>\n",
              "      <td>0.157529</td>\n",
              "      <td>0.253428</td>\n",
              "      <td>-0.420871</td>\n",
              "      <td>-0.048509</td>\n",
              "      <td>-0.050893</td>\n",
              "      <td>0.957046</td>\n",
              "      <td>0.136783</td>\n",
              "      <td>...</td>\n",
              "      <td>-0.314604</td>\n",
              "      <td>-0.368694</td>\n",
              "      <td>-1.102181</td>\n",
              "      <td>0.307043</td>\n",
              "      <td>-0.037267</td>\n",
              "      <td>-0.266569</td>\n",
              "      <td>0.215793</td>\n",
              "      <td>-0.094362</td>\n",
              "      <td>-0.064597</td>\n",
              "      <td>8.98</td>\n",
              "    </tr>\n",
              "    <tr>\n",
              "      <th>39245</th>\n",
              "      <td>1.053748</td>\n",
              "      <td>0.013416</td>\n",
              "      <td>0.069223</td>\n",
              "      <td>0.626361</td>\n",
              "      <td>-0.335350</td>\n",
              "      <td>-1.013352</td>\n",
              "      <td>0.422449</td>\n",
              "      <td>-0.186552</td>\n",
              "      <td>-0.425044</td>\n",
              "      <td>0.099097</td>\n",
              "      <td>...</td>\n",
              "      <td>0.045924</td>\n",
              "      <td>-0.266699</td>\n",
              "      <td>-1.056257</td>\n",
              "      <td>0.083267</td>\n",
              "      <td>0.510509</td>\n",
              "      <td>0.205813</td>\n",
              "      <td>-0.005070</td>\n",
              "      <td>-0.078369</td>\n",
              "      <td>0.017176</td>\n",
              "      <td>93.13</td>\n",
              "    </tr>\n",
              "    <tr>\n",
              "      <th>47254</th>\n",
              "      <td>-0.989392</td>\n",
              "      <td>1.293318</td>\n",
              "      <td>1.115086</td>\n",
              "      <td>-0.717161</td>\n",
              "      <td>0.590306</td>\n",
              "      <td>-0.084739</td>\n",
              "      <td>0.713956</td>\n",
              "      <td>0.084723</td>\n",
              "      <td>-0.478270</td>\n",
              "      <td>-0.299138</td>\n",
              "      <td>...</td>\n",
              "      <td>0.004422</td>\n",
              "      <td>-0.112918</td>\n",
              "      <td>-0.418050</td>\n",
              "      <td>-0.032361</td>\n",
              "      <td>-0.354185</td>\n",
              "      <td>-0.411338</td>\n",
              "      <td>-0.086474</td>\n",
              "      <td>-0.079769</td>\n",
              "      <td>0.190587</td>\n",
              "      <td>3.58</td>\n",
              "    </tr>\n",
              "    <tr>\n",
              "      <th>124587</th>\n",
              "      <td>-0.988540</td>\n",
              "      <td>-0.461739</td>\n",
              "      <td>1.980627</td>\n",
              "      <td>0.905616</td>\n",
              "      <td>0.283450</td>\n",
              "      <td>-0.722550</td>\n",
              "      <td>-0.297916</td>\n",
              "      <td>0.083711</td>\n",
              "      <td>0.102661</td>\n",
              "      <td>-0.427991</td>\n",
              "      <td>...</td>\n",
              "      <td>0.444744</td>\n",
              "      <td>0.307675</td>\n",
              "      <td>0.798343</td>\n",
              "      <td>0.128419</td>\n",
              "      <td>0.485237</td>\n",
              "      <td>-0.360081</td>\n",
              "      <td>0.499079</td>\n",
              "      <td>0.118564</td>\n",
              "      <td>0.186870</td>\n",
              "      <td>59.90</td>\n",
              "    </tr>\n",
              "    <tr>\n",
              "      <th>138934</th>\n",
              "      <td>-0.802157</td>\n",
              "      <td>1.247812</td>\n",
              "      <td>1.179001</td>\n",
              "      <td>1.261785</td>\n",
              "      <td>-0.222228</td>\n",
              "      <td>0.229187</td>\n",
              "      <td>0.170057</td>\n",
              "      <td>0.680090</td>\n",
              "      <td>-0.703300</td>\n",
              "      <td>-0.157482</td>\n",
              "      <td>...</td>\n",
              "      <td>0.018610</td>\n",
              "      <td>0.070837</td>\n",
              "      <td>0.389977</td>\n",
              "      <td>-0.072526</td>\n",
              "      <td>0.240541</td>\n",
              "      <td>-0.130200</td>\n",
              "      <td>-0.250525</td>\n",
              "      <td>0.297960</td>\n",
              "      <td>0.133787</td>\n",
              "      <td>14.42</td>\n",
              "    </tr>\n",
              "    <tr>\n",
              "      <th>...</th>\n",
              "      <td>...</td>\n",
              "      <td>...</td>\n",
              "      <td>...</td>\n",
              "      <td>...</td>\n",
              "      <td>...</td>\n",
              "      <td>...</td>\n",
              "      <td>...</td>\n",
              "      <td>...</td>\n",
              "      <td>...</td>\n",
              "      <td>...</td>\n",
              "      <td>...</td>\n",
              "      <td>...</td>\n",
              "      <td>...</td>\n",
              "      <td>...</td>\n",
              "      <td>...</td>\n",
              "      <td>...</td>\n",
              "      <td>...</td>\n",
              "      <td>...</td>\n",
              "      <td>...</td>\n",
              "      <td>...</td>\n",
              "      <td>...</td>\n",
              "    </tr>\n",
              "    <tr>\n",
              "      <th>185987</th>\n",
              "      <td>2.001189</td>\n",
              "      <td>-0.094733</td>\n",
              "      <td>-1.090200</td>\n",
              "      <td>0.570819</td>\n",
              "      <td>-0.432203</td>\n",
              "      <td>-1.822925</td>\n",
              "      <td>0.340360</td>\n",
              "      <td>-0.516663</td>\n",
              "      <td>0.382659</td>\n",
              "      <td>0.112765</td>\n",
              "      <td>...</td>\n",
              "      <td>-0.192362</td>\n",
              "      <td>0.404687</td>\n",
              "      <td>1.402467</td>\n",
              "      <td>-0.014434</td>\n",
              "      <td>1.064466</td>\n",
              "      <td>0.234796</td>\n",
              "      <td>0.948717</td>\n",
              "      <td>-0.092840</td>\n",
              "      <td>-0.066925</td>\n",
              "      <td>17.90</td>\n",
              "    </tr>\n",
              "    <tr>\n",
              "      <th>223202</th>\n",
              "      <td>0.447240</td>\n",
              "      <td>1.334847</td>\n",
              "      <td>-3.029222</td>\n",
              "      <td>0.366486</td>\n",
              "      <td>3.793179</td>\n",
              "      <td>3.010099</td>\n",
              "      <td>0.698789</td>\n",
              "      <td>0.616111</td>\n",
              "      <td>-1.183914</td>\n",
              "      <td>-0.910841</td>\n",
              "      <td>...</td>\n",
              "      <td>0.320015</td>\n",
              "      <td>0.084315</td>\n",
              "      <td>0.453962</td>\n",
              "      <td>-0.231124</td>\n",
              "      <td>0.566220</td>\n",
              "      <td>-0.634618</td>\n",
              "      <td>1.042536</td>\n",
              "      <td>0.248615</td>\n",
              "      <td>0.270882</td>\n",
              "      <td>0.76</td>\n",
              "    </tr>\n",
              "    <tr>\n",
              "      <th>102753</th>\n",
              "      <td>-0.974941</td>\n",
              "      <td>0.689634</td>\n",
              "      <td>0.823912</td>\n",
              "      <td>-0.923401</td>\n",
              "      <td>1.579553</td>\n",
              "      <td>-1.074996</td>\n",
              "      <td>1.055522</td>\n",
              "      <td>-0.094849</td>\n",
              "      <td>-0.588977</td>\n",
              "      <td>-1.303515</td>\n",
              "      <td>...</td>\n",
              "      <td>-0.111182</td>\n",
              "      <td>-0.015863</td>\n",
              "      <td>-0.115064</td>\n",
              "      <td>-0.247861</td>\n",
              "      <td>-0.141180</td>\n",
              "      <td>0.127222</td>\n",
              "      <td>0.032042</td>\n",
              "      <td>-0.156552</td>\n",
              "      <td>-0.103905</td>\n",
              "      <td>0.76</td>\n",
              "    </tr>\n",
              "    <tr>\n",
              "      <th>49577</th>\n",
              "      <td>0.915184</td>\n",
              "      <td>-0.439310</td>\n",
              "      <td>0.985385</td>\n",
              "      <td>1.309120</td>\n",
              "      <td>-0.886112</td>\n",
              "      <td>0.363668</td>\n",
              "      <td>-0.572176</td>\n",
              "      <td>0.353048</td>\n",
              "      <td>0.709260</td>\n",
              "      <td>-0.042226</td>\n",
              "      <td>...</td>\n",
              "      <td>-0.094166</td>\n",
              "      <td>0.214717</td>\n",
              "      <td>0.606470</td>\n",
              "      <td>-0.151048</td>\n",
              "      <td>0.232794</td>\n",
              "      <td>0.444971</td>\n",
              "      <td>-0.220120</td>\n",
              "      <td>0.048760</td>\n",
              "      <td>0.029466</td>\n",
              "      <td>89.00</td>\n",
              "    </tr>\n",
              "    <tr>\n",
              "      <th>255798</th>\n",
              "      <td>0.080823</td>\n",
              "      <td>0.918607</td>\n",
              "      <td>-0.345321</td>\n",
              "      <td>-0.615058</td>\n",
              "      <td>0.847077</td>\n",
              "      <td>-0.611251</td>\n",
              "      <td>0.825226</td>\n",
              "      <td>0.068572</td>\n",
              "      <td>-0.208043</td>\n",
              "      <td>-0.645341</td>\n",
              "      <td>...</td>\n",
              "      <td>-0.011671</td>\n",
              "      <td>-0.287221</td>\n",
              "      <td>-0.757737</td>\n",
              "      <td>0.115478</td>\n",
              "      <td>0.640878</td>\n",
              "      <td>-0.491124</td>\n",
              "      <td>0.088975</td>\n",
              "      <td>0.212796</td>\n",
              "      <td>0.074412</td>\n",
              "      <td>5.34</td>\n",
              "    </tr>\n",
              "  </tbody>\n",
              "</table>\n",
              "<p>181584 rows × 29 columns</p>\n",
              "</div>\n",
              "      <button class=\"colab-df-convert\" onclick=\"convertToInteractive('df-f4215bce-ed74-4b6d-bb9e-23711593d017')\"\n",
              "              title=\"Convert this dataframe to an interactive table.\"\n",
              "              style=\"display:none;\">\n",
              "        \n",
              "  <svg xmlns=\"http://www.w3.org/2000/svg\" height=\"24px\"viewBox=\"0 0 24 24\"\n",
              "       width=\"24px\">\n",
              "    <path d=\"M0 0h24v24H0V0z\" fill=\"none\"/>\n",
              "    <path d=\"M18.56 5.44l.94 2.06.94-2.06 2.06-.94-2.06-.94-.94-2.06-.94 2.06-2.06.94zm-11 1L8.5 8.5l.94-2.06 2.06-.94-2.06-.94L8.5 2.5l-.94 2.06-2.06.94zm10 10l.94 2.06.94-2.06 2.06-.94-2.06-.94-.94-2.06-.94 2.06-2.06.94z\"/><path d=\"M17.41 7.96l-1.37-1.37c-.4-.4-.92-.59-1.43-.59-.52 0-1.04.2-1.43.59L10.3 9.45l-7.72 7.72c-.78.78-.78 2.05 0 2.83L4 21.41c.39.39.9.59 1.41.59.51 0 1.02-.2 1.41-.59l7.78-7.78 2.81-2.81c.8-.78.8-2.07 0-2.86zM5.41 20L4 18.59l7.72-7.72 1.47 1.35L5.41 20z\"/>\n",
              "  </svg>\n",
              "      </button>\n",
              "      \n",
              "  <style>\n",
              "    .colab-df-container {\n",
              "      display:flex;\n",
              "      flex-wrap:wrap;\n",
              "      gap: 12px;\n",
              "    }\n",
              "\n",
              "    .colab-df-convert {\n",
              "      background-color: #E8F0FE;\n",
              "      border: none;\n",
              "      border-radius: 50%;\n",
              "      cursor: pointer;\n",
              "      display: none;\n",
              "      fill: #1967D2;\n",
              "      height: 32px;\n",
              "      padding: 0 0 0 0;\n",
              "      width: 32px;\n",
              "    }\n",
              "\n",
              "    .colab-df-convert:hover {\n",
              "      background-color: #E2EBFA;\n",
              "      box-shadow: 0px 1px 2px rgba(60, 64, 67, 0.3), 0px 1px 3px 1px rgba(60, 64, 67, 0.15);\n",
              "      fill: #174EA6;\n",
              "    }\n",
              "\n",
              "    [theme=dark] .colab-df-convert {\n",
              "      background-color: #3B4455;\n",
              "      fill: #D2E3FC;\n",
              "    }\n",
              "\n",
              "    [theme=dark] .colab-df-convert:hover {\n",
              "      background-color: #434B5C;\n",
              "      box-shadow: 0px 1px 3px 1px rgba(0, 0, 0, 0.15);\n",
              "      filter: drop-shadow(0px 1px 2px rgba(0, 0, 0, 0.3));\n",
              "      fill: #FFFFFF;\n",
              "    }\n",
              "  </style>\n",
              "\n",
              "      <script>\n",
              "        const buttonEl =\n",
              "          document.querySelector('#df-f4215bce-ed74-4b6d-bb9e-23711593d017 button.colab-df-convert');\n",
              "        buttonEl.style.display =\n",
              "          google.colab.kernel.accessAllowed ? 'block' : 'none';\n",
              "\n",
              "        async function convertToInteractive(key) {\n",
              "          const element = document.querySelector('#df-f4215bce-ed74-4b6d-bb9e-23711593d017');\n",
              "          const dataTable =\n",
              "            await google.colab.kernel.invokeFunction('convertToInteractive',\n",
              "                                                     [key], {});\n",
              "          if (!dataTable) return;\n",
              "\n",
              "          const docLinkHtml = 'Like what you see? Visit the ' +\n",
              "            '<a target=\"_blank\" href=https://colab.research.google.com/notebooks/data_table.ipynb>data table notebook</a>'\n",
              "            + ' to learn more about interactive tables.';\n",
              "          element.innerHTML = '';\n",
              "          dataTable['output_type'] = 'display_data';\n",
              "          await google.colab.output.renderOutput(dataTable, element);\n",
              "          const docLink = document.createElement('div');\n",
              "          docLink.innerHTML = docLinkHtml;\n",
              "          element.appendChild(docLink);\n",
              "        }\n",
              "      </script>\n",
              "    </div>\n",
              "  </div>\n",
              "  "
            ]
          },
          "metadata": {},
          "execution_count": 16
        }
      ]
    },
    {
      "cell_type": "markdown",
      "source": [
        "#UnderSampling and Oversampling"
      ],
      "metadata": {
        "id": "j5kbnQ1H5AVc"
      }
    },
    {
      "cell_type": "code",
      "source": [
        "y_train.Class.value_counts()"
      ],
      "metadata": {
        "colab": {
          "base_uri": "https://localhost:8080/"
        },
        "id": "nyx7AT3C4-kM",
        "outputId": "1877f846-1dae-408e-858b-a54d9b230483"
      },
      "execution_count": null,
      "outputs": [
        {
          "output_type": "execute_result",
          "data": {
            "text/plain": [
              "0    181261\n",
              "1       323\n",
              "Name: Class, dtype: int64"
            ]
          },
          "metadata": {},
          "execution_count": 16
        }
      ]
    },
    {
      "cell_type": "code",
      "source": [
        "cc = ClusterCentroids(sampling_strategy= 0.005 , estimator=MiniBatchKMeans(n_init=1, random_state=0),random_state=42, voting='soft',)\n",
        "X_sampled,y_sampled = cc.fit_resample(X_train,y_train)"
      ],
      "metadata": {
        "id": "ANORrhyS6VFQ"
      },
      "execution_count": null,
      "outputs": []
    },
    {
      "cell_type": "code",
      "source": [
        "y_sampled.Class.value_counts()"
      ],
      "metadata": {
        "id": "3fcAcFiK7ytg",
        "colab": {
          "base_uri": "https://localhost:8080/"
        },
        "outputId": "1d7218fc-b638-4aa8-e214-74f150e139b4"
      },
      "execution_count": null,
      "outputs": [
        {
          "output_type": "execute_result",
          "data": {
            "text/plain": [
              "0    32300\n",
              "1      323\n",
              "Name: Class, dtype: int64"
            ]
          },
          "metadata": {},
          "execution_count": 120
        }
      ]
    },
    {
      "cell_type": "code",
      "source": [
        "X_fin,Y_fin = SMOTE(sampling_strategy=0.025,k_neighbors=5,random_state=42).fit_resample(X_sampled,y_sampled)"
      ],
      "metadata": {
        "id": "wWr6ltjC-tsA"
      },
      "execution_count": null,
      "outputs": []
    },
    {
      "cell_type": "code",
      "source": [
        "Y_fin.Class.value_counts()"
      ],
      "metadata": {
        "colab": {
          "base_uri": "https://localhost:8080/"
        },
        "id": "X5LuQ_87_SwN",
        "outputId": "f22b083a-69e6-4f0e-b635-da9efcf4db7e"
      },
      "execution_count": null,
      "outputs": [
        {
          "output_type": "execute_result",
          "data": {
            "text/plain": [
              "0    32300\n",
              "1      807\n",
              "Name: Class, dtype: int64"
            ]
          },
          "metadata": {},
          "execution_count": 122
        }
      ]
    },
    {
      "cell_type": "markdown",
      "source": [
        "##utils function"
      ],
      "metadata": {
        "id": "Ry--TYTdUKX2"
      }
    },
    {
      "cell_type": "code",
      "source": [
        "scaler = StandardScaler().fit(X_train)\n",
        "X_train_norm= scaler.transform(X_train)\n",
        "X_val_norm  = scaler.transform(X_val)\n",
        "X_test_norm = scaler.transform(X_test)"
      ],
      "metadata": {
        "id": "LGOB3hlbUApI"
      },
      "execution_count": 17,
      "outputs": []
    },
    {
      "cell_type": "code",
      "source": [
        "METRICS = [ \n",
        "      #keras.metrics.BinaryAccuracy(name='accuracy'),\n",
        "      keras.metrics.Precision(name='precision'),\n",
        "      keras.metrics.Recall(name='recall'),\n",
        "      #keras.metrics.AUC(name='auc'),\n",
        "      keras.metrics.AUC(name='prc', curve='PR'), # precision-recall curve\n",
        "]\n"
      ],
      "metadata": {
        "id": "NoXt47jCX6tb"
      },
      "execution_count": 18,
      "outputs": []
    },
    {
      "cell_type": "code",
      "source": [
        "def visualize_results(y_true,y_pred):\n",
        "  print(classification_report(y_true,y_pred))\n",
        "  ConfusionMatrixDisplay.from_predictions(y_true,y_pred)"
      ],
      "metadata": {
        "id": "5hyzIiD18T9b"
      },
      "execution_count": 19,
      "outputs": []
    },
    {
      "cell_type": "code",
      "source": [
        "def create_weighted_binary_crossentropy(zero_weight, one_weight):\n",
        "\n",
        "    def weighted_binary_crossentropy(y_true, y_pred):\n",
        "\n",
        "        b_ce = K.binary_crossentropy(from_logits=True)(y_pred,y_true)\n",
        "\n",
        "        # Apply the weights\n",
        "        print('error 3')\n",
        "        weight_vector = y_true * one_weight + (1. - y_true) * zero_weight\n",
        "        weighted_b_ce = weight_vector * b_ce\n",
        "        print('error 4')\n",
        "        # Return the mean error\n",
        "        return K.mean(weighted_b_ce)\n",
        "\n",
        "    return weighted_binary_crossentropy\n"
      ],
      "metadata": {
        "id": "ptfdykDHnz5T"
      },
      "execution_count": 20,
      "outputs": []
    },
    {
      "cell_type": "markdown",
      "source": [
        "#CNN"
      ],
      "metadata": {
        "id": "17cVlZ6Bi5ye"
      }
    },
    {
      "cell_type": "code",
      "source": [
        "learning_rate_reduction = ReduceLROnPlateau(monitor='prc',  patience = 2,verbose=1,factor=0.25,min_lr=0.000001)"
      ],
      "metadata": {
        "id": "b3faK5RnXjzY"
      },
      "execution_count": null,
      "outputs": []
    },
    {
      "cell_type": "code",
      "source": [
        "\n",
        "\n",
        "def create_cnn():\n",
        "  model = Sequential()\n",
        "  #model.add(Dense(32, activation='relu', input_dim=29))\n",
        "  model.add(Conv1D(256, 3, activation='relu', padding ='same', input_shape=(X_train.shape[-1],1)))\n",
        "  model.add(BatchNormalization())\n",
        "  model.add(Dropout(0.2))\n",
        "\n",
        "  model.add(Flatten())\n",
        "  model.add(Dense(1, activation='sigmoid'))\n",
        "\n",
        "  model.compile(optimizer='rmsprop',loss=tf.keras.losses.BinaryCrossentropy(from_logits=True),metrics=METRICS)\n",
        "  return model\n",
        "\n",
        "\n",
        "\n"
      ],
      "metadata": {
        "id": "m6qNw-_Ikpph"
      },
      "execution_count": null,
      "outputs": []
    },
    {
      "cell_type": "code",
      "source": [
        "cnn=create_cnn()\n",
        "cnn.summary()\n",
        "cnn.fit(X_train_norm,y_train, batch_size=2048, epochs=30, verbose=2, validation_data=(X_val_norm,y_val))"
      ],
      "metadata": {
        "colab": {
          "base_uri": "https://localhost:8080/"
        },
        "id": "9Ryr6LC8rxQg",
        "outputId": "8066d913-0407-48d5-c8e9-e1779692f79a"
      },
      "execution_count": null,
      "outputs": [
        {
          "output_type": "stream",
          "name": "stdout",
          "text": [
            "Model: \"sequential_10\"\n",
            "_________________________________________________________________\n",
            " Layer (type)                Output Shape              Param #   \n",
            "=================================================================\n",
            " conv1d_7 (Conv1D)           (None, 29, 256)           1024      \n",
            "                                                                 \n",
            " batch_normalization_7 (Batc  (None, 29, 256)          1024      \n",
            " hNormalization)                                                 \n",
            "                                                                 \n",
            " dropout_7 (Dropout)         (None, 29, 256)           0         \n",
            "                                                                 \n",
            " flatten_7 (Flatten)         (None, 7424)              0         \n",
            "                                                                 \n",
            " dense_13 (Dense)            (None, 1)                 7425      \n",
            "                                                                 \n",
            "=================================================================\n",
            "Total params: 9,473\n",
            "Trainable params: 8,961\n",
            "Non-trainable params: 512\n",
            "_________________________________________________________________\n",
            "Epoch 1/30\n"
          ]
        },
        {
          "output_type": "stream",
          "name": "stderr",
          "text": [
            "/usr/local/lib/python3.9/dist-packages/keras/backend.py:5703: UserWarning: \"`binary_crossentropy` received `from_logits=True`, but the `output` argument was produced by a Sigmoid activation and thus does not represent logits. Was this intended?\n",
            "  output, from_logits = _get_logits(\n",
            "/usr/local/lib/python3.9/dist-packages/keras/backend.py:5703: UserWarning: \"`binary_crossentropy` received `from_logits=True`, but the `output` argument was produced by a Sigmoid activation and thus does not represent logits. Was this intended?\n",
            "  output, from_logits = _get_logits(\n"
          ]
        },
        {
          "output_type": "stream",
          "name": "stdout",
          "text": [
            "89/89 - 4s - loss: 0.0559 - precision: 0.1078 - recall: 0.6943 - prc: 0.3813 - val_loss: 0.0405 - val_precision: 1.0000 - val_recall: 0.0635 - val_prc: 0.6791 - 4s/epoch - 45ms/step\n",
            "Epoch 2/30\n",
            "89/89 - 2s - loss: 0.0069 - precision: 0.8065 - recall: 0.6966 - prc: 0.6707 - val_loss: 0.0093 - val_precision: 0.8182 - val_recall: 0.4286 - val_prc: 0.7126 - 2s/epoch - 21ms/step\n",
            "Epoch 3/30\n",
            "89/89 - 2s - loss: 0.0066 - precision: 0.7857 - recall: 0.7152 - prc: 0.6751 - val_loss: 0.0051 - val_precision: 0.8605 - val_recall: 0.5873 - val_prc: 0.6777 - 2s/epoch - 20ms/step\n",
            "Epoch 4/30\n",
            "89/89 - 2s - loss: 0.0057 - precision: 0.8188 - recall: 0.7276 - prc: 0.7224 - val_loss: 0.0040 - val_precision: 1.0000 - val_recall: 0.3651 - val_prc: 0.7711 - 2s/epoch - 20ms/step\n",
            "Epoch 5/30\n",
            "89/89 - 2s - loss: 0.0053 - precision: 0.8310 - recall: 0.7461 - prc: 0.7391 - val_loss: 0.0038 - val_precision: 0.9000 - val_recall: 0.4286 - val_prc: 0.7240 - 2s/epoch - 20ms/step\n",
            "Epoch 6/30\n",
            "89/89 - 2s - loss: 0.0050 - precision: 0.8618 - recall: 0.7337 - prc: 0.7314 - val_loss: 0.0052 - val_precision: 0.8276 - val_recall: 0.7619 - val_prc: 0.7078 - 2s/epoch - 20ms/step\n",
            "Epoch 7/30\n",
            "89/89 - 2s - loss: 0.0044 - precision: 0.8357 - recall: 0.7399 - prc: 0.7585 - val_loss: 0.0036 - val_precision: 0.7463 - val_recall: 0.7937 - val_prc: 0.7853 - 2s/epoch - 23ms/step\n",
            "Epoch 8/30\n",
            "89/89 - 2s - loss: 0.0049 - precision: 0.8379 - recall: 0.7523 - prc: 0.7510 - val_loss: 0.0060 - val_precision: 0.9000 - val_recall: 0.4286 - val_prc: 0.5617 - 2s/epoch - 21ms/step\n",
            "Epoch 9/30\n",
            "89/89 - 2s - loss: 0.0044 - precision: 0.8536 - recall: 0.7399 - prc: 0.7529 - val_loss: 0.0046 - val_precision: 0.8475 - val_recall: 0.7937 - val_prc: 0.7430 - 2s/epoch - 20ms/step\n",
            "Epoch 10/30\n",
            "89/89 - 2s - loss: 0.0040 - precision: 0.8581 - recall: 0.7678 - prc: 0.7839 - val_loss: 0.0056 - val_precision: 0.8462 - val_recall: 0.6984 - val_prc: 0.7269 - 2s/epoch - 20ms/step\n",
            "Epoch 11/30\n",
            "89/89 - 2s - loss: 0.0039 - precision: 0.8657 - recall: 0.7585 - prc: 0.7912 - val_loss: 0.0048 - val_precision: 0.7576 - val_recall: 0.7937 - val_prc: 0.7126 - 2s/epoch - 20ms/step\n",
            "Epoch 12/30\n",
            "89/89 - 2s - loss: 0.0039 - precision: 0.8652 - recall: 0.7554 - prc: 0.7782 - val_loss: 0.0043 - val_precision: 0.8033 - val_recall: 0.7778 - val_prc: 0.7544 - 2s/epoch - 22ms/step\n",
            "Epoch 13/30\n",
            "89/89 - 2s - loss: 0.0037 - precision: 0.8711 - recall: 0.7740 - prc: 0.7863 - val_loss: 0.0033 - val_precision: 0.8846 - val_recall: 0.7302 - val_prc: 0.7668 - 2s/epoch - 21ms/step\n",
            "Epoch 14/30\n",
            "89/89 - 2s - loss: 0.0040 - precision: 0.8443 - recall: 0.7554 - prc: 0.7674 - val_loss: 0.0057 - val_precision: 0.7937 - val_recall: 0.7937 - val_prc: 0.7290 - 2s/epoch - 23ms/step\n",
            "Epoch 15/30\n",
            "89/89 - 2s - loss: 0.0037 - precision: 0.8768 - recall: 0.7709 - prc: 0.7936 - val_loss: 0.0032 - val_precision: 0.8545 - val_recall: 0.7460 - val_prc: 0.7680 - 2s/epoch - 20ms/step\n",
            "Epoch 16/30\n",
            "89/89 - 2s - loss: 0.0035 - precision: 0.8732 - recall: 0.7678 - prc: 0.7937 - val_loss: 0.0064 - val_precision: 0.7692 - val_recall: 0.7937 - val_prc: 0.7162 - 2s/epoch - 20ms/step\n",
            "Epoch 17/30\n",
            "89/89 - 2s - loss: 0.0039 - precision: 0.8576 - recall: 0.7647 - prc: 0.7954 - val_loss: 0.0039 - val_precision: 0.8571 - val_recall: 0.7619 - val_prc: 0.7535 - 2s/epoch - 20ms/step\n",
            "Epoch 18/30\n",
            "89/89 - 2s - loss: 0.0036 - precision: 0.8764 - recall: 0.7461 - prc: 0.7922 - val_loss: 0.0064 - val_precision: 0.8033 - val_recall: 0.7778 - val_prc: 0.6759 - 2s/epoch - 20ms/step\n",
            "Epoch 19/30\n",
            "89/89 - 2s - loss: 0.0031 - precision: 0.8786 - recall: 0.7616 - prc: 0.8230 - val_loss: 0.0096 - val_precision: 0.7183 - val_recall: 0.8095 - val_prc: 0.6949 - 2s/epoch - 20ms/step\n",
            "Epoch 20/30\n",
            "89/89 - 2s - loss: 0.0034 - precision: 0.8720 - recall: 0.7802 - prc: 0.8045 - val_loss: 0.0045 - val_precision: 0.8654 - val_recall: 0.7143 - val_prc: 0.7226 - 2s/epoch - 23ms/step\n",
            "Epoch 21/30\n",
            "89/89 - 2s - loss: 0.0033 - precision: 0.8776 - recall: 0.7771 - prc: 0.8018 - val_loss: 0.0061 - val_precision: 0.8545 - val_recall: 0.7460 - val_prc: 0.7319 - 2s/epoch - 21ms/step\n",
            "Epoch 22/30\n",
            "89/89 - 2s - loss: 0.0033 - precision: 0.8940 - recall: 0.7833 - prc: 0.8180 - val_loss: 0.0040 - val_precision: 0.8214 - val_recall: 0.7302 - val_prc: 0.7497 - 2s/epoch - 20ms/step\n",
            "Epoch 23/30\n",
            "89/89 - 2s - loss: 0.0033 - precision: 0.8869 - recall: 0.7771 - prc: 0.8048 - val_loss: 0.0053 - val_precision: 0.7812 - val_recall: 0.7937 - val_prc: 0.7452 - 2s/epoch - 20ms/step\n",
            "Epoch 24/30\n",
            "89/89 - 2s - loss: 0.0031 - precision: 0.8873 - recall: 0.7802 - prc: 0.8131 - val_loss: 0.0090 - val_precision: 0.7727 - val_recall: 0.8095 - val_prc: 0.6976 - 2s/epoch - 20ms/step\n",
            "Epoch 25/30\n",
            "89/89 - 2s - loss: 0.0033 - precision: 0.8857 - recall: 0.7678 - prc: 0.8164 - val_loss: 0.0114 - val_precision: 0.6220 - val_recall: 0.8095 - val_prc: 0.6592 - 2s/epoch - 20ms/step\n",
            "Epoch 26/30\n",
            "89/89 - 2s - loss: 0.0033 - precision: 0.8771 - recall: 0.7957 - prc: 0.8219 - val_loss: 0.0041 - val_precision: 0.8305 - val_recall: 0.7778 - val_prc: 0.7521 - 2s/epoch - 20ms/step\n",
            "Epoch 27/30\n",
            "89/89 - 2s - loss: 0.0031 - precision: 0.8842 - recall: 0.7802 - prc: 0.8221 - val_loss: 0.0085 - val_precision: 0.6329 - val_recall: 0.7937 - val_prc: 0.6718 - 2s/epoch - 23ms/step\n",
            "Epoch 28/30\n",
            "89/89 - 2s - loss: 0.0028 - precision: 0.8982 - recall: 0.7926 - prc: 0.8450 - val_loss: 0.0038 - val_precision: 0.9038 - val_recall: 0.7460 - val_prc: 0.7456 - 2s/epoch - 20ms/step\n",
            "Epoch 29/30\n",
            "89/89 - 2s - loss: 0.0028 - precision: 0.9140 - recall: 0.7895 - prc: 0.8392 - val_loss: 0.0065 - val_precision: 0.8448 - val_recall: 0.7778 - val_prc: 0.7360 - 2s/epoch - 20ms/step\n",
            "Epoch 30/30\n",
            "89/89 - 2s - loss: 0.0030 - precision: 0.8968 - recall: 0.7802 - prc: 0.8295 - val_loss: 0.0059 - val_precision: 0.8545 - val_recall: 0.7460 - val_prc: 0.7131 - 2s/epoch - 20ms/step\n"
          ]
        },
        {
          "output_type": "execute_result",
          "data": {
            "text/plain": [
              "<keras.callbacks.History at 0x7fefc42f8d60>"
            ]
          },
          "metadata": {},
          "execution_count": 95
        }
      ]
    },
    {
      "cell_type": "code",
      "source": [
        "cnn_test_preds= cnn.predict(X_test_norm)\n",
        "cnn_val_preds = cnn.predict(X_val_norm)"
      ],
      "metadata": {
        "colab": {
          "base_uri": "https://localhost:8080/"
        },
        "id": "HVlFsOsp4_Jf",
        "outputId": "ae92bb2d-3025-41ce-81a6-e114b0f7559b"
      },
      "execution_count": null,
      "outputs": [
        {
          "output_type": "stream",
          "name": "stdout",
          "text": [
            "1774/1774 [==============================] - 3s 2ms/step\n",
            "1419/1419 [==============================] - 2s 2ms/step\n"
          ]
        }
      ]
    },
    {
      "cell_type": "code",
      "source": [
        "m=keras.metrics.AUC(name='prc', curve='PR')\n",
        "m.update_state(y_test, cnn_test_preds)\n",
        "m.result().numpy()"
      ],
      "metadata": {
        "colab": {
          "base_uri": "https://localhost:8080/"
        },
        "id": "9HjslmpL-c06",
        "outputId": "0a489bb7-add1-461b-c345-4e36be9ffc60"
      },
      "execution_count": null,
      "outputs": [
        {
          "output_type": "execute_result",
          "data": {
            "text/plain": [
              "0.74683654"
            ]
          },
          "metadata": {},
          "execution_count": 78
        }
      ]
    },
    {
      "cell_type": "code",
      "source": [
        "m=keras.metrics.AUC(name='prc', curve='PR')\n",
        "m.update_state(y_val, cnn_val_preds)\n",
        "m.result().numpy()\n"
      ],
      "metadata": {
        "colab": {
          "base_uri": "https://localhost:8080/"
        },
        "id": "zzUMU2NvZDVs",
        "outputId": "d82246d9-60ac-4934-cdf2-6298746f63c0"
      },
      "execution_count": null,
      "outputs": [
        {
          "output_type": "execute_result",
          "data": {
            "text/plain": [
              "0.67593193"
            ]
          },
          "metadata": {},
          "execution_count": 79
        }
      ]
    },
    {
      "cell_type": "code",
      "source": [
        "visualize_results(y_val, cnn_val_preds>0.5)"
      ],
      "metadata": {
        "colab": {
          "base_uri": "https://localhost:8080/",
          "height": 605
        },
        "id": "Wmm4W_IjgOEU",
        "outputId": "40dba415-436e-430e-d6d1-b6049a1c9396"
      },
      "execution_count": null,
      "outputs": [
        {
          "output_type": "stream",
          "name": "stdout",
          "text": [
            "              precision    recall  f1-score   support\n",
            "\n",
            "           0       1.00      1.00      1.00     45333\n",
            "           1       0.62      0.79      0.69        63\n",
            "\n",
            "    accuracy                           1.00     45396\n",
            "   macro avg       0.81      0.90      0.85     45396\n",
            "weighted avg       1.00      1.00      1.00     45396\n",
            "\n"
          ]
        },
        {
          "output_type": "display_data",
          "data": {
            "text/plain": [
              "<Figure size 640x480 with 2 Axes>"
            ],
            "image/png": "[encoded data removed]"
          },
          "metadata": {}
        }
      ]
    },
    {
      "cell_type": "code",
      "source": [
        "visualize_results(y_test, cnn_test_preds>0.5)"
      ],
      "metadata": {
        "colab": {
          "base_uri": "https://localhost:8080/",
          "height": 605
        },
        "id": "WUqFDLuJ-_J-",
        "outputId": "086d9697-d7e5-40b8-ed6c-caa0b092c8d1"
      },
      "execution_count": null,
      "outputs": [
        {
          "output_type": "stream",
          "name": "stdout",
          "text": [
            "              precision    recall  f1-score   support\n",
            "\n",
            "           0       1.00      1.00      1.00     56659\n",
            "           1       0.63      0.80      0.71        87\n",
            "\n",
            "    accuracy                           1.00     56746\n",
            "   macro avg       0.82      0.90      0.85     56746\n",
            "weighted avg       1.00      1.00      1.00     56746\n",
            "\n"
          ]
        },
        {
          "output_type": "display_data",
          "data": {
            "text/plain": [
              "<Figure size 640x480 with 2 Axes>"
            ],
            "image/png": "[encoded data removed]"
          },
          "metadata": {}
        }
      ]
    },
    {
      "cell_type": "code",
      "source": [
        "PrecisionRecallDisplay.from_predictions(y_test, cnn_test_preds)"
      ],
      "metadata": {
        "colab": {
          "base_uri": "https://localhost:8080/",
          "height": 466
        },
        "id": "F7UEDepbWRE2",
        "outputId": "02996531-dabb-4f2d-eab7-73eb2a7f65ca"
      },
      "execution_count": null,
      "outputs": [
        {
          "output_type": "execute_result",
          "data": {
            "text/plain": [
              "<sklearn.metrics._plot.precision_recall_curve.PrecisionRecallDisplay at 0x7fefb004f3a0>"
            ]
          },
          "metadata": {},
          "execution_count": 82
        },
        {
          "output_type": "display_data",
          "data": {
            "text/plain": [
              "<Figure size 640x480 with 1 Axes>"
            ],
            "image/png": "[encoded data removed]"
          },
          "metadata": {}
        }
      ]
    },
    {
      "cell_type": "markdown",
      "source": [
        "Results with Adam lr=0.001"
      ],
      "metadata": {
        "id": "ZlM0pQ4ZUfa3"
      }
    },
    {
      "cell_type": "code",
      "source": [
        "visualize_results(y_val, cnn_val_preds>0.5)"
      ],
      "metadata": {
        "colab": {
          "base_uri": "https://localhost:8080/",
          "height": 605
        },
        "id": "MNbeIedIUU-7",
        "outputId": "bd71aaef-5dc7-47fd-e8df-907ff1ce94ff"
      },
      "execution_count": null,
      "outputs": [
        {
          "output_type": "stream",
          "name": "stdout",
          "text": [
            "              precision    recall  f1-score   support\n",
            "\n",
            "           0       1.00      1.00      1.00     45333\n",
            "           1       0.62      0.79      0.69        63\n",
            "\n",
            "    accuracy                           1.00     45396\n",
            "   macro avg       0.81      0.90      0.85     45396\n",
            "weighted avg       1.00      1.00      1.00     45396\n",
            "\n"
          ]
        },
        {
          "output_type": "display_data",
          "data": {
            "text/plain": [
              "<Figure size 640x480 with 2 Axes>"
            ],
            "image/png": "[encoded data removed]"
          },
          "metadata": {}
        }
      ]
    },
    {
      "cell_type": "code",
      "source": [
        "visualize_results(y_test, cnn_test_preds>0.5)"
      ],
      "metadata": {
        "colab": {
          "base_uri": "https://localhost:8080/",
          "height": 605
        },
        "id": "C5Vv3y93UZSd",
        "outputId": "e868f2d1-a0d4-43f4-bf71-7134141aa7e3"
      },
      "execution_count": null,
      "outputs": [
        {
          "output_type": "stream",
          "name": "stdout",
          "text": [
            "              precision    recall  f1-score   support\n",
            "\n",
            "           0       1.00      1.00      1.00     56659\n",
            "           1       0.63      0.80      0.71        87\n",
            "\n",
            "    accuracy                           1.00     56746\n",
            "   macro avg       0.82      0.90      0.85     56746\n",
            "weighted avg       1.00      1.00      1.00     56746\n",
            "\n"
          ]
        },
        {
          "output_type": "display_data",
          "data": {
            "text/plain": [
              "<Figure size 640x480 with 2 Axes>"
            ],
            "image/png": "[encoded data removed]"
          },
          "metadata": {}
        }
      ]
    },
    {
      "cell_type": "markdown",
      "source": [
        "Results with RMSPROP"
      ],
      "metadata": {
        "id": "nkL2LuMjURDo"
      }
    },
    {
      "cell_type": "code",
      "source": [
        "visualize_results(y_val, cnn_val_preds>0.5)"
      ],
      "metadata": {
        "colab": {
          "base_uri": "https://localhost:8080/",
          "height": 605
        },
        "id": "-eJRhYEU5Bbl",
        "outputId": "2031e16c-9512-438c-f345-679d28cc685a"
      },
      "execution_count": null,
      "outputs": [
        {
          "output_type": "stream",
          "name": "stdout",
          "text": [
            "              precision    recall  f1-score   support\n",
            "\n",
            "           0       1.00      1.00      1.00     45333\n",
            "           1       0.82      0.78      0.80        63\n",
            "\n",
            "    accuracy                           1.00     45396\n",
            "   macro avg       0.91      0.89      0.90     45396\n",
            "weighted avg       1.00      1.00      1.00     45396\n",
            "\n"
          ]
        },
        {
          "output_type": "display_data",
          "data": {
            "text/plain": [
              "<Figure size 640x480 with 2 Axes>"
            ],
            "image/png": "[encoded data removed]"
          },
          "metadata": {}
        }
      ]
    },
    {
      "cell_type": "code",
      "source": [
        "visualize_results(y_test, cnn_test_preds>0.5)"
      ],
      "metadata": {
        "colab": {
          "base_uri": "https://localhost:8080/",
          "height": 605
        },
        "id": "qNt4poCsQ-Ct",
        "outputId": "bb5b18db-e044-4bbc-88fa-429b71e49e9c"
      },
      "execution_count": null,
      "outputs": [
        {
          "output_type": "stream",
          "name": "stdout",
          "text": [
            "              precision    recall  f1-score   support\n",
            "\n",
            "           0       1.00      1.00      1.00     56659\n",
            "           1       0.80      0.77      0.78        87\n",
            "\n",
            "    accuracy                           1.00     56746\n",
            "   macro avg       0.90      0.88      0.89     56746\n",
            "weighted avg       1.00      1.00      1.00     56746\n",
            "\n"
          ]
        },
        {
          "output_type": "display_data",
          "data": {
            "text/plain": [
              "<Figure size 640x480 with 2 Axes>"
            ],
            "image/png": "[encoded data removed]"
          },
          "metadata": {}
        }
      ]
    },
    {
      "cell_type": "markdown",
      "source": [
        "#ANN model"
      ],
      "metadata": {
        "id": "vLA0sTSIjleG"
      }
    },
    {
      "cell_type": "code",
      "source": [
        "X_train.shape"
      ],
      "metadata": {
        "colab": {
          "base_uri": "https://localhost:8080/"
        },
        "id": "CUsuLUblhQFu",
        "outputId": "121ccf31-d0d3-43d3-c23c-d4431f497990"
      },
      "execution_count": null,
      "outputs": [
        {
          "output_type": "execute_result",
          "data": {
            "text/plain": [
              "(181584, 29)"
            ]
          },
          "metadata": {},
          "execution_count": 102
        }
      ]
    },
    {
      "cell_type": "code",
      "source": [
        "from sklearn.utils import class_weight\n",
        "class_weights = class_weight.compute_class_weight(class_weight='balanced',\n",
        "                classes=np.unique(y_train.Class), \n",
        "                y=y_train.Class)"
      ],
      "metadata": {
        "id": "3kUV2_Juyjno"
      },
      "execution_count": null,
      "outputs": []
    },
    {
      "cell_type": "code",
      "source": [
        "train_class_weights = dict(enumerate(class_weights))\n",
        "print(train_class_weights)"
      ],
      "metadata": {
        "colab": {
          "base_uri": "https://localhost:8080/"
        },
        "id": "u4MmYxyo0Wn6",
        "outputId": "43cb9753-acf8-4787-bb22-8ca1f195da51"
      },
      "execution_count": null,
      "outputs": [
        {
          "output_type": "stream",
          "name": "stdout",
          "text": [
            "{0: 0.5008909804094648, 1: 281.08978328173373}\n"
          ]
        }
      ]
    },
    {
      "cell_type": "code",
      "source": [
        "def create_dnn():\n",
        "  model = Sequential()\n",
        "  model.add(Dense(32, activation='relu', input_dim=X_train.shape[-1]))\n",
        "  model.add(Dense(1, activation='sigmoid'))\n",
        "\n",
        "  model.compile(optimizer='Adam',loss='binary_crossentropy',metrics=METRICS)\n",
        "  return model                              "
      ],
      "metadata": {
        "id": "fax-PYn0r0Fo"
      },
      "execution_count": null,
      "outputs": []
    },
    {
      "cell_type": "code",
      "source": [
        "w=0.1\n",
        "dnn_model=create_dnn()\n",
        "dnn_model.summary()\n",
        "dnn_model.fit(X_train_norm,y_train, batch_size=2048, epochs=25, verbose =1, validation_data=(X_val_norm,y_val))"
      ],
      "metadata": {
        "id": "h5rm94uq7zXM",
        "colab": {
          "base_uri": "https://localhost:8080/"
        },
        "outputId": "00a38459-ff4d-456e-e8cf-b24cab824091"
      },
      "execution_count": null,
      "outputs": [
        {
          "output_type": "stream",
          "name": "stdout",
          "text": [
            "Model: \"sequential_9\"\n",
            "_________________________________________________________________\n",
            " Layer (type)                Output Shape              Param #   \n",
            "=================================================================\n",
            " dense_11 (Dense)            (None, 32)                960       \n",
            "                                                                 \n",
            " dense_12 (Dense)            (None, 1)                 33        \n",
            "                                                                 \n",
            "=================================================================\n",
            "Total params: 993\n",
            "Trainable params: 993\n",
            "Non-trainable params: 0\n",
            "_________________________________________________________________\n",
            "Epoch 1/25\n",
            "89/89 [==============================] - 2s 9ms/step - loss: 0.3747 - precision: 0.0121 - recall: 0.5596 - prc: 0.2836 - val_loss: 0.1704 - val_precision: 0.6316 - val_recall: 0.3810 - val_prc: 0.3810\n",
            "Epoch 2/25\n",
            "89/89 [==============================] - 1s 7ms/step - loss: 0.1076 - precision: 0.8556 - recall: 0.4768 - prc: 0.4372 - val_loss: 0.0639 - val_precision: 0.8333 - val_recall: 0.5556 - val_prc: 0.5612\n",
            "Epoch 3/25\n",
            "89/89 [==============================] - 1s 7ms/step - loss: 0.0468 - precision: 0.8768 - recall: 0.5511 - prc: 0.5402 - val_loss: 0.0325 - val_precision: 0.8444 - val_recall: 0.6032 - val_prc: 0.6075\n",
            "Epoch 4/25\n",
            "89/89 [==============================] - 1s 7ms/step - loss: 0.0266 - precision: 0.8918 - recall: 0.6378 - prc: 0.6046 - val_loss: 0.0200 - val_precision: 0.8837 - val_recall: 0.6032 - val_prc: 0.6182\n",
            "Epoch 5/25\n",
            "89/89 [==============================] - 1s 8ms/step - loss: 0.0178 - precision: 0.8848 - recall: 0.5944 - prc: 0.6182 - val_loss: 0.0140 - val_precision: 0.8864 - val_recall: 0.6190 - val_prc: 0.6562\n",
            "Epoch 6/25\n",
            "89/89 [==============================] - 0s 5ms/step - loss: 0.0132 - precision: 0.8899 - recall: 0.6254 - prc: 0.6409 - val_loss: 0.0106 - val_precision: 0.8913 - val_recall: 0.6508 - val_prc: 0.6759\n",
            "Epoch 7/25\n",
            "89/89 [==============================] - 0s 5ms/step - loss: 0.0105 - precision: 0.8974 - recall: 0.6502 - prc: 0.6660 - val_loss: 0.0085 - val_precision: 0.8571 - val_recall: 0.6667 - val_prc: 0.6873\n",
            "Epoch 8/25\n",
            "89/89 [==============================] - 0s 5ms/step - loss: 0.0087 - precision: 0.8912 - recall: 0.6594 - prc: 0.6946 - val_loss: 0.0072 - val_precision: 0.8462 - val_recall: 0.6984 - val_prc: 0.6964\n",
            "Epoch 9/25\n",
            "89/89 [==============================] - 0s 6ms/step - loss: 0.0075 - precision: 0.8975 - recall: 0.6780 - prc: 0.7046 - val_loss: 0.0062 - val_precision: 0.8627 - val_recall: 0.6984 - val_prc: 0.7159\n",
            "Epoch 10/25\n",
            "89/89 [==============================] - 0s 5ms/step - loss: 0.0067 - precision: 0.8963 - recall: 0.6687 - prc: 0.7285 - val_loss: 0.0055 - val_precision: 0.8600 - val_recall: 0.6825 - val_prc: 0.7401\n",
            "Epoch 11/25\n",
            "89/89 [==============================] - 0s 6ms/step - loss: 0.0060 - precision: 0.8988 - recall: 0.6873 - prc: 0.7415 - val_loss: 0.0050 - val_precision: 0.8462 - val_recall: 0.6984 - val_prc: 0.7398\n",
            "Epoch 12/25\n",
            "89/89 [==============================] - 1s 6ms/step - loss: 0.0056 - precision: 0.8972 - recall: 0.7028 - prc: 0.7437 - val_loss: 0.0046 - val_precision: 0.8462 - val_recall: 0.6984 - val_prc: 0.7472\n",
            "Epoch 13/25\n",
            "89/89 [==============================] - 0s 5ms/step - loss: 0.0052 - precision: 0.9020 - recall: 0.7121 - prc: 0.7539 - val_loss: 0.0043 - val_precision: 0.8462 - val_recall: 0.6984 - val_prc: 0.7537\n",
            "Epoch 14/25\n",
            "89/89 [==============================] - 0s 5ms/step - loss: 0.0048 - precision: 0.9016 - recall: 0.7090 - prc: 0.7604 - val_loss: 0.0040 - val_precision: 0.9318 - val_recall: 0.6508 - val_prc: 0.7668\n",
            "Epoch 15/25\n",
            "89/89 [==============================] - 0s 6ms/step - loss: 0.0046 - precision: 0.8956 - recall: 0.6904 - prc: 0.7683 - val_loss: 0.0038 - val_precision: 0.8462 - val_recall: 0.6984 - val_prc: 0.7658\n",
            "Epoch 16/25\n",
            "89/89 [==============================] - 1s 6ms/step - loss: 0.0044 - precision: 0.9044 - recall: 0.7028 - prc: 0.7729 - val_loss: 0.0036 - val_precision: 0.8462 - val_recall: 0.6984 - val_prc: 0.7680\n",
            "Epoch 17/25\n",
            "89/89 [==============================] - 1s 6ms/step - loss: 0.0042 - precision: 0.9012 - recall: 0.6780 - prc: 0.7861 - val_loss: 0.0036 - val_precision: 0.8491 - val_recall: 0.7143 - val_prc: 0.7673\n",
            "Epoch 18/25\n",
            "89/89 [==============================] - 1s 6ms/step - loss: 0.0040 - precision: 0.9051 - recall: 0.7090 - prc: 0.7903 - val_loss: 0.0034 - val_precision: 0.8491 - val_recall: 0.7143 - val_prc: 0.7831\n",
            "Epoch 19/25\n",
            "89/89 [==============================] - 0s 6ms/step - loss: 0.0038 - precision: 0.8988 - recall: 0.7152 - prc: 0.8001 - val_loss: 0.0032 - val_precision: 0.8491 - val_recall: 0.7143 - val_prc: 0.7926\n",
            "Epoch 20/25\n",
            "89/89 [==============================] - 0s 6ms/step - loss: 0.0037 - precision: 0.9066 - recall: 0.7214 - prc: 0.8094 - val_loss: 0.0032 - val_precision: 0.8491 - val_recall: 0.7143 - val_prc: 0.7953\n",
            "Epoch 21/25\n",
            "89/89 [==============================] - 0s 6ms/step - loss: 0.0036 - precision: 0.9062 - recall: 0.7183 - prc: 0.8165 - val_loss: 0.0032 - val_precision: 0.8491 - val_recall: 0.7143 - val_prc: 0.7866\n",
            "Epoch 22/25\n",
            "89/89 [==============================] - 0s 6ms/step - loss: 0.0035 - precision: 0.8976 - recall: 0.7059 - prc: 0.8224 - val_loss: 0.0031 - val_precision: 0.8491 - val_recall: 0.7143 - val_prc: 0.7927\n",
            "Epoch 23/25\n",
            "89/89 [==============================] - 1s 6ms/step - loss: 0.0034 - precision: 0.8984 - recall: 0.7121 - prc: 0.8240 - val_loss: 0.0030 - val_precision: 0.8491 - val_recall: 0.7143 - val_prc: 0.8034\n",
            "Epoch 24/25\n",
            "89/89 [==============================] - 0s 5ms/step - loss: 0.0033 - precision: 0.8992 - recall: 0.7183 - prc: 0.8285 - val_loss: 0.0030 - val_precision: 0.8333 - val_recall: 0.7143 - val_prc: 0.8001\n",
            "Epoch 25/25\n",
            "89/89 [==============================] - 1s 7ms/step - loss: 0.0032 - precision: 0.8889 - recall: 0.7183 - prc: 0.8312 - val_loss: 0.0029 - val_precision: 0.8333 - val_recall: 0.7143 - val_prc: 0.8027\n"
          ]
        },
        {
          "output_type": "execute_result",
          "data": {
            "text/plain": [
              "<keras.callbacks.History at 0x7fefa85df070>"
            ]
          },
          "metadata": {},
          "execution_count": 86
        }
      ]
    },
    {
      "cell_type": "code",
      "source": [
        "dense_test_preds= dnn_model.predict(X_test_norm)\n",
        "dense_val_preds = dnn_model.predict(X_val_norm)"
      ],
      "metadata": {
        "colab": {
          "base_uri": "https://localhost:8080/"
        },
        "id": "EyfVVgvByjS3",
        "outputId": "3d96864e-b30c-44c0-b621-f1e4eb34fc91"
      },
      "execution_count": null,
      "outputs": [
        {
          "output_type": "stream",
          "name": "stdout",
          "text": [
            "1774/1774 [==============================] - 3s 1ms/step\n",
            "1419/1419 [==============================] - 3s 2ms/step\n"
          ]
        }
      ]
    },
    {
      "cell_type": "markdown",
      "source": [
        "PRAUC"
      ],
      "metadata": {
        "id": "AxhimopehxTi"
      }
    },
    {
      "cell_type": "code",
      "source": [
        "pd.DataFrame(dense_test_preds>0.5).value_counts()"
      ],
      "metadata": {
        "colab": {
          "base_uri": "https://localhost:8080/"
        },
        "id": "UXm3FoFsuOaU",
        "outputId": "5fe8d5c1-9c82-4863-cca1-1387464b4ba8"
      },
      "execution_count": null,
      "outputs": [
        {
          "output_type": "execute_result",
          "data": {
            "text/plain": [
              "False    56674\n",
              "True        72\n",
              "dtype: int64"
            ]
          },
          "metadata": {},
          "execution_count": 88
        }
      ]
    },
    {
      "cell_type": "code",
      "source": [
        "m = keras.metrics.AUC(name='prc', curve='PR')\n",
        "m.update_state(y_val, dense_val_preds)\n",
        "m.result().numpy()"
      ],
      "metadata": {
        "colab": {
          "base_uri": "https://localhost:8080/"
        },
        "id": "1nt_HXh66JZB",
        "outputId": "a25b620a-86df-4d59-f7d8-e8bf25d3dc49"
      },
      "execution_count": null,
      "outputs": [
        {
          "output_type": "execute_result",
          "data": {
            "text/plain": [
              "0.8026731"
            ]
          },
          "metadata": {},
          "execution_count": 89
        }
      ]
    },
    {
      "cell_type": "code",
      "source": [
        "m = keras.metrics.AUC(name='prc', curve='PR')\n",
        "m.update_state(y_test, dense_test_preds)\n",
        "m.result().numpy()"
      ],
      "metadata": {
        "colab": {
          "base_uri": "https://localhost:8080/"
        },
        "id": "uZkbKJvrZnnX",
        "outputId": "49e31431-8e4d-4acf-86d5-725dfa0a67ed"
      },
      "execution_count": null,
      "outputs": [
        {
          "output_type": "execute_result",
          "data": {
            "text/plain": [
              "0.77384025"
            ]
          },
          "metadata": {},
          "execution_count": 90
        }
      ]
    },
    {
      "cell_type": "code",
      "source": [
        "visualize_results(y_val, dense_val_preds>0.5)"
      ],
      "metadata": {
        "id": "TsHBx0cPz-7f",
        "colab": {
          "base_uri": "https://localhost:8080/",
          "height": 605
        },
        "outputId": "d939a57b-4cab-4617-f8e7-b5fac167519d"
      },
      "execution_count": null,
      "outputs": [
        {
          "output_type": "stream",
          "name": "stdout",
          "text": [
            "              precision    recall  f1-score   support\n",
            "\n",
            "           0       1.00      1.00      1.00     45333\n",
            "           1       0.83      0.71      0.77        63\n",
            "\n",
            "    accuracy                           1.00     45396\n",
            "   macro avg       0.92      0.86      0.88     45396\n",
            "weighted avg       1.00      1.00      1.00     45396\n",
            "\n"
          ]
        },
        {
          "output_type": "display_data",
          "data": {
            "text/plain": [
              "<Figure size 640x480 with 2 Axes>"
            ],
            "image/png": "[encoded data removed]"
          },
          "metadata": {}
        }
      ]
    },
    {
      "cell_type": "code",
      "source": [
        "visualize_results(y_test,dense_test_preds>0.5)"
      ],
      "metadata": {
        "id": "jdQ6Q-Jd3Cew",
        "colab": {
          "base_uri": "https://localhost:8080/",
          "height": 605
        },
        "outputId": "7fb58ad9-e3c3-4fb0-a802-db186f84f590"
      },
      "execution_count": null,
      "outputs": [
        {
          "output_type": "stream",
          "name": "stdout",
          "text": [
            "              precision    recall  f1-score   support\n",
            "\n",
            "           0       1.00      1.00      1.00     56659\n",
            "           1       0.82      0.68      0.74        87\n",
            "\n",
            "    accuracy                           1.00     56746\n",
            "   macro avg       0.91      0.84      0.87     56746\n",
            "weighted avg       1.00      1.00      1.00     56746\n",
            "\n"
          ]
        },
        {
          "output_type": "display_data",
          "data": {
            "text/plain": [
              "<Figure size 640x480 with 2 Axes>"
            ],
            "image/png": "[encoded data removed]"
          },
          "metadata": {}
        }
      ]
    },
    {
      "cell_type": "code",
      "source": [
        "PrecisionRecallDisplay.from_predictions(y_test, dense_test_preds)"
      ],
      "metadata": {
        "colab": {
          "base_uri": "https://localhost:8080/",
          "height": 466
        },
        "id": "EYyTnEgcbJjX",
        "outputId": "024cadb9-606e-4f92-f3aa-4766cdecbe35"
      },
      "execution_count": null,
      "outputs": [
        {
          "output_type": "execute_result",
          "data": {
            "text/plain": [
              "<sklearn.metrics._plot.precision_recall_curve.PrecisionRecallDisplay at 0x7fefb0446430>"
            ]
          },
          "metadata": {},
          "execution_count": 93
        },
        {
          "output_type": "display_data",
          "data": {
            "text/plain": [
              "<Figure size 640x480 with 1 Axes>"
            ],
            "image/png": "[encoded data removed]"
          },
          "metadata": {}
        }
      ]
    },
    {
      "cell_type": "markdown",
      "source": [
        "##Weighted loss function"
      ],
      "metadata": {
        "id": "RyqnDcywR-YA"
      }
    },
    {
      "cell_type": "markdown",
      "source": [
        "#custom loss cnn"
      ],
      "metadata": {
        "id": "YvZ2iUXNjy81"
      }
    },
    {
      "cell_type": "code",
      "source": [
        "import tensorflow as tf\n",
        "\n",
        "def create_cnn_cust():\n",
        "  model = Sequential()\n",
        "  model.add(Dense(32, activation='relu', input_dim=29))\n",
        "  # model.add(Conv1D(256, 3, activation='relu', padding ='same', input_shape=(29,1)))\n",
        "  model.add(Dropout(0.2))\n",
        "\n",
        "  # model.add(Flatten())\n",
        "  model.add(Dense(1, activation='sigmoid'))\n",
        "\n",
        "  model.compile(optimizer='rmsprop',loss=tf.keras.losses.BinaryCrossentropy(from_logits=True),metrics=METRICS)\n",
        "  return model\n",
        "\n",
        "\n",
        "\n"
      ],
      "metadata": {
        "id": "uCoqRo_EARfA"
      },
      "execution_count": 31,
      "outputs": []
    },
    {
      "cell_type": "code",
      "source": [
        "cnn_cust=create_cnn_cust()\n",
        "cnn_cust.summary()"
      ],
      "metadata": {
        "colab": {
          "base_uri": "https://localhost:8080/"
        },
        "id": "CqzahSjHVEsM",
        "outputId": "8d77afa2-f42a-4ead-fa62-ffb941944fc4"
      },
      "execution_count": 32,
      "outputs": [
        {
          "output_type": "stream",
          "name": "stdout",
          "text": [
            "Model: \"sequential_29\"\n",
            "_________________________________________________________________\n",
            " Layer (type)                Output Shape              Param #   \n",
            "=================================================================\n",
            " dense_29 (Dense)            (None, 32)                960       \n",
            "                                                                 \n",
            " dropout_29 (Dropout)        (None, 32)                0         \n",
            "                                                                 \n",
            " dense_30 (Dense)            (None, 1)                 33        \n",
            "                                                                 \n",
            "=================================================================\n",
            "Total params: 993\n",
            "Trainable params: 993\n",
            "Non-trainable params: 0\n",
            "_________________________________________________________________\n"
          ]
        }
      ]
    },
    {
      "cell_type": "code",
      "source": [
        "w=0.02\n",
        "validation_preds=[]\n",
        "while(w<=0.2): \n",
        "  print(\"******************************for w = \",w)\n",
        "  cnn_cust=create_cnn_cust()\n",
        "  cnn_cust.summary()\n",
        "  cnn_cust.fit(X_train_norm,y_train, batch_size=2048,epochs=20, verbose=1, validation_data=(X_val_norm,y_val), class_weight={0: w, 1: 1-w})\n",
        "  cnn_cust_val_preds = cnn_cust.predict(X_val_norm)>0.5\n",
        "  #cnn_cust_test_preds= cnn_cust.predict(X_test_norm)>0.5\n",
        "  validation_preds.append(cnn_cust_val_preds)\n",
        "  w+=0.01\n",
        "  "
      ],
      "metadata": {
        "id": "WBT8soSWVOWt"
      },
      "execution_count": null,
      "outputs": []
    },
    {
      "cell_type": "markdown",
      "source": [
        "Classification Report for various weight distributions"
      ],
      "metadata": {
        "id": "QozWxQs_wO9Z"
      }
    },
    {
      "cell_type": "code",
      "source": [
        "for i in range(len(validation_preds)):\n",
        "  print(\"CLASSIFICATION REPORT FOR W=\", 0.01 +i*(0.01))\n",
        "  print(classification_report(y_val, validation_preds[i]))"
      ],
      "metadata": {
        "id": "v3fFzMWIwNgb"
      },
      "execution_count": null,
      "outputs": []
    },
    {
      "cell_type": "code",
      "source": [
        "cnn_cust_val_preds = cnn_cust.predict(X_val_norm)>0.5\n",
        "cnn_cust_test_preds= cnn_cust.predict(X_test_norm)>0.5"
      ],
      "metadata": {
        "id": "czNZM9cKVoqA"
      },
      "execution_count": null,
      "outputs": []
    },
    {
      "cell_type": "code",
      "source": [
        "visualize_results(y_val,cnn_cust_val_preds)"
      ],
      "metadata": {
        "colab": {
          "base_uri": "https://localhost:8080/",
          "height": 605
        },
        "id": "ohc4K9gKh0Oq",
        "outputId": "12b00e17-bcce-484d-a234-ac35fa82f859"
      },
      "execution_count": null,
      "outputs": [
        {
          "output_type": "stream",
          "name": "stdout",
          "text": [
            "              precision    recall  f1-score   support\n",
            "\n",
            "           0       1.00      1.00      1.00     45333\n",
            "           1       0.71      0.79      0.75        63\n",
            "\n",
            "    accuracy                           1.00     45396\n",
            "   macro avg       0.86      0.90      0.88     45396\n",
            "weighted avg       1.00      1.00      1.00     45396\n",
            "\n"
          ]
        },
        {
          "output_type": "display_data",
          "data": {
            "text/plain": [
              "<Figure size 640x480 with 2 Axes>"
            ],
            "image/png": "[encoded data removed]"
          },
          "metadata": {}
        }
      ]
    },
    {
      "cell_type": "code",
      "source": [
        "visualize_results(y_test,cnn_cust_test_preds)"
      ],
      "metadata": {
        "colab": {
          "base_uri": "https://localhost:8080/",
          "height": 605
        },
        "id": "kGr3CbYYiEND",
        "outputId": "c97626f1-f40d-4d1b-a061-45cd160ccf28"
      },
      "execution_count": null,
      "outputs": [
        {
          "output_type": "stream",
          "name": "stdout",
          "text": [
            "              precision    recall  f1-score   support\n",
            "\n",
            "           0       1.00      1.00      1.00     56659\n",
            "           1       0.68      0.78      0.73        87\n",
            "\n",
            "    accuracy                           1.00     56746\n",
            "   macro avg       0.84      0.89      0.86     56746\n",
            "weighted avg       1.00      1.00      1.00     56746\n",
            "\n"
          ]
        },
        {
          "output_type": "display_data",
          "data": {
            "text/plain": [
              "<Figure size 640x480 with 2 Axes>"
            ],
            "image/png": "[encoded data removed]"
          },
          "metadata": {}
        }
      ]
    },
    {
      "cell_type": "markdown",
      "source": [
        "cnn + rmsprop + weighted loss"
      ],
      "metadata": {
        "id": "VxNx80boN7Tu"
      }
    },
    {
      "cell_type": "code",
      "source": [
        "w=0.02\n",
        "validation_preds_rms=[]\n",
        "while(w<=0.2): \n",
        "  print(\"******************************for w = \",w)\n",
        "  cnn_cust=create_cnn_cust()\n",
        "  cnn_cust.summary()\n",
        "  cnn_cust.fit(X_train_norm,y_train, batch_size=2048,epochs=20, verbose=1, validation_data=(X_val_norm,y_val), class_weight={0: w, 1: 1-w})\n",
        "  cnn_cust_val_preds = cnn_cust.predict(X_val_norm)>0.5\n",
        "  #cnn_cust_test_preds= cnn_cust.predict(X_test_norm)>0.5\n",
        "  validation_preds_rms.append(cnn_cust_val_preds)\n",
        "  w+=0.01"
      ],
      "metadata": {
        "id": "8PxgJHjYiR9M"
      },
      "execution_count": null,
      "outputs": []
    },
    {
      "cell_type": "code",
      "source": [
        "for i in range(len(validation_preds)):\n",
        "  print(\"CLASSIFICATION REPORT FOR W=\", 0.01 +i*(0.01))\n",
        "  print(classification_report(y_val, validation_preds_rms[i]))"
      ],
      "metadata": {
        "id": "lXVGV6HGO3MI"
      },
      "execution_count": null,
      "outputs": []
    },
    {
      "cell_type": "code",
      "source": [
        "w=0.01\n",
        "val_preds_rms_gamma=[]\n",
        "parameters=[]\n",
        "for gamma in range(2,3):\n",
        "  w=0.3\n",
        "  while(w<=0.5): \n",
        "      print(\"****************************** w = \",w)\n",
        "      print(\"****************************** w = \",gamma)\n",
        "      cnn_cust=create_cnn_cust()\n",
        "      cnn_cust.summary()\n",
        "      cnn_cust.fit(X_train_norm,y_train, batch_size=2048,epochs=15, verbose=1, validation_data=(X_val_norm,y_val), class_weight={0: w**gamma, 1: (1-w)**gamma})\n",
        "      cnn_cust_val_preds = cnn_cust.predict(X_val_norm)>0.5\n",
        "      #cnn_cust_test_preds= cnn_cust.predict(X_test_norm)>0.5\n",
        "      val_preds_rms_gamma.append(cnn_cust_val_preds)\n",
        "      parameters.append([w,gamma])\n",
        "      w+=0.02"
      ],
      "metadata": {
        "id": "GAZIr5E0OKQR",
        "colab": {
          "base_uri": "https://localhost:8080/"
        },
        "outputId": "1909e2d2-cf47-4fe1-801b-b63427bdd262"
      },
      "execution_count": 33,
      "outputs": [
        {
          "output_type": "stream",
          "name": "stdout",
          "text": [
            "****************************** w =  0.3\n",
            "****************************** w =  2\n",
            "Model: \"sequential_30\"\n",
            "_________________________________________________________________\n",
            " Layer (type)                Output Shape              Param #   \n",
            "=================================================================\n",
            " dense_31 (Dense)            (None, 32)                960       \n",
            "                                                                 \n",
            " dropout_30 (Dropout)        (None, 32)                0         \n",
            "                                                                 \n",
            " dense_32 (Dense)            (None, 1)                 33        \n",
            "                                                                 \n",
            "=================================================================\n",
            "Total params: 993\n",
            "Trainable params: 993\n",
            "Non-trainable params: 0\n",
            "_________________________________________________________________\n",
            "Epoch 1/15\n"
          ]
        },
        {
          "output_type": "stream",
          "name": "stderr",
          "text": [
            "/usr/local/lib/python3.9/dist-packages/keras/backend.py:5703: UserWarning: \"`binary_crossentropy` received `from_logits=True`, but the `output` argument was produced by a Sigmoid activation and thus does not represent logits. Was this intended?\n",
            "  output, from_logits = _get_logits(\n"
          ]
        },
        {
          "output_type": "stream",
          "name": "stdout",
          "text": [
            "88/89 [============================>.] - ETA: 0s - loss: 0.0339 - precision: 0.0103 - recall: 0.5500 - prc: 0.2038"
          ]
        },
        {
          "output_type": "stream",
          "name": "stderr",
          "text": [
            "/usr/local/lib/python3.9/dist-packages/keras/backend.py:5703: UserWarning: \"`binary_crossentropy` received `from_logits=True`, but the `output` argument was produced by a Sigmoid activation and thus does not represent logits. Was this intended?\n",
            "  output, from_logits = _get_logits(\n"
          ]
        },
        {
          "output_type": "stream",
          "name": "stdout",
          "text": [
            "\b\b\b\b\b\b\b\b\b\b\b\b\b\b\b\b\b\b\b\b\b\b\b\b\b\b\b\b\b\b\b\b\b\b\b\b\b\b\b\b\b\b\b\b\b\b\b\b\b\b\b\b\b\b\b\b\b\b\b\b\b\b\b\b\b\b\b\b\b\b\b\b\b\b\b\b\b\b\b\b\b\b\b\b\b\b\b\b\b\b\b\b\b\b\b\b\b\b\b\b\b\b\b\b\b\b\b\b\b\b\b\b\b\b\r89/89 [==============================] - 2s 9ms/step - loss: 0.0337 - precision: 0.0105 - recall: 0.5518 - prc: 0.2072 - val_loss: 0.1432 - val_precision: 0.7347 - val_recall: 0.5714 - val_prc: 0.5178\n",
            "Epoch 2/15\n",
            "89/89 [==============================] - 1s 6ms/step - loss: 0.0090 - precision: 0.5971 - recall: 0.6471 - prc: 0.5340 - val_loss: 0.0369 - val_precision: 0.7679 - val_recall: 0.6825 - val_prc: 0.6384\n",
            "Epoch 3/15\n",
            "89/89 [==============================] - 1s 6ms/step - loss: 0.0037 - precision: 0.8244 - recall: 0.7121 - prc: 0.6240 - val_loss: 0.0139 - val_precision: 0.7903 - val_recall: 0.7778 - val_prc: 0.6976\n",
            "Epoch 4/15\n",
            "89/89 [==============================] - 0s 5ms/step - loss: 0.0023 - precision: 0.8512 - recall: 0.7616 - prc: 0.6865 - val_loss: 0.0076 - val_precision: 0.8167 - val_recall: 0.7778 - val_prc: 0.7093\n",
            "Epoch 5/15\n",
            "89/89 [==============================] - 0s 5ms/step - loss: 0.0019 - precision: 0.8357 - recall: 0.7399 - prc: 0.6704 - val_loss: 0.0062 - val_precision: 0.7903 - val_recall: 0.7778 - val_prc: 0.7115\n",
            "Epoch 6/15\n",
            "89/89 [==============================] - 0s 5ms/step - loss: 0.0017 - precision: 0.8557 - recall: 0.7709 - prc: 0.6958 - val_loss: 0.0054 - val_precision: 0.7778 - val_recall: 0.7778 - val_prc: 0.7244\n",
            "Epoch 7/15\n",
            "89/89 [==============================] - 0s 5ms/step - loss: 0.0016 - precision: 0.8233 - recall: 0.7647 - prc: 0.7090 - val_loss: 0.0049 - val_precision: 0.7778 - val_recall: 0.7778 - val_prc: 0.7393\n",
            "Epoch 8/15\n",
            "89/89 [==============================] - 1s 6ms/step - loss: 0.0015 - precision: 0.8306 - recall: 0.7740 - prc: 0.7108 - val_loss: 0.0047 - val_precision: 0.7656 - val_recall: 0.7778 - val_prc: 0.7286\n",
            "Epoch 9/15\n",
            "89/89 [==============================] - 1s 7ms/step - loss: 0.0014 - precision: 0.8224 - recall: 0.7740 - prc: 0.7148 - val_loss: 0.0043 - val_precision: 0.7656 - val_recall: 0.7778 - val_prc: 0.7450\n",
            "Epoch 10/15\n",
            "89/89 [==============================] - 1s 8ms/step - loss: 0.0014 - precision: 0.8300 - recall: 0.7709 - prc: 0.7304 - val_loss: 0.0042 - val_precision: 0.7656 - val_recall: 0.7778 - val_prc: 0.7476\n",
            "Epoch 11/15\n",
            "89/89 [==============================] - 1s 8ms/step - loss: 0.0013 - precision: 0.8037 - recall: 0.7988 - prc: 0.7248 - val_loss: 0.0040 - val_precision: 0.7778 - val_recall: 0.7778 - val_prc: 0.7463\n",
            "Epoch 12/15\n",
            "89/89 [==============================] - 1s 9ms/step - loss: 0.0013 - precision: 0.8082 - recall: 0.7957 - prc: 0.7345 - val_loss: 0.0039 - val_precision: 0.7778 - val_recall: 0.7778 - val_prc: 0.7424\n",
            "Epoch 13/15\n",
            "89/89 [==============================] - 1s 12ms/step - loss: 0.0013 - precision: 0.8109 - recall: 0.7833 - prc: 0.7291 - val_loss: 0.0039 - val_precision: 0.7778 - val_recall: 0.7778 - val_prc: 0.7406\n",
            "Epoch 14/15\n",
            "89/89 [==============================] - 1s 7ms/step - loss: 0.0012 - precision: 0.8000 - recall: 0.7926 - prc: 0.7331 - val_loss: 0.0040 - val_precision: 0.7778 - val_recall: 0.7778 - val_prc: 0.7450\n",
            "Epoch 15/15\n",
            "89/89 [==============================] - 1s 6ms/step - loss: 0.0012 - precision: 0.8259 - recall: 0.8080 - prc: 0.7423 - val_loss: 0.0038 - val_precision: 0.7778 - val_recall: 0.7778 - val_prc: 0.7426\n",
            "1419/1419 [==============================] - 2s 1ms/step\n",
            "****************************** w =  0.32\n",
            "****************************** w =  2\n",
            "Model: \"sequential_31\"\n",
            "_________________________________________________________________\n",
            " Layer (type)                Output Shape              Param #   \n",
            "=================================================================\n",
            " dense_33 (Dense)            (None, 32)                960       \n",
            "                                                                 \n",
            " dropout_31 (Dropout)        (None, 32)                0         \n",
            "                                                                 \n",
            " dense_34 (Dense)            (None, 1)                 33        \n",
            "                                                                 \n",
            "=================================================================\n",
            "Total params: 993\n",
            "Trainable params: 993\n",
            "Non-trainable params: 0\n",
            "_________________________________________________________________\n",
            "Epoch 1/15\n"
          ]
        },
        {
          "output_type": "stream",
          "name": "stderr",
          "text": [
            "/usr/local/lib/python3.9/dist-packages/keras/backend.py:5703: UserWarning: \"`binary_crossentropy` received `from_logits=True`, but the `output` argument was produced by a Sigmoid activation and thus does not represent logits. Was this intended?\n",
            "  output, from_logits = _get_logits(\n"
          ]
        },
        {
          "output_type": "stream",
          "name": "stdout",
          "text": [
            "85/89 [===========================>..] - ETA: 0s - loss: 0.0400 - precision: 0.0131 - recall: 0.6542 - prc: 0.2751"
          ]
        },
        {
          "output_type": "stream",
          "name": "stderr",
          "text": [
            "/usr/local/lib/python3.9/dist-packages/keras/backend.py:5703: UserWarning: \"`binary_crossentropy` received `from_logits=True`, but the `output` argument was produced by a Sigmoid activation and thus does not represent logits. Was this intended?\n",
            "  output, from_logits = _get_logits(\n"
          ]
        },
        {
          "output_type": "stream",
          "name": "stdout",
          "text": [
            "\b\b\b\b\b\b\b\b\b\b\b\b\b\b\b\b\b\b\b\b\b\b\b\b\b\b\b\b\b\b\b\b\b\b\b\b\b\b\b\b\b\b\b\b\b\b\b\b\b\b\b\b\b\b\b\b\b\b\b\b\b\b\b\b\b\b\b\b\b\b\b\b\b\b\b\b\b\b\b\b\b\b\b\b\b\b\b\b\b\b\b\b\b\b\b\b\b\b\b\b\b\b\b\b\b\b\b\b\b\b\b\b\b\b\r89/89 [==============================] - 2s 9ms/step - loss: 0.0392 - precision: 0.0134 - recall: 0.6503 - prc: 0.2738 - val_loss: 0.1633 - val_precision: 0.8298 - val_recall: 0.6190 - val_prc: 0.6545\n",
            "Epoch 2/15\n",
            "89/89 [==============================] - 1s 6ms/step - loss: 0.0115 - precision: 0.6762 - recall: 0.5882 - prc: 0.5246 - val_loss: 0.0449 - val_precision: 0.8776 - val_recall: 0.6825 - val_prc: 0.6864\n",
            "Epoch 3/15\n",
            "89/89 [==============================] - 1s 6ms/step - loss: 0.0045 - precision: 0.8527 - recall: 0.6811 - prc: 0.6412 - val_loss: 0.0149 - val_precision: 0.8276 - val_recall: 0.7619 - val_prc: 0.7013\n",
            "Epoch 4/15\n",
            "89/89 [==============================] - 0s 6ms/step - loss: 0.0025 - precision: 0.8872 - recall: 0.7307 - prc: 0.6608 - val_loss: 0.0073 - val_precision: 0.8065 - val_recall: 0.7937 - val_prc: 0.7115\n",
            "Epoch 5/15\n",
            "89/89 [==============================] - 0s 5ms/step - loss: 0.0019 - precision: 0.8696 - recall: 0.7430 - prc: 0.6742 - val_loss: 0.0053 - val_precision: 0.8065 - val_recall: 0.7937 - val_prc: 0.7227\n",
            "Epoch 6/15\n",
            "89/89 [==============================] - 1s 6ms/step - loss: 0.0016 - precision: 0.8667 - recall: 0.7647 - prc: 0.7023 - val_loss: 0.0047 - val_precision: 0.7937 - val_recall: 0.7937 - val_prc: 0.7229\n",
            "Epoch 7/15\n",
            "89/89 [==============================] - 1s 7ms/step - loss: 0.0015 - precision: 0.8616 - recall: 0.7709 - prc: 0.7179 - val_loss: 0.0042 - val_precision: 0.7812 - val_recall: 0.7937 - val_prc: 0.7328\n",
            "Epoch 8/15\n",
            "89/89 [==============================] - 1s 8ms/step - loss: 0.0014 - precision: 0.8435 - recall: 0.7678 - prc: 0.7125 - val_loss: 0.0040 - val_precision: 0.7846 - val_recall: 0.8095 - val_prc: 0.7366\n",
            "Epoch 9/15\n",
            "89/89 [==============================] - 1s 7ms/step - loss: 0.0014 - precision: 0.8552 - recall: 0.7864 - prc: 0.7252 - val_loss: 0.0038 - val_precision: 0.7969 - val_recall: 0.8095 - val_prc: 0.7408\n",
            "Epoch 10/15\n",
            "89/89 [==============================] - 1s 8ms/step - loss: 0.0013 - precision: 0.8699 - recall: 0.7864 - prc: 0.7177 - val_loss: 0.0036 - val_precision: 0.8095 - val_recall: 0.8095 - val_prc: 0.7434\n",
            "Epoch 11/15\n",
            "89/89 [==============================] - 1s 6ms/step - loss: 0.0013 - precision: 0.8525 - recall: 0.8050 - prc: 0.7269 - val_loss: 0.0036 - val_precision: 0.8095 - val_recall: 0.8095 - val_prc: 0.7420\n",
            "Epoch 12/15\n",
            "89/89 [==============================] - 0s 5ms/step - loss: 0.0013 - precision: 0.8649 - recall: 0.7926 - prc: 0.7315 - val_loss: 0.0036 - val_precision: 0.7969 - val_recall: 0.8095 - val_prc: 0.7437\n",
            "Epoch 13/15\n",
            "89/89 [==============================] - 0s 6ms/step - loss: 0.0013 - precision: 0.8333 - recall: 0.7895 - prc: 0.7347 - val_loss: 0.0035 - val_precision: 0.7969 - val_recall: 0.8095 - val_prc: 0.7447\n",
            "Epoch 14/15\n",
            "89/89 [==============================] - 0s 5ms/step - loss: 0.0012 - precision: 0.8409 - recall: 0.8019 - prc: 0.7352 - val_loss: 0.0036 - val_precision: 0.7846 - val_recall: 0.8095 - val_prc: 0.7453\n",
            "Epoch 15/15\n",
            "89/89 [==============================] - 0s 5ms/step - loss: 0.0012 - precision: 0.8510 - recall: 0.7957 - prc: 0.7421 - val_loss: 0.0035 - val_precision: 0.7846 - val_recall: 0.8095 - val_prc: 0.7465\n",
            "1419/1419 [==============================] - 2s 1ms/step\n",
            "****************************** w =  0.34\n",
            "****************************** w =  2\n",
            "Model: \"sequential_32\"\n",
            "_________________________________________________________________\n",
            " Layer (type)                Output Shape              Param #   \n",
            "=================================================================\n",
            " dense_35 (Dense)            (None, 32)                960       \n",
            "                                                                 \n",
            " dropout_32 (Dropout)        (None, 32)                0         \n",
            "                                                                 \n",
            " dense_36 (Dense)            (None, 1)                 33        \n",
            "                                                                 \n",
            "=================================================================\n",
            "Total params: 993\n",
            "Trainable params: 993\n",
            "Non-trainable params: 0\n",
            "_________________________________________________________________\n",
            "Epoch 1/15\n"
          ]
        },
        {
          "output_type": "stream",
          "name": "stderr",
          "text": [
            "/usr/local/lib/python3.9/dist-packages/keras/backend.py:5703: UserWarning: \"`binary_crossentropy` received `from_logits=True`, but the `output` argument was produced by a Sigmoid activation and thus does not represent logits. Was this intended?\n",
            "  output, from_logits = _get_logits(\n"
          ]
        },
        {
          "output_type": "stream",
          "name": "stdout",
          "text": [
            "88/89 [============================>.] - ETA: 0s - loss: 0.0376 - precision: 0.0151 - recall: 0.3594 - prc: 0.1829"
          ]
        },
        {
          "output_type": "stream",
          "name": "stderr",
          "text": [
            "/usr/local/lib/python3.9/dist-packages/keras/backend.py:5703: UserWarning: \"`binary_crossentropy` received `from_logits=True`, but the `output` argument was produced by a Sigmoid activation and thus does not represent logits. Was this intended?\n",
            "  output, from_logits = _get_logits(\n"
          ]
        },
        {
          "output_type": "stream",
          "name": "stdout",
          "text": [
            "\b\b\b\b\b\b\b\b\b\b\b\b\b\b\b\b\b\b\b\b\b\b\b\b\b\b\b\b\b\b\b\b\b\b\b\b\b\b\b\b\b\b\b\b\b\b\b\b\b\b\b\b\b\b\b\b\b\b\b\b\b\b\b\b\b\b\b\b\b\b\b\b\b\b\b\b\b\b\b\b\b\b\b\b\b\b\b\b\b\b\b\b\b\b\b\b\b\b\b\b\b\b\b\b\b\b\b\b\b\b\b\b\b\b\r89/89 [==============================] - 2s 9ms/step - loss: 0.0375 - precision: 0.0151 - recall: 0.3575 - prc: 0.1805 - val_loss: 0.1400 - val_precision: 0.8696 - val_recall: 0.3175 - val_prc: 0.4060\n",
            "Epoch 2/15\n",
            "89/89 [==============================] - 0s 5ms/step - loss: 0.0113 - precision: 0.8079 - recall: 0.4427 - prc: 0.4244 - val_loss: 0.0366 - val_precision: 0.8500 - val_recall: 0.5397 - val_prc: 0.6206\n",
            "Epoch 3/15\n",
            "89/89 [==============================] - 0s 5ms/step - loss: 0.0041 - precision: 0.8729 - recall: 0.6378 - prc: 0.6045 - val_loss: 0.0122 - val_precision: 0.8400 - val_recall: 0.6667 - val_prc: 0.6702\n",
            "Epoch 4/15\n",
            "89/89 [==============================] - 0s 5ms/step - loss: 0.0023 - precision: 0.8664 - recall: 0.7028 - prc: 0.6475 - val_loss: 0.0067 - val_precision: 0.8033 - val_recall: 0.7778 - val_prc: 0.6783\n",
            "Epoch 5/15\n",
            "89/89 [==============================] - 0s 6ms/step - loss: 0.0018 - precision: 0.8745 - recall: 0.7337 - prc: 0.6658 - val_loss: 0.0053 - val_precision: 0.8033 - val_recall: 0.7778 - val_prc: 0.6815\n",
            "Epoch 6/15\n",
            "89/89 [==============================] - 1s 6ms/step - loss: 0.0016 - precision: 0.8676 - recall: 0.7307 - prc: 0.6880 - val_loss: 0.0049 - val_precision: 0.8033 - val_recall: 0.7778 - val_prc: 0.6843\n",
            "Epoch 7/15\n",
            "89/89 [==============================] - 1s 7ms/step - loss: 0.0015 - precision: 0.8627 - recall: 0.7585 - prc: 0.7029 - val_loss: 0.0045 - val_precision: 0.8033 - val_recall: 0.7778 - val_prc: 0.6886\n",
            "Epoch 8/15\n",
            "89/89 [==============================] - 1s 7ms/step - loss: 0.0014 - precision: 0.8683 - recall: 0.7554 - prc: 0.7097 - val_loss: 0.0043 - val_precision: 0.8033 - val_recall: 0.7778 - val_prc: 0.6964\n",
            "Epoch 9/15\n",
            "89/89 [==============================] - 1s 7ms/step - loss: 0.0013 - precision: 0.8671 - recall: 0.7678 - prc: 0.7189 - val_loss: 0.0040 - val_precision: 0.8033 - val_recall: 0.7778 - val_prc: 0.7040\n",
            "Epoch 10/15\n",
            "89/89 [==============================] - 1s 8ms/step - loss: 0.0013 - precision: 0.8759 - recall: 0.7647 - prc: 0.7173 - val_loss: 0.0038 - val_precision: 0.8033 - val_recall: 0.7778 - val_prc: 0.7086\n",
            "Epoch 11/15\n",
            "89/89 [==============================] - 1s 6ms/step - loss: 0.0013 - precision: 0.8768 - recall: 0.7709 - prc: 0.7244 - val_loss: 0.0038 - val_precision: 0.8033 - val_recall: 0.7778 - val_prc: 0.7087\n",
            "Epoch 12/15\n",
            "89/89 [==============================] - 0s 5ms/step - loss: 0.0012 - precision: 0.8669 - recall: 0.7864 - prc: 0.7335 - val_loss: 0.0038 - val_precision: 0.8033 - val_recall: 0.7778 - val_prc: 0.7089\n",
            "Epoch 13/15\n",
            "89/89 [==============================] - 0s 6ms/step - loss: 0.0012 - precision: 0.8678 - recall: 0.7926 - prc: 0.7336 - val_loss: 0.0037 - val_precision: 0.8033 - val_recall: 0.7778 - val_prc: 0.7085\n",
            "Epoch 14/15\n",
            "89/89 [==============================] - 0s 5ms/step - loss: 0.0012 - precision: 0.8807 - recall: 0.7771 - prc: 0.7321 - val_loss: 0.0036 - val_precision: 0.8033 - val_recall: 0.7778 - val_prc: 0.7104\n",
            "Epoch 15/15\n",
            "89/89 [==============================] - 1s 6ms/step - loss: 0.0011 - precision: 0.8716 - recall: 0.7988 - prc: 0.7416 - val_loss: 0.0035 - val_precision: 0.8033 - val_recall: 0.7778 - val_prc: 0.7078\n",
            "1419/1419 [==============================] - 2s 1ms/step\n",
            "****************************** w =  0.36000000000000004\n",
            "****************************** w =  2\n",
            "Model: \"sequential_33\"\n",
            "_________________________________________________________________\n",
            " Layer (type)                Output Shape              Param #   \n",
            "=================================================================\n",
            " dense_37 (Dense)            (None, 32)                960       \n",
            "                                                                 \n",
            " dropout_33 (Dropout)        (None, 32)                0         \n",
            "                                                                 \n",
            " dense_38 (Dense)            (None, 1)                 33        \n",
            "                                                                 \n",
            "=================================================================\n",
            "Total params: 993\n",
            "Trainable params: 993\n",
            "Non-trainable params: 0\n",
            "_________________________________________________________________\n",
            "Epoch 1/15\n"
          ]
        },
        {
          "output_type": "stream",
          "name": "stderr",
          "text": [
            "/usr/local/lib/python3.9/dist-packages/keras/backend.py:5703: UserWarning: \"`binary_crossentropy` received `from_logits=True`, but the `output` argument was produced by a Sigmoid activation and thus does not represent logits. Was this intended?\n",
            "  output, from_logits = _get_logits(\n"
          ]
        },
        {
          "output_type": "stream",
          "name": "stdout",
          "text": [
            "81/89 [==========================>...] - ETA: 0s - loss: 0.0534 - precision: 0.0064 - recall: 0.3768 - prc: 0.0589"
          ]
        },
        {
          "output_type": "stream",
          "name": "stderr",
          "text": [
            "/usr/local/lib/python3.9/dist-packages/keras/backend.py:5703: UserWarning: \"`binary_crossentropy` received `from_logits=True`, but the `output` argument was produced by a Sigmoid activation and thus does not represent logits. Was this intended?\n",
            "  output, from_logits = _get_logits(\n"
          ]
        },
        {
          "output_type": "stream",
          "name": "stdout",
          "text": [
            "\b\b\b\b\b\b\b\b\b\b\b\b\b\b\b\b\b\b\b\b\b\b\b\b\b\b\b\b\b\b\b\b\b\b\b\b\b\b\b\b\b\b\b\b\b\b\b\b\b\b\b\b\b\b\b\b\b\b\b\b\b\b\b\b\b\b\b\b\b\b\b\b\b\b\b\b\b\b\b\b\b\b\b\b\b\b\b\b\b\b\b\b\b\b\b\b\b\b\b\b\b\b\b\b\b\b\b\b\b\b\b\b\b\b\r89/89 [==============================] - 2s 9ms/step - loss: 0.0508 - precision: 0.0069 - recall: 0.3731 - prc: 0.0620 - val_loss: 0.1472 - val_precision: 0.7778 - val_recall: 0.4444 - val_prc: 0.4721\n",
            "Epoch 2/15\n",
            "89/89 [==============================] - 0s 5ms/step - loss: 0.0128 - precision: 0.5294 - recall: 0.5294 - prc: 0.4452 - val_loss: 0.0359 - val_precision: 0.8837 - val_recall: 0.6032 - val_prc: 0.6143\n",
            "Epoch 3/15\n",
            "89/89 [==============================] - 0s 6ms/step - loss: 0.0045 - precision: 0.8508 - recall: 0.6533 - prc: 0.5901 - val_loss: 0.0117 - val_precision: 0.8542 - val_recall: 0.6508 - val_prc: 0.6759\n",
            "Epoch 4/15\n",
            "89/89 [==============================] - 1s 7ms/step - loss: 0.0026 - precision: 0.8643 - recall: 0.6904 - prc: 0.6375 - val_loss: 0.0064 - val_precision: 0.8421 - val_recall: 0.7619 - val_prc: 0.6963\n",
            "Epoch 5/15\n",
            "89/89 [==============================] - 1s 7ms/step - loss: 0.0019 - precision: 0.8628 - recall: 0.7399 - prc: 0.6696 - val_loss: 0.0049 - val_precision: 0.8421 - val_recall: 0.7619 - val_prc: 0.6908\n",
            "Epoch 6/15\n",
            "89/89 [==============================] - 1s 8ms/step - loss: 0.0017 - precision: 0.8746 - recall: 0.7554 - prc: 0.6803 - val_loss: 0.0043 - val_precision: 0.8448 - val_recall: 0.7778 - val_prc: 0.6968\n",
            "Epoch 7/15\n",
            "89/89 [==============================] - 1s 8ms/step - loss: 0.0015 - precision: 0.8714 - recall: 0.7554 - prc: 0.6991 - val_loss: 0.0040 - val_precision: 0.8448 - val_recall: 0.7778 - val_prc: 0.7015\n",
            "Epoch 8/15\n",
            "89/89 [==============================] - 0s 5ms/step - loss: 0.0014 - precision: 0.8710 - recall: 0.7523 - prc: 0.7109 - val_loss: 0.0039 - val_precision: 0.8167 - val_recall: 0.7778 - val_prc: 0.7103\n",
            "Epoch 9/15\n",
            "89/89 [==============================] - 1s 6ms/step - loss: 0.0014 - precision: 0.8830 - recall: 0.7709 - prc: 0.7121 - val_loss: 0.0036 - val_precision: 0.8305 - val_recall: 0.7778 - val_prc: 0.7141\n",
            "Epoch 10/15\n",
            "89/89 [==============================] - 1s 6ms/step - loss: 0.0014 - precision: 0.8697 - recall: 0.7647 - prc: 0.7124 - val_loss: 0.0035 - val_precision: 0.8448 - val_recall: 0.7778 - val_prc: 0.7183\n",
            "Epoch 11/15\n",
            "89/89 [==============================] - 1s 6ms/step - loss: 0.0013 - precision: 0.8711 - recall: 0.7740 - prc: 0.7220 - val_loss: 0.0035 - val_precision: 0.8167 - val_recall: 0.7778 - val_prc: 0.7165\n",
            "Epoch 12/15\n",
            "89/89 [==============================] - 0s 5ms/step - loss: 0.0013 - precision: 0.8586 - recall: 0.7709 - prc: 0.7281 - val_loss: 0.0033 - val_precision: 0.8596 - val_recall: 0.7778 - val_prc: 0.7274\n",
            "Epoch 13/15\n",
            "89/89 [==============================] - 1s 7ms/step - loss: 0.0013 - precision: 0.8685 - recall: 0.7771 - prc: 0.7156 - val_loss: 0.0032 - val_precision: 0.8596 - val_recall: 0.7778 - val_prc: 0.7226\n",
            "Epoch 14/15\n",
            "89/89 [==============================] - 0s 6ms/step - loss: 0.0012 - precision: 0.8780 - recall: 0.7802 - prc: 0.7235 - val_loss: 0.0032 - val_precision: 0.8448 - val_recall: 0.7778 - val_prc: 0.7209\n",
            "Epoch 15/15\n",
            "89/89 [==============================] - 0s 5ms/step - loss: 0.0012 - precision: 0.8616 - recall: 0.7709 - prc: 0.7250 - val_loss: 0.0032 - val_precision: 0.8448 - val_recall: 0.7778 - val_prc: 0.7241\n",
            "1419/1419 [==============================] - 2s 1ms/step\n",
            "****************************** w =  0.38000000000000006\n",
            "****************************** w =  2\n",
            "Model: \"sequential_34\"\n",
            "_________________________________________________________________\n",
            " Layer (type)                Output Shape              Param #   \n",
            "=================================================================\n",
            " dense_39 (Dense)            (None, 32)                960       \n",
            "                                                                 \n",
            " dropout_34 (Dropout)        (None, 32)                0         \n",
            "                                                                 \n",
            " dense_40 (Dense)            (None, 1)                 33        \n",
            "                                                                 \n",
            "=================================================================\n",
            "Total params: 993\n",
            "Trainable params: 993\n",
            "Non-trainable params: 0\n",
            "_________________________________________________________________\n",
            "Epoch 1/15\n"
          ]
        },
        {
          "output_type": "stream",
          "name": "stderr",
          "text": [
            "/usr/local/lib/python3.9/dist-packages/keras/backend.py:5703: UserWarning: \"`binary_crossentropy` received `from_logits=True`, but the `output` argument was produced by a Sigmoid activation and thus does not represent logits. Was this intended?\n",
            "  output, from_logits = _get_logits(\n"
          ]
        },
        {
          "output_type": "stream",
          "name": "stdout",
          "text": [
            "85/89 [===========================>..] - ETA: 0s - loss: 0.0979 - precision: 0.0034 - recall: 0.6330 - prc: 0.0395"
          ]
        },
        {
          "output_type": "stream",
          "name": "stderr",
          "text": [
            "/usr/local/lib/python3.9/dist-packages/keras/backend.py:5703: UserWarning: \"`binary_crossentropy` received `from_logits=True`, but the `output` argument was produced by a Sigmoid activation and thus does not represent logits. Was this intended?\n",
            "  output, from_logits = _get_logits(\n"
          ]
        },
        {
          "output_type": "stream",
          "name": "stdout",
          "text": [
            "\b\b\b\b\b\b\b\b\b\b\b\b\b\b\b\b\b\b\b\b\b\b\b\b\b\b\b\b\b\b\b\b\b\b\b\b\b\b\b\b\b\b\b\b\b\b\b\b\b\b\b\b\b\b\b\b\b\b\b\b\b\b\b\b\b\b\b\b\b\b\b\b\b\b\b\b\b\b\b\b\b\b\b\b\b\b\b\b\b\b\b\b\b\b\b\b\b\b\b\b\b\b\b\b\b\b\b\b\b\b\b\b\b\b\r89/89 [==============================] - 3s 13ms/step - loss: 0.0959 - precision: 0.0035 - recall: 0.6321 - prc: 0.0400 - val_loss: 0.3179 - val_precision: 0.0854 - val_recall: 0.3810 - val_prc: 0.0850\n",
            "Epoch 2/15\n",
            "89/89 [==============================] - 1s 8ms/step - loss: 0.0293 - precision: 0.1407 - recall: 0.4706 - prc: 0.3205 - val_loss: 0.0924 - val_precision: 0.8158 - val_recall: 0.4921 - val_prc: 0.5367\n",
            "Epoch 3/15\n",
            "89/89 [==============================] - 1s 8ms/step - loss: 0.0100 - precision: 0.8371 - recall: 0.5728 - prc: 0.5144 - val_loss: 0.0266 - val_precision: 0.8333 - val_recall: 0.5556 - val_prc: 0.6572\n",
            "Epoch 4/15\n",
            "89/89 [==============================] - 0s 6ms/step - loss: 0.0041 - precision: 0.8560 - recall: 0.6440 - prc: 0.5864 - val_loss: 0.0096 - val_precision: 0.8235 - val_recall: 0.6667 - val_prc: 0.6901\n",
            "Epoch 5/15\n",
            "89/89 [==============================] - 0s 5ms/step - loss: 0.0024 - precision: 0.8621 - recall: 0.6966 - prc: 0.6660 - val_loss: 0.0054 - val_precision: 0.8421 - val_recall: 0.7619 - val_prc: 0.7111\n",
            "Epoch 6/15\n",
            "89/89 [==============================] - 0s 6ms/step - loss: 0.0018 - precision: 0.8598 - recall: 0.7214 - prc: 0.6803 - val_loss: 0.0042 - val_precision: 0.8571 - val_recall: 0.7619 - val_prc: 0.7167\n",
            "Epoch 7/15\n",
            "89/89 [==============================] - 0s 5ms/step - loss: 0.0016 - precision: 0.8791 - recall: 0.7430 - prc: 0.6903 - val_loss: 0.0038 - val_precision: 0.8571 - val_recall: 0.7619 - val_prc: 0.7257\n",
            "Epoch 8/15\n",
            "89/89 [==============================] - 1s 6ms/step - loss: 0.0015 - precision: 0.8741 - recall: 0.7307 - prc: 0.6855 - val_loss: 0.0035 - val_precision: 0.8571 - val_recall: 0.7619 - val_prc: 0.7354\n",
            "Epoch 9/15\n",
            "89/89 [==============================] - 1s 6ms/step - loss: 0.0015 - precision: 0.8700 - recall: 0.7461 - prc: 0.7045 - val_loss: 0.0034 - val_precision: 0.8571 - val_recall: 0.7619 - val_prc: 0.7430\n",
            "Epoch 10/15\n",
            "89/89 [==============================] - 0s 6ms/step - loss: 0.0013 - precision: 0.8745 - recall: 0.7337 - prc: 0.7261 - val_loss: 0.0034 - val_precision: 0.8571 - val_recall: 0.7619 - val_prc: 0.7435\n",
            "Epoch 11/15\n",
            "89/89 [==============================] - 1s 6ms/step - loss: 0.0013 - precision: 0.8719 - recall: 0.7585 - prc: 0.7252 - val_loss: 0.0032 - val_precision: 0.8571 - val_recall: 0.7619 - val_prc: 0.7459\n",
            "Epoch 12/15\n",
            "89/89 [==============================] - 0s 6ms/step - loss: 0.0013 - precision: 0.8674 - recall: 0.7492 - prc: 0.7319 - val_loss: 0.0033 - val_precision: 0.8421 - val_recall: 0.7619 - val_prc: 0.7491\n",
            "Epoch 13/15\n",
            "89/89 [==============================] - 0s 5ms/step - loss: 0.0013 - precision: 0.8651 - recall: 0.7740 - prc: 0.7259 - val_loss: 0.0030 - val_precision: 0.8596 - val_recall: 0.7778 - val_prc: 0.7655\n",
            "Epoch 14/15\n",
            "89/89 [==============================] - 0s 5ms/step - loss: 0.0012 - precision: 0.8750 - recall: 0.7585 - prc: 0.7326 - val_loss: 0.0029 - val_precision: 0.8596 - val_recall: 0.7778 - val_prc: 0.7681\n",
            "Epoch 15/15\n",
            "89/89 [==============================] - 1s 6ms/step - loss: 0.0012 - precision: 0.8592 - recall: 0.7554 - prc: 0.7443 - val_loss: 0.0031 - val_precision: 0.8448 - val_recall: 0.7778 - val_prc: 0.7531\n",
            "1419/1419 [==============================] - 2s 1ms/step\n",
            "****************************** w =  0.4000000000000001\n",
            "****************************** w =  2\n",
            "Model: \"sequential_35\"\n",
            "_________________________________________________________________\n",
            " Layer (type)                Output Shape              Param #   \n",
            "=================================================================\n",
            " dense_41 (Dense)            (None, 32)                960       \n",
            "                                                                 \n",
            " dropout_35 (Dropout)        (None, 32)                0         \n",
            "                                                                 \n",
            " dense_42 (Dense)            (None, 1)                 33        \n",
            "                                                                 \n",
            "=================================================================\n",
            "Total params: 993\n",
            "Trainable params: 993\n",
            "Non-trainable params: 0\n",
            "_________________________________________________________________\n",
            "Epoch 1/15\n"
          ]
        },
        {
          "output_type": "stream",
          "name": "stderr",
          "text": [
            "/usr/local/lib/python3.9/dist-packages/keras/backend.py:5703: UserWarning: \"`binary_crossentropy` received `from_logits=True`, but the `output` argument was produced by a Sigmoid activation and thus does not represent logits. Was this intended?\n",
            "  output, from_logits = _get_logits(\n"
          ]
        },
        {
          "output_type": "stream",
          "name": "stdout",
          "text": [
            "87/89 [============================>.] - ETA: 0s - loss: 0.0746 - precision: 0.0037 - recall: 0.3061 - prc: 0.0710"
          ]
        },
        {
          "output_type": "stream",
          "name": "stderr",
          "text": [
            "/usr/local/lib/python3.9/dist-packages/keras/backend.py:5703: UserWarning: \"`binary_crossentropy` received `from_logits=True`, but the `output` argument was produced by a Sigmoid activation and thus does not represent logits. Was this intended?\n",
            "  output, from_logits = _get_logits(\n"
          ]
        },
        {
          "output_type": "stream",
          "name": "stdout",
          "text": [
            "\b\b\b\b\b\b\b\b\b\b\b\b\b\b\b\b\b\b\b\b\b\b\b\b\b\b\b\b\b\b\b\b\b\b\b\b\b\b\b\b\b\b\b\b\b\b\b\b\b\b\b\b\b\b\b\b\b\b\b\b\b\b\b\b\b\b\b\b\b\b\b\b\b\b\b\b\b\b\b\b\b\b\b\b\b\b\b\b\b\b\b\b\b\b\b\b\b\b\b\b\b\b\b\b\b\b\b\b\b\b\b\b\b\b\r89/89 [==============================] - 2s 14ms/step - loss: 0.0738 - precision: 0.0037 - recall: 0.3031 - prc: 0.0699 - val_loss: 0.1845 - val_precision: 0.5500 - val_recall: 0.1746 - val_prc: 0.2106\n",
            "Epoch 2/15\n",
            "89/89 [==============================] - 1s 9ms/step - loss: 0.0181 - precision: 0.4364 - recall: 0.3715 - prc: 0.3253 - val_loss: 0.0421 - val_precision: 0.8919 - val_recall: 0.5238 - val_prc: 0.6338\n",
            "Epoch 3/15\n",
            "89/89 [==============================] - 1s 6ms/step - loss: 0.0056 - precision: 0.8584 - recall: 0.6006 - prc: 0.5847 - val_loss: 0.0122 - val_precision: 0.8958 - val_recall: 0.6825 - val_prc: 0.6782\n",
            "Epoch 4/15\n",
            "89/89 [==============================] - 0s 5ms/step - loss: 0.0026 - precision: 0.8612 - recall: 0.6533 - prc: 0.6316 - val_loss: 0.0059 - val_precision: 0.8727 - val_recall: 0.7619 - val_prc: 0.6768\n",
            "Epoch 5/15\n",
            "89/89 [==============================] - 1s 6ms/step - loss: 0.0019 - precision: 0.8726 - recall: 0.6997 - prc: 0.6702 - val_loss: 0.0043 - val_precision: 0.8750 - val_recall: 0.7778 - val_prc: 0.6879\n",
            "Epoch 6/15\n",
            "89/89 [==============================] - 1s 6ms/step - loss: 0.0017 - precision: 0.8851 - recall: 0.7152 - prc: 0.6730 - val_loss: 0.0039 - val_precision: 0.8596 - val_recall: 0.7778 - val_prc: 0.7057\n",
            "Epoch 7/15\n",
            "89/89 [==============================] - 0s 5ms/step - loss: 0.0015 - precision: 0.8708 - recall: 0.7307 - prc: 0.6703 - val_loss: 0.0036 - val_precision: 0.8596 - val_recall: 0.7778 - val_prc: 0.7128\n",
            "Epoch 8/15\n",
            "89/89 [==============================] - 0s 5ms/step - loss: 0.0013 - precision: 0.8897 - recall: 0.7492 - prc: 0.7229 - val_loss: 0.0035 - val_precision: 0.8596 - val_recall: 0.7778 - val_prc: 0.7091\n",
            "Epoch 9/15\n",
            "89/89 [==============================] - 0s 6ms/step - loss: 0.0013 - precision: 0.8810 - recall: 0.7337 - prc: 0.7263 - val_loss: 0.0034 - val_precision: 0.8596 - val_recall: 0.7778 - val_prc: 0.7152\n",
            "Epoch 10/15\n",
            "89/89 [==============================] - 1s 6ms/step - loss: 0.0013 - precision: 0.8791 - recall: 0.7430 - prc: 0.7043 - val_loss: 0.0034 - val_precision: 0.8596 - val_recall: 0.7778 - val_prc: 0.7134\n",
            "Epoch 11/15\n",
            "89/89 [==============================] - 0s 6ms/step - loss: 0.0013 - precision: 0.8787 - recall: 0.7399 - prc: 0.7020 - val_loss: 0.0031 - val_precision: 0.8596 - val_recall: 0.7778 - val_prc: 0.7364\n",
            "Epoch 12/15\n",
            "89/89 [==============================] - 1s 6ms/step - loss: 0.0012 - precision: 0.8824 - recall: 0.7430 - prc: 0.7154 - val_loss: 0.0032 - val_precision: 0.8596 - val_recall: 0.7778 - val_prc: 0.7370\n",
            "Epoch 13/15\n",
            "89/89 [==============================] - 1s 6ms/step - loss: 0.0012 - precision: 0.8893 - recall: 0.7461 - prc: 0.7235 - val_loss: 0.0031 - val_precision: 0.8448 - val_recall: 0.7778 - val_prc: 0.7407\n",
            "Epoch 14/15\n",
            "89/89 [==============================] - 0s 5ms/step - loss: 0.0011 - precision: 0.8881 - recall: 0.7368 - prc: 0.7606 - val_loss: 0.0033 - val_precision: 0.8448 - val_recall: 0.7778 - val_prc: 0.7225\n",
            "Epoch 15/15\n",
            "89/89 [==============================] - 0s 6ms/step - loss: 0.0011 - precision: 0.8804 - recall: 0.7523 - prc: 0.7321 - val_loss: 0.0031 - val_precision: 0.8448 - val_recall: 0.7778 - val_prc: 0.7451\n",
            "1419/1419 [==============================] - 2s 1ms/step\n",
            "****************************** w =  0.4200000000000001\n",
            "****************************** w =  2\n",
            "Model: \"sequential_36\"\n",
            "_________________________________________________________________\n",
            " Layer (type)                Output Shape              Param #   \n",
            "=================================================================\n",
            " dense_43 (Dense)            (None, 32)                960       \n",
            "                                                                 \n",
            " dropout_36 (Dropout)        (None, 32)                0         \n",
            "                                                                 \n",
            " dense_44 (Dense)            (None, 1)                 33        \n",
            "                                                                 \n",
            "=================================================================\n",
            "Total params: 993\n",
            "Trainable params: 993\n",
            "Non-trainable params: 0\n",
            "_________________________________________________________________\n",
            "Epoch 1/15\n"
          ]
        },
        {
          "output_type": "stream",
          "name": "stderr",
          "text": [
            "/usr/local/lib/python3.9/dist-packages/keras/backend.py:5703: UserWarning: \"`binary_crossentropy` received `from_logits=True`, but the `output` argument was produced by a Sigmoid activation and thus does not represent logits. Was this intended?\n",
            "  output, from_logits = _get_logits(\n"
          ]
        },
        {
          "output_type": "stream",
          "name": "stdout",
          "text": [
            "85/89 [===========================>..] - ETA: 0s - loss: 0.0566 - precision: 0.0092 - recall: 0.2929 - prc: 0.0507"
          ]
        },
        {
          "output_type": "stream",
          "name": "stderr",
          "text": [
            "/usr/local/lib/python3.9/dist-packages/keras/backend.py:5703: UserWarning: \"`binary_crossentropy` received `from_logits=True`, but the `output` argument was produced by a Sigmoid activation and thus does not represent logits. Was this intended?\n",
            "  output, from_logits = _get_logits(\n"
          ]
        },
        {
          "output_type": "stream",
          "name": "stdout",
          "text": [
            "\b\b\b\b\b\b\b\b\b\b\b\b\b\b\b\b\b\b\b\b\b\b\b\b\b\b\b\b\b\b\b\b\b\b\b\b\b\b\b\b\b\b\b\b\b\b\b\b\b\b\b\b\b\b\b\b\b\b\b\b\b\b\b\b\b\b\b\b\b\b\b\b\b\b\b\b\b\b\b\b\b\b\b\b\b\b\b\b\b\b\b\b\b\b\b\b\b\b\b\b\b\b\b\b\b\b\b\b\b\b\b\b\b\b\r89/89 [==============================] - 3s 13ms/step - loss: 0.0552 - precision: 0.0092 - recall: 0.2902 - prc: 0.0503 - val_loss: 0.1078 - val_precision: 0.8696 - val_recall: 0.3175 - val_prc: 0.3678\n",
            "Epoch 2/15\n",
            "89/89 [==============================] - 1s 8ms/step - loss: 0.0125 - precision: 0.6502 - recall: 0.4892 - prc: 0.4178 - val_loss: 0.0237 - val_precision: 0.8780 - val_recall: 0.5714 - val_prc: 0.6177\n",
            "Epoch 3/15\n",
            "89/89 [==============================] - 1s 9ms/step - loss: 0.0041 - precision: 0.8423 - recall: 0.6285 - prc: 0.6027 - val_loss: 0.0083 - val_precision: 0.8750 - val_recall: 0.6667 - val_prc: 0.7108\n",
            "Epoch 4/15\n",
            "89/89 [==============================] - 1s 6ms/step - loss: 0.0022 - precision: 0.8716 - recall: 0.6935 - prc: 0.6556 - val_loss: 0.0050 - val_precision: 0.8571 - val_recall: 0.7619 - val_prc: 0.7071\n",
            "Epoch 5/15\n",
            "89/89 [==============================] - 1s 9ms/step - loss: 0.0017 - precision: 0.8792 - recall: 0.7214 - prc: 0.6714 - val_loss: 0.0040 - val_precision: 0.8545 - val_recall: 0.7460 - val_prc: 0.7275\n",
            "Epoch 6/15\n",
            "89/89 [==============================] - 1s 8ms/step - loss: 0.0015 - precision: 0.8846 - recall: 0.7121 - prc: 0.7017 - val_loss: 0.0036 - val_precision: 0.8545 - val_recall: 0.7460 - val_prc: 0.7333\n",
            "Epoch 7/15\n",
            "89/89 [==============================] - 1s 8ms/step - loss: 0.0015 - precision: 0.8619 - recall: 0.7152 - prc: 0.6914 - val_loss: 0.0036 - val_precision: 0.8545 - val_recall: 0.7460 - val_prc: 0.7207\n",
            "Epoch 8/15\n",
            "89/89 [==============================] - 1s 7ms/step - loss: 0.0013 - precision: 0.8736 - recall: 0.7492 - prc: 0.7319 - val_loss: 0.0033 - val_precision: 0.8679 - val_recall: 0.7302 - val_prc: 0.7416\n",
            "Epoch 9/15\n",
            "89/89 [==============================] - 1s 6ms/step - loss: 0.0013 - precision: 0.8741 - recall: 0.7307 - prc: 0.7022 - val_loss: 0.0032 - val_precision: 0.8545 - val_recall: 0.7460 - val_prc: 0.7390\n",
            "Epoch 10/15\n",
            "89/89 [==============================] - 1s 6ms/step - loss: 0.0012 - precision: 0.8759 - recall: 0.7430 - prc: 0.7270 - val_loss: 0.0031 - val_precision: 0.8545 - val_recall: 0.7460 - val_prc: 0.7407\n",
            "Epoch 11/15\n",
            "89/89 [==============================] - 1s 6ms/step - loss: 0.0012 - precision: 0.8787 - recall: 0.7399 - prc: 0.7386 - val_loss: 0.0031 - val_precision: 0.8545 - val_recall: 0.7460 - val_prc: 0.7414\n",
            "Epoch 12/15\n",
            "89/89 [==============================] - 0s 5ms/step - loss: 0.0011 - precision: 0.8597 - recall: 0.7399 - prc: 0.7365 - val_loss: 0.0031 - val_precision: 0.8545 - val_recall: 0.7460 - val_prc: 0.7418\n",
            "Epoch 13/15\n",
            "89/89 [==============================] - 1s 6ms/step - loss: 0.0011 - precision: 0.8467 - recall: 0.7183 - prc: 0.7480 - val_loss: 0.0032 - val_precision: 0.8393 - val_recall: 0.7460 - val_prc: 0.7386\n",
            "Epoch 14/15\n",
            "89/89 [==============================] - 0s 6ms/step - loss: 0.0011 - precision: 0.8746 - recall: 0.7554 - prc: 0.7524 - val_loss: 0.0031 - val_precision: 0.8393 - val_recall: 0.7460 - val_prc: 0.7433\n",
            "Epoch 15/15\n",
            "89/89 [==============================] - 1s 6ms/step - loss: 0.0011 - precision: 0.8622 - recall: 0.7554 - prc: 0.7446 - val_loss: 0.0031 - val_precision: 0.8393 - val_recall: 0.7460 - val_prc: 0.7371\n",
            "1419/1419 [==============================] - 2s 2ms/step\n",
            "****************************** w =  0.4400000000000001\n",
            "****************************** w =  2\n",
            "Model: \"sequential_37\"\n",
            "_________________________________________________________________\n",
            " Layer (type)                Output Shape              Param #   \n",
            "=================================================================\n",
            " dense_45 (Dense)            (None, 32)                960       \n",
            "                                                                 \n",
            " dropout_37 (Dropout)        (None, 32)                0         \n",
            "                                                                 \n",
            " dense_46 (Dense)            (None, 1)                 33        \n",
            "                                                                 \n",
            "=================================================================\n",
            "Total params: 993\n",
            "Trainable params: 993\n",
            "Non-trainable params: 0\n",
            "_________________________________________________________________\n",
            "Epoch 1/15\n"
          ]
        },
        {
          "output_type": "stream",
          "name": "stderr",
          "text": [
            "/usr/local/lib/python3.9/dist-packages/keras/backend.py:5703: UserWarning: \"`binary_crossentropy` received `from_logits=True`, but the `output` argument was produced by a Sigmoid activation and thus does not represent logits. Was this intended?\n",
            "  output, from_logits = _get_logits(\n"
          ]
        },
        {
          "output_type": "stream",
          "name": "stdout",
          "text": [
            "84/89 [===========================>..] - ETA: 0s - loss: 0.0528 - precision: 0.0074 - recall: 0.1557 - prc: 0.0483"
          ]
        },
        {
          "output_type": "stream",
          "name": "stderr",
          "text": [
            "/usr/local/lib/python3.9/dist-packages/keras/backend.py:5703: UserWarning: \"`binary_crossentropy` received `from_logits=True`, but the `output` argument was produced by a Sigmoid activation and thus does not represent logits. Was this intended?\n",
            "  output, from_logits = _get_logits(\n"
          ]
        },
        {
          "output_type": "stream",
          "name": "stdout",
          "text": [
            "\b\b\b\b\b\b\b\b\b\b\b\b\b\b\b\b\b\b\b\b\b\b\b\b\b\b\b\b\b\b\b\b\b\b\b\b\b\b\b\b\b\b\b\b\b\b\b\b\b\b\b\b\b\b\b\b\b\b\b\b\b\b\b\b\b\b\b\b\b\b\b\b\b\b\b\b\b\b\b\b\b\b\b\b\b\b\b\b\b\b\b\b\b\b\b\b\b\b\b\b\b\b\b\b\b\b\b\b\b\b\b\b\b\b\r89/89 [==============================] - 2s 9ms/step - loss: 0.0513 - precision: 0.0077 - recall: 0.1528 - prc: 0.0464 - val_loss: 0.0942 - val_precision: 0.5000 - val_recall: 0.0159 - val_prc: 0.0692\n",
            "Epoch 2/15\n",
            "89/89 [==============================] - 1s 6ms/step - loss: 0.0118 - precision: 0.7769 - recall: 0.3127 - prc: 0.3370 - val_loss: 0.0207 - val_precision: 0.8857 - val_recall: 0.4921 - val_prc: 0.5934\n",
            "Epoch 3/15\n",
            "89/89 [==============================] - 0s 5ms/step - loss: 0.0038 - precision: 0.8702 - recall: 0.5604 - prc: 0.5780 - val_loss: 0.0071 - val_precision: 0.8400 - val_recall: 0.6667 - val_prc: 0.6478\n",
            "Epoch 4/15\n",
            "89/89 [==============================] - 1s 7ms/step - loss: 0.0020 - precision: 0.8846 - recall: 0.6409 - prc: 0.6535 - val_loss: 0.0045 - val_precision: 0.8302 - val_recall: 0.6984 - val_prc: 0.6851\n",
            "Epoch 5/15\n",
            "89/89 [==============================] - 1s 6ms/step - loss: 0.0016 - precision: 0.8710 - recall: 0.6687 - prc: 0.6674 - val_loss: 0.0038 - val_precision: 0.8148 - val_recall: 0.6984 - val_prc: 0.6907\n",
            "Epoch 6/15\n",
            "89/89 [==============================] - 0s 5ms/step - loss: 0.0014 - precision: 0.8697 - recall: 0.7028 - prc: 0.7045 - val_loss: 0.0034 - val_precision: 0.8182 - val_recall: 0.7143 - val_prc: 0.7171\n",
            "Epoch 7/15\n",
            "89/89 [==============================] - 1s 6ms/step - loss: 0.0012 - precision: 0.8859 - recall: 0.7214 - prc: 0.7273 - val_loss: 0.0033 - val_precision: 0.8182 - val_recall: 0.7143 - val_prc: 0.7307\n",
            "Epoch 8/15\n",
            "89/89 [==============================] - 0s 5ms/step - loss: 0.0012 - precision: 0.8872 - recall: 0.7307 - prc: 0.7516 - val_loss: 0.0031 - val_precision: 0.8182 - val_recall: 0.7143 - val_prc: 0.7532\n",
            "Epoch 9/15\n",
            "89/89 [==============================] - 0s 6ms/step - loss: 0.0011 - precision: 0.8969 - recall: 0.7276 - prc: 0.7429 - val_loss: 0.0031 - val_precision: 0.7931 - val_recall: 0.7302 - val_prc: 0.7590\n",
            "Epoch 10/15\n",
            "89/89 [==============================] - 0s 6ms/step - loss: 0.0011 - precision: 0.8713 - recall: 0.7337 - prc: 0.7452 - val_loss: 0.0031 - val_precision: 0.8070 - val_recall: 0.7302 - val_prc: 0.7574\n",
            "Epoch 11/15\n",
            "89/89 [==============================] - 0s 5ms/step - loss: 0.0011 - precision: 0.8773 - recall: 0.7307 - prc: 0.7455 - val_loss: 0.0031 - val_precision: 0.8103 - val_recall: 0.7460 - val_prc: 0.7615\n",
            "Epoch 12/15\n",
            "89/89 [==============================] - 1s 6ms/step - loss: 0.0011 - precision: 0.8921 - recall: 0.7678 - prc: 0.7691 - val_loss: 0.0030 - val_precision: 0.8000 - val_recall: 0.7619 - val_prc: 0.7630\n",
            "Epoch 13/15\n",
            "89/89 [==============================] - 0s 6ms/step - loss: 0.0010 - precision: 0.8974 - recall: 0.7585 - prc: 0.7871 - val_loss: 0.0030 - val_precision: 0.8000 - val_recall: 0.7619 - val_prc: 0.7617\n",
            "Epoch 14/15\n",
            "89/89 [==============================] - 0s 5ms/step - loss: 0.0011 - precision: 0.8746 - recall: 0.7554 - prc: 0.7643 - val_loss: 0.0030 - val_precision: 0.8000 - val_recall: 0.7619 - val_prc: 0.7595\n",
            "Epoch 15/15\n",
            "89/89 [==============================] - 0s 5ms/step - loss: 0.0010 - precision: 0.8873 - recall: 0.7554 - prc: 0.7789 - val_loss: 0.0030 - val_precision: 0.8136 - val_recall: 0.7619 - val_prc: 0.7652\n",
            "1419/1419 [==============================] - 3s 2ms/step\n",
            "****************************** w =  0.46000000000000013\n",
            "****************************** w =  2\n",
            "Model: \"sequential_38\"\n",
            "_________________________________________________________________\n",
            " Layer (type)                Output Shape              Param #   \n",
            "=================================================================\n",
            " dense_47 (Dense)            (None, 32)                960       \n",
            "                                                                 \n",
            " dropout_38 (Dropout)        (None, 32)                0         \n",
            "                                                                 \n",
            " dense_48 (Dense)            (None, 1)                 33        \n",
            "                                                                 \n",
            "=================================================================\n",
            "Total params: 993\n",
            "Trainable params: 993\n",
            "Non-trainable params: 0\n",
            "_________________________________________________________________\n",
            "Epoch 1/15\n"
          ]
        },
        {
          "output_type": "stream",
          "name": "stderr",
          "text": [
            "/usr/local/lib/python3.9/dist-packages/keras/backend.py:5703: UserWarning: \"`binary_crossentropy` received `from_logits=True`, but the `output` argument was produced by a Sigmoid activation and thus does not represent logits. Was this intended?\n",
            "  output, from_logits = _get_logits(\n"
          ]
        },
        {
          "output_type": "stream",
          "name": "stdout",
          "text": [
            "87/89 [============================>.] - ETA: 0s - loss: 0.0751 - precision: 0.0103 - recall: 0.4921 - prc: 0.2109"
          ]
        },
        {
          "output_type": "stream",
          "name": "stderr",
          "text": [
            "/usr/local/lib/python3.9/dist-packages/keras/backend.py:5703: UserWarning: \"`binary_crossentropy` received `from_logits=True`, but the `output` argument was produced by a Sigmoid activation and thus does not represent logits. Was this intended?\n",
            "  output, from_logits = _get_logits(\n"
          ]
        },
        {
          "output_type": "stream",
          "name": "stdout",
          "text": [
            "\b\b\b\b\b\b\b\b\b\b\b\b\b\b\b\b\b\b\b\b\b\b\b\b\b\b\b\b\b\b\b\b\b\b\b\b\b\b\b\b\b\b\b\b\b\b\b\b\b\b\b\b\b\b\b\b\b\b\b\b\b\b\b\b\b\b\b\b\b\b\b\b\b\b\b\b\b\b\b\b\b\b\b\b\b\b\b\b\b\b\b\b\b\b\b\b\b\b\b\b\b\b\b\b\b\b\b\b\b\b\b\b\b\b\r89/89 [==============================] - 2s 9ms/step - loss: 0.0742 - precision: 0.0103 - recall: 0.4896 - prc: 0.2103 - val_loss: 0.1283 - val_precision: 0.8750 - val_recall: 0.4444 - val_prc: 0.4811\n",
            "Epoch 2/15\n",
            "89/89 [==============================] - 0s 5ms/step - loss: 0.0172 - precision: 0.6333 - recall: 0.4706 - prc: 0.4254 - val_loss: 0.0284 - val_precision: 0.8889 - val_recall: 0.5079 - val_prc: 0.5969\n",
            "Epoch 3/15\n",
            "89/89 [==============================] - 1s 6ms/step - loss: 0.0054 - precision: 0.8565 - recall: 0.5542 - prc: 0.5473 - val_loss: 0.0093 - val_precision: 0.8542 - val_recall: 0.6508 - val_prc: 0.6564\n",
            "Epoch 4/15\n",
            "89/89 [==============================] - 0s 5ms/step - loss: 0.0026 - precision: 0.8543 - recall: 0.6533 - prc: 0.6383 - val_loss: 0.0051 - val_precision: 0.8776 - val_recall: 0.6825 - val_prc: 0.6936\n",
            "Epoch 5/15\n",
            "89/89 [==============================] - 1s 6ms/step - loss: 0.0019 - precision: 0.8577 - recall: 0.6347 - prc: 0.6439 - val_loss: 0.0041 - val_precision: 0.8571 - val_recall: 0.7619 - val_prc: 0.7026\n",
            "Epoch 6/15\n",
            "89/89 [==============================] - 0s 6ms/step - loss: 0.0017 - precision: 0.8638 - recall: 0.6873 - prc: 0.6674 - val_loss: 0.0036 - val_precision: 0.8571 - val_recall: 0.7619 - val_prc: 0.7195\n",
            "Epoch 7/15\n",
            "89/89 [==============================] - 1s 6ms/step - loss: 0.0015 - precision: 0.8769 - recall: 0.7059 - prc: 0.6810 - val_loss: 0.0033 - val_precision: 0.8519 - val_recall: 0.7302 - val_prc: 0.7237\n",
            "Epoch 8/15\n",
            "89/89 [==============================] - 0s 5ms/step - loss: 0.0014 - precision: 0.8960 - recall: 0.6935 - prc: 0.7050 - val_loss: 0.0033 - val_precision: 0.8545 - val_recall: 0.7460 - val_prc: 0.7239\n",
            "Epoch 9/15\n",
            "89/89 [==============================] - 0s 5ms/step - loss: 0.0014 - precision: 0.8755 - recall: 0.7183 - prc: 0.6809 - val_loss: 0.0032 - val_precision: 0.8545 - val_recall: 0.7460 - val_prc: 0.7317\n",
            "Epoch 10/15\n",
            "89/89 [==============================] - 1s 7ms/step - loss: 0.0013 - precision: 0.8876 - recall: 0.7090 - prc: 0.6862 - val_loss: 0.0031 - val_precision: 0.8571 - val_recall: 0.7619 - val_prc: 0.7468\n",
            "Epoch 11/15\n",
            "89/89 [==============================] - 1s 8ms/step - loss: 0.0013 - precision: 0.8885 - recall: 0.7152 - prc: 0.7106 - val_loss: 0.0031 - val_precision: 0.8571 - val_recall: 0.7619 - val_prc: 0.7334\n",
            "Epoch 12/15\n",
            "89/89 [==============================] - 1s 8ms/step - loss: 0.0012 - precision: 0.8697 - recall: 0.7028 - prc: 0.7073 - val_loss: 0.0031 - val_precision: 0.8448 - val_recall: 0.7778 - val_prc: 0.7327\n",
            "Epoch 13/15\n",
            "89/89 [==============================] - 1s 8ms/step - loss: 0.0012 - precision: 0.8722 - recall: 0.7183 - prc: 0.7085 - val_loss: 0.0030 - val_precision: 0.8571 - val_recall: 0.7619 - val_prc: 0.7401\n",
            "Epoch 14/15\n",
            "89/89 [==============================] - 1s 6ms/step - loss: 0.0011 - precision: 0.8915 - recall: 0.7121 - prc: 0.7453 - val_loss: 0.0030 - val_precision: 0.8421 - val_recall: 0.7619 - val_prc: 0.7300\n",
            "Epoch 15/15\n",
            "89/89 [==============================] - 0s 5ms/step - loss: 0.0011 - precision: 0.8817 - recall: 0.7152 - prc: 0.7315 - val_loss: 0.0029 - val_precision: 0.8421 - val_recall: 0.7619 - val_prc: 0.7422\n",
            "1419/1419 [==============================] - 2s 1ms/step\n",
            "****************************** w =  0.48000000000000015\n",
            "****************************** w =  2\n",
            "Model: \"sequential_39\"\n",
            "_________________________________________________________________\n",
            " Layer (type)                Output Shape              Param #   \n",
            "=================================================================\n",
            " dense_49 (Dense)            (None, 32)                960       \n",
            "                                                                 \n",
            " dropout_39 (Dropout)        (None, 32)                0         \n",
            "                                                                 \n",
            " dense_50 (Dense)            (None, 1)                 33        \n",
            "                                                                 \n",
            "=================================================================\n",
            "Total params: 993\n",
            "Trainable params: 993\n",
            "Non-trainable params: 0\n",
            "_________________________________________________________________\n",
            "Epoch 1/15\n"
          ]
        },
        {
          "output_type": "stream",
          "name": "stderr",
          "text": [
            "/usr/local/lib/python3.9/dist-packages/keras/backend.py:5703: UserWarning: \"`binary_crossentropy` received `from_logits=True`, but the `output` argument was produced by a Sigmoid activation and thus does not represent logits. Was this intended?\n",
            "  output, from_logits = _get_logits(\n"
          ]
        },
        {
          "output_type": "stream",
          "name": "stdout",
          "text": [
            "85/89 [===========================>..] - ETA: 0s - loss: 0.0780 - precision: 0.0054 - recall: 0.2312 - prc: 0.0296"
          ]
        },
        {
          "output_type": "stream",
          "name": "stderr",
          "text": [
            "/usr/local/lib/python3.9/dist-packages/keras/backend.py:5703: UserWarning: \"`binary_crossentropy` received `from_logits=True`, but the `output` argument was produced by a Sigmoid activation and thus does not represent logits. Was this intended?\n",
            "  output, from_logits = _get_logits(\n"
          ]
        },
        {
          "output_type": "stream",
          "name": "stdout",
          "text": [
            "\b\b\b\b\b\b\b\b\b\b\b\b\b\b\b\b\b\b\b\b\b\b\b\b\b\b\b\b\b\b\b\b\b\b\b\b\b\b\b\b\b\b\b\b\b\b\b\b\b\b\b\b\b\b\b\b\b\b\b\b\b\b\b\b\b\b\b\b\b\b\b\b\b\b\b\b\b\b\b\b\b\b\b\b\b\b\b\b\b\b\b\b\b\b\b\b\b\b\b\b\b\b\b\b\b\b\b\b\b\b\b\b\b\b\r89/89 [==============================] - 2s 10ms/step - loss: 0.0761 - precision: 0.0058 - recall: 0.2383 - prc: 0.0294 - val_loss: 0.1173 - val_precision: 0.7857 - val_recall: 0.1746 - val_prc: 0.2393\n",
            "Epoch 2/15\n",
            "89/89 [==============================] - 1s 6ms/step - loss: 0.0168 - precision: 0.5573 - recall: 0.3313 - prc: 0.2850 - val_loss: 0.0253 - val_precision: 0.8710 - val_recall: 0.4286 - val_prc: 0.5665\n",
            "Epoch 3/15\n",
            "89/89 [==============================] - 1s 6ms/step - loss: 0.0051 - precision: 0.8564 - recall: 0.5356 - prc: 0.5050 - val_loss: 0.0083 - val_precision: 0.8788 - val_recall: 0.4603 - val_prc: 0.6187\n",
            "Epoch 4/15\n",
            "89/89 [==============================] - 1s 7ms/step - loss: 0.0025 - precision: 0.8591 - recall: 0.5851 - prc: 0.5759 - val_loss: 0.0047 - val_precision: 0.8409 - val_recall: 0.5873 - val_prc: 0.6701\n",
            "Epoch 5/15\n",
            "89/89 [==============================] - 1s 8ms/step - loss: 0.0017 - precision: 0.8622 - recall: 0.6006 - prc: 0.6485 - val_loss: 0.0038 - val_precision: 0.8298 - val_recall: 0.6190 - val_prc: 0.6830\n",
            "Epoch 6/15\n",
            "89/89 [==============================] - 1s 8ms/step - loss: 0.0016 - precision: 0.8595 - recall: 0.6440 - prc: 0.6491 - val_loss: 0.0034 - val_precision: 0.8400 - val_recall: 0.6667 - val_prc: 0.6865\n",
            "Epoch 7/15\n",
            "89/89 [==============================] - 1s 8ms/step - loss: 0.0014 - precision: 0.8765 - recall: 0.6594 - prc: 0.6782 - val_loss: 0.0032 - val_precision: 0.8400 - val_recall: 0.6667 - val_prc: 0.7318\n",
            "Epoch 8/15\n",
            "89/89 [==============================] - 1s 7ms/step - loss: 0.0013 - precision: 0.8920 - recall: 0.6904 - prc: 0.6909 - val_loss: 0.0031 - val_precision: 0.8431 - val_recall: 0.6825 - val_prc: 0.7462\n",
            "Epoch 9/15\n",
            "89/89 [==============================] - 1s 6ms/step - loss: 0.0012 - precision: 0.8811 - recall: 0.6656 - prc: 0.7037 - val_loss: 0.0031 - val_precision: 0.8269 - val_recall: 0.6825 - val_prc: 0.7213\n",
            "Epoch 10/15\n",
            "89/89 [==============================] - 1s 6ms/step - loss: 0.0012 - precision: 0.8924 - recall: 0.6935 - prc: 0.7177 - val_loss: 0.0030 - val_precision: 0.8269 - val_recall: 0.6825 - val_prc: 0.7540\n",
            "Epoch 11/15\n",
            "89/89 [==============================] - 1s 6ms/step - loss: 0.0012 - precision: 0.8776 - recall: 0.6656 - prc: 0.7290 - val_loss: 0.0030 - val_precision: 0.8302 - val_recall: 0.6984 - val_prc: 0.7540\n",
            "Epoch 12/15\n",
            "89/89 [==============================] - 0s 5ms/step - loss: 0.0012 - precision: 0.8765 - recall: 0.6811 - prc: 0.7118 - val_loss: 0.0030 - val_precision: 0.8302 - val_recall: 0.6984 - val_prc: 0.7568\n",
            "Epoch 13/15\n",
            "89/89 [==============================] - 1s 6ms/step - loss: 0.0011 - precision: 0.8780 - recall: 0.6904 - prc: 0.7177 - val_loss: 0.0029 - val_precision: 0.8302 - val_recall: 0.6984 - val_prc: 0.7619\n",
            "Epoch 14/15\n",
            "89/89 [==============================] - 0s 5ms/step - loss: 0.0011 - precision: 0.8731 - recall: 0.7028 - prc: 0.7368 - val_loss: 0.0028 - val_precision: 0.8511 - val_recall: 0.6349 - val_prc: 0.7781\n",
            "Epoch 15/15\n",
            "89/89 [==============================] - 0s 6ms/step - loss: 0.0011 - precision: 0.8805 - recall: 0.6842 - prc: 0.7333 - val_loss: 0.0029 - val_precision: 0.8302 - val_recall: 0.6984 - val_prc: 0.7702\n",
            "1419/1419 [==============================] - 2s 1ms/step\n"
          ]
        }
      ]
    },
    {
      "cell_type": "code",
      "source": [
        "for i in range (len(val_preds_rms_gamma)):\n",
        "  print(\"parameters for this case : (w,gamma) \" ,parameters[i] )\n",
        "  print(classification_report(y_val, val_preds_rms_gamma[i]))\n",
        "  m = keras.metrics.AUC(name='prc', curve='PR')\n",
        "  m.update_state(y_val, val_preds_rms_gamma[i])\n",
        "  print(\"prauc\",m.result().numpy())\n",
        "        "
      ],
      "metadata": {
        "id": "vZ0-7fEBj5K5",
        "colab": {
          "base_uri": "https://localhost:8080/"
        },
        "outputId": "152af2f3-ebb9-420e-9b30-55d905772c39"
      },
      "execution_count": 34,
      "outputs": [
        {
          "output_type": "stream",
          "name": "stdout",
          "text": [
            "parameters for this case : (w,gamma)  [0.3, 2]\n",
            "              precision    recall  f1-score   support\n",
            "\n",
            "           0       1.00      1.00      1.00     45333\n",
            "           1       0.78      0.78      0.78        63\n",
            "\n",
            "    accuracy                           1.00     45396\n",
            "   macro avg       0.89      0.89      0.89     45396\n",
            "weighted avg       1.00      1.00      1.00     45396\n",
            "\n",
            "prauc 0.60658675\n",
            "parameters for this case : (w,gamma)  [0.32, 2]\n",
            "              precision    recall  f1-score   support\n",
            "\n",
            "           0       1.00      1.00      1.00     45333\n",
            "           1       0.78      0.81      0.80        63\n",
            "\n",
            "    accuracy                           1.00     45396\n",
            "   macro avg       0.89      0.90      0.90     45396\n",
            "weighted avg       1.00      1.00      1.00     45396\n",
            "\n",
            "prauc 0.6366182\n",
            "parameters for this case : (w,gamma)  [0.34, 2]\n",
            "              precision    recall  f1-score   support\n",
            "\n",
            "           0       1.00      1.00      1.00     45333\n",
            "           1       0.80      0.78      0.79        63\n",
            "\n",
            "    accuracy                           1.00     45396\n",
            "   macro avg       0.90      0.89      0.90     45396\n",
            "weighted avg       1.00      1.00      1.00     45396\n",
            "\n",
            "prauc 0.62642854\n",
            "parameters for this case : (w,gamma)  [0.36000000000000004, 2]\n",
            "              precision    recall  f1-score   support\n",
            "\n",
            "           0       1.00      1.00      1.00     45333\n",
            "           1       0.84      0.78      0.81        63\n",
            "\n",
            "    accuracy                           1.00     45396\n",
            "   macro avg       0.92      0.89      0.90     45396\n",
            "weighted avg       1.00      1.00      1.00     45396\n",
            "\n",
            "prauc 0.6587564\n",
            "parameters for this case : (w,gamma)  [0.38000000000000006, 2]\n",
            "              precision    recall  f1-score   support\n",
            "\n",
            "           0       1.00      1.00      1.00     45333\n",
            "           1       0.84      0.78      0.81        63\n",
            "\n",
            "    accuracy                           1.00     45396\n",
            "   macro avg       0.92      0.89      0.90     45396\n",
            "weighted avg       1.00      1.00      1.00     45396\n",
            "\n",
            "prauc 0.6587564\n",
            "parameters for this case : (w,gamma)  [0.4000000000000001, 2]\n",
            "              precision    recall  f1-score   support\n",
            "\n",
            "           0       1.00      1.00      1.00     45333\n",
            "           1       0.84      0.78      0.81        63\n",
            "\n",
            "    accuracy                           1.00     45396\n",
            "   macro avg       0.92      0.89      0.90     45396\n",
            "weighted avg       1.00      1.00      1.00     45396\n",
            "\n",
            "prauc 0.6587564\n",
            "parameters for this case : (w,gamma)  [0.4200000000000001, 2]\n",
            "              precision    recall  f1-score   support\n",
            "\n",
            "           0       1.00      1.00      1.00     45333\n",
            "           1       0.84      0.75      0.79        63\n",
            "\n",
            "    accuracy                           1.00     45396\n",
            "   macro avg       0.92      0.87      0.89     45396\n",
            "weighted avg       1.00      1.00      1.00     45396\n",
            "\n",
            "prauc 0.627986\n",
            "parameters for this case : (w,gamma)  [0.4400000000000001, 2]\n",
            "              precision    recall  f1-score   support\n",
            "\n",
            "           0       1.00      1.00      1.00     45333\n",
            "           1       0.81      0.76      0.79        63\n",
            "\n",
            "    accuracy                           1.00     45396\n",
            "   macro avg       0.91      0.88      0.89     45396\n",
            "weighted avg       1.00      1.00      1.00     45396\n",
            "\n",
            "prauc 0.621608\n",
            "parameters for this case : (w,gamma)  [0.46000000000000013, 2]\n",
            "              precision    recall  f1-score   support\n",
            "\n",
            "           0       1.00      1.00      1.00     45333\n",
            "           1       0.84      0.76      0.80        63\n",
            "\n",
            "    accuracy                           1.00     45396\n",
            "   macro avg       0.92      0.88      0.90     45396\n",
            "weighted avg       1.00      1.00      1.00     45396\n",
            "\n",
            "prauc 0.643366\n",
            "parameters for this case : (w,gamma)  [0.48000000000000015, 2]\n",
            "              precision    recall  f1-score   support\n",
            "\n",
            "           0       1.00      1.00      1.00     45333\n",
            "           1       0.83      0.70      0.76        63\n",
            "\n",
            "    accuracy                           1.00     45396\n",
            "   macro avg       0.91      0.85      0.88     45396\n",
            "weighted avg       1.00      1.00      1.00     45396\n",
            "\n",
            "prauc 0.581916\n"
          ]
        }
      ]
    },
    {
      "cell_type": "code",
      "source": [
        "prediction_pd = pd.DataFrame(val_preds_rms_gamma)\n",
        "parameters_pd = pd.DataFrame(parameters)"
      ],
      "metadata": {
        "id": "DlX-vUXZna-J"
      },
      "execution_count": null,
      "outputs": []
    },
    {
      "cell_type": "code",
      "source": [
        "val_preds_rms_gamma[0].shape"
      ],
      "metadata": {
        "colab": {
          "base_uri": "https://localhost:8080/"
        },
        "id": "xpzSMsckn3bC",
        "outputId": "eea3187a-db17-42a0-e585-7ab0cef9f3b7"
      },
      "execution_count": null,
      "outputs": [
        {
          "output_type": "execute_result",
          "data": {
            "text/plain": [
              "(45396, 1)"
            ]
          },
          "metadata": {},
          "execution_count": 99
        }
      ]
    },
    {
      "cell_type": "markdown",
      "source": [
        "#Parameter Tuning using Keras Tuner"
      ],
      "metadata": {
        "id": "7JHnNHWxiCLp"
      }
    },
    {
      "cell_type": "code",
      "source": [
        "layer1_units=1\n",
        "drop_out_layer1=2\n",
        "layer_2_units=3\n",
        "drop_out_layer_2=4\n",
        "layer_3_units=5\n",
        "dropout_layer3=6\n",
        "layer_4_units=7\n",
        "dropout_layer4=8\n",
        "learningrate=9\n",
        "optimizer=10"
      ],
      "metadata": {
        "id": "8PicRlwLiBbA"
      },
      "execution_count": null,
      "outputs": []
    },
    {
      "cell_type": "code",
      "source": [
        "def create_dnn_tune(args):\n",
        "  model = Sequential()\n",
        "  model.add(Dense(args[layer1_units], activation='relu', input_dim=X_train.shape[-1]))\n",
        "  model.add(Dense(1, activation='sigmoid'))\n",
        "\n",
        "  model.compile(optimizer=args[optimizer],loss='binary_crossentropy',metrics=METRICS)\n",
        "  return model  "
      ],
      "metadata": {
        "id": "pEda54R8jOdq"
      },
      "execution_count": null,
      "outputs": []
    },
    {
      "cell_type": "code",
      "source": [
        "### TUNING CLASS\n",
        "class LSTMHyperModel(kt.HyperModel):\n",
        "  def build(self, hp):\n",
        "    args = {}\n",
        "    args[layer1_units] = hp.Int(\"base layer units\", min_value=32, max_value=128, step=32)\n",
        "    args[optimizer] = hp.Choice(\"optimizer\", ['adam', 'adagrad', 'rmsprop'])\n",
        "    # args[learningrate] = hp.Choice(\"learning_rate\", [.001, .01, .005])\n",
        "\n",
        "    model = create_dnn_tune(args)\n",
        "    return model"
      ],
      "metadata": {
        "id": "ipZuL5cQiMda"
      },
      "execution_count": null,
      "outputs": []
    },
    {
      "cell_type": "code",
      "source": [
        "tuner = kt.BayesianOptimization(\n",
        "    hypermodel=LSTMHyperModel(),\n",
        "    objective=kt.Objective(\"val_prc\", direction=\"max\"),\n",
        "    directory='keras_tuner_outputs',\n",
        "    project_name='models',\n",
        "    overwrite=True,\n",
        "    max_trials=20\n",
        ")"
      ],
      "metadata": {
        "id": "FvkTdJ7eobXM"
      },
      "execution_count": null,
      "outputs": []
    },
    {
      "cell_type": "code",
      "source": [
        "tuner.search_space_summary()"
      ],
      "metadata": {
        "colab": {
          "base_uri": "https://localhost:8080/"
        },
        "id": "fMpVO1TpovCb",
        "outputId": "a2bca78a-4537-4c6e-b4d7-aa4b9d39b160"
      },
      "execution_count": null,
      "outputs": [
        {
          "output_type": "stream",
          "name": "stdout",
          "text": [
            "Search space summary\n",
            "Default search space size: 2\n",
            "base layer units (Int)\n",
            "{'default': None, 'conditions': [], 'min_value': 32, 'max_value': 128, 'step': 32, 'sampling': 'linear'}\n",
            "optimizer (Choice)\n",
            "{'default': 'adam', 'conditions': [], 'values': ['adam', 'adagrad', 'rmsprop'], 'ordered': False}\n"
          ]
        }
      ]
    },
    {
      "cell_type": "code",
      "source": [
        "tuner.search(X_train_norm,y_train ,batch_size=2048, epochs=15,  validation_data=(X_val_norm,y_val), callbacks=[learning_rate_reduction] )"
      ],
      "metadata": {
        "colab": {
          "base_uri": "https://localhost:8080/"
        },
        "id": "bFKU2u4Gp0vX",
        "outputId": "9f53ef20-ac2d-40f2-ccee-3a7301e11a2f"
      },
      "execution_count": null,
      "outputs": [
        {
          "output_type": "stream",
          "name": "stdout",
          "text": [
            "Trial 20 Complete [00h 00m 11s]\n",
            "val_prc: 0.806682825088501\n",
            "\n",
            "Best val_prc So Far: 0.811677098274231\n",
            "Total elapsed time: 00h 03m 46s\n"
          ]
        }
      ]
    },
    {
      "cell_type": "code",
      "source": [
        "tuner.results_summary()"
      ],
      "metadata": {
        "id": "WbCzRBgSo7wL"
      },
      "execution_count": null,
      "outputs": []
    },
    {
      "cell_type": "code",
      "source": [
        "best_preds_test_ann= tuner.get_best_models()[0].predict(X_test_norm)\n",
        "best_preds_val_ann = tuner.get_best_models()[0].predict(X_val_norm)"
      ],
      "metadata": {
        "id": "CmbctNhfo97H"
      },
      "execution_count": null,
      "outputs": []
    },
    {
      "cell_type": "code",
      "source": [
        "## PRAUC on test data\n",
        "m=keras.metrics.AUC(name='prc', curve='PR')\n",
        "m.update_state(y_test, best_preds_test_ann)\n",
        "m.result().numpy()"
      ],
      "metadata": {
        "colab": {
          "base_uri": "https://localhost:8080/"
        },
        "id": "YRl-FaPOsFPY",
        "outputId": "ce04d314-39f7-4467-fb50-4ac1c4c7aad1"
      },
      "execution_count": null,
      "outputs": [
        {
          "output_type": "execute_result",
          "data": {
            "text/plain": [
              "0.7827586"
            ]
          },
          "metadata": {},
          "execution_count": 45
        }
      ]
    },
    {
      "cell_type": "code",
      "source": [
        "## PRAUC on validation data\n",
        "m=keras.metrics.AUC(name='prc', curve='PR')\n",
        "m.update_state(y_val, best_preds_val_ann)\n",
        "m.result().numpy()"
      ],
      "metadata": {
        "colab": {
          "base_uri": "https://localhost:8080/"
        },
        "id": "fzbUylCbu6Q7",
        "outputId": "5e6faf64-fac6-477e-ba35-289d9de4d9fc"
      },
      "execution_count": null,
      "outputs": [
        {
          "output_type": "execute_result",
          "data": {
            "text/plain": [
              "0.8116771"
            ]
          },
          "metadata": {},
          "execution_count": 46
        }
      ]
    },
    {
      "cell_type": "code",
      "source": [
        "visualize_results(y_test, best_preds_test_ann>0.5)"
      ],
      "metadata": {
        "colab": {
          "base_uri": "https://localhost:8080/",
          "height": 712
        },
        "id": "AUARovQPuqwc",
        "outputId": "f92c1b4f-cacc-4f40-fd1a-61bb3e0714e6"
      },
      "execution_count": null,
      "outputs": [
        {
          "output_type": "stream",
          "name": "stderr",
          "text": [
            "WARNING:tensorflow:Detecting that an object or model or tf.train.Checkpoint is being deleted with unrestored values. See the following logs for the specific values in question. To silence these warnings, use `status.expect_partial()`. See https://www.tensorflow.org/api_docs/python/tf/train/Checkpoint#restorefor details about the status object returned by the restore function.\n",
            "WARNING:tensorflow:Value in checkpoint could not be found in the restored object: (root).optimizer._variables.1\n",
            "WARNING:tensorflow:Value in checkpoint could not be found in the restored object: (root).optimizer._variables.2\n",
            "WARNING:tensorflow:Value in checkpoint could not be found in the restored object: (root).optimizer._variables.3\n",
            "WARNING:tensorflow:Value in checkpoint could not be found in the restored object: (root).optimizer._variables.4\n"
          ]
        },
        {
          "output_type": "stream",
          "name": "stdout",
          "text": [
            "              precision    recall  f1-score   support\n",
            "\n",
            "           0       1.00      1.00      1.00     56659\n",
            "           1       0.85      0.66      0.74        87\n",
            "\n",
            "    accuracy                           1.00     56746\n",
            "   macro avg       0.93      0.83      0.87     56746\n",
            "weighted avg       1.00      1.00      1.00     56746\n",
            "\n"
          ]
        },
        {
          "output_type": "display_data",
          "data": {
            "text/plain": [
              "<Figure size 640x480 with 2 Axes>"
            ],
            "image/png": "[encoded data removed]"
          },
          "metadata": {}
        }
      ]
    },
    {
      "cell_type": "code",
      "source": [],
      "metadata": {
        "id": "ejkwipYnusnX"
      },
      "execution_count": null,
      "outputs": []
    },
    {
      "cell_type": "markdown",
      "source": [
        "##Feature Selection"
      ],
      "metadata": {
        "id": "oYJ6WB92WQeM"
      }
    },
    {
      "cell_type": "markdown",
      "source": [
        "#Feature selection using variance"
      ],
      "metadata": {
        "id": "xopzkyBBYo0F"
      }
    },
    {
      "cell_type": "code",
      "source": [
        "data_FS = data[['Time', 'V1', 'V2', 'V3', 'V4', 'V5', 'V6', 'V7', 'V8', 'V9','V10', 'Amount', 'Class']]"
      ],
      "metadata": {
        "id": "HI0vLEWzRIAJ"
      },
      "execution_count": null,
      "outputs": []
    },
    {
      "cell_type": "code",
      "source": [
        "X_FS = data_FS.drop(columns=['Class'])\n",
        "Y_FS = pd.DataFrame(data['Class'], columns=['Class'])"
      ],
      "metadata": {
        "id": "ew_g1sItWqnc"
      },
      "execution_count": null,
      "outputs": []
    },
    {
      "cell_type": "code",
      "source": [
        "x_fs,X_test_fs,y_fs,Y_test_fs= train_test_split(X_FS,Y_FS, random_state=0, test_size=0.2)\n",
        "X_train_fs,X_val_fs,Y_train_fs,Y_val_fs= train_test_split(x_fs,y_fs, random_state=0, test_size=0.2)"
      ],
      "metadata": {
        "id": "PCdn5GHaXKaG"
      },
      "execution_count": null,
      "outputs": []
    },
    {
      "cell_type": "code",
      "source": [
        "scaler_fs=StandardScaler().fit(X_train_fs)\n",
        "X_train_norm_fs= scaler_fs.transform(X_train_fs)\n",
        "X_val_norm_fs  = scaler_fs.transform(X_val_fs)\n",
        "X_test_norm_fs = scaler_fs.transform(X_test_fs)"
      ],
      "metadata": {
        "id": "Oy57tBkaZaD5"
      },
      "execution_count": null,
      "outputs": []
    },
    {
      "cell_type": "code",
      "source": [
        "import tensorflow as tf\n",
        "\n",
        "def create_cnn():\n",
        "  model = Sequential()\n",
        "  model.add(Dense(32, activation='relu', input_dim=29))\n",
        "  # model.add(Conv1D(128, 3, activation='relu', padding ='same', input_shape=(X_train_fs.shape[-1],1)))\n",
        "  # model.add(Dropout(0.2))\n",
        "\n",
        "  model.add(Flatten())\n",
        "  model.add(Dense(1, activation='sigmoid'))\n",
        "\n",
        "  model.compile(optimizer='rmsprop',loss=tf.keras.losses.BinaryCrossentropy(from_logits=True),metrics=METRICS)\n",
        "  return model\n",
        "\n"
      ],
      "metadata": {
        "id": "H2h_wWYSZ4os"
      },
      "execution_count": null,
      "outputs": []
    },
    {
      "cell_type": "code",
      "source": [
        "cnn_fs = create_cnn()\n",
        "cnn_fs.summary()\n",
        "cnn_fs.fit(X_train_norm_fs,Y_train_fs, batch_size=2048, epochs=100, validation_data=(X_val_norm_fs,Y_val_fs))"
      ],
      "metadata": {
        "colab": {
          "base_uri": "https://localhost:8080/"
        },
        "id": "IEU8k37_aQa7",
        "outputId": "2cb658a8-89e0-4f5b-bc15-0ae3fd3b7e41"
      },
      "execution_count": null,
      "outputs": [
        {
          "output_type": "stream",
          "name": "stdout",
          "text": [
            "Model: \"sequential_14\"\n",
            "_________________________________________________________________\n",
            " Layer (type)                Output Shape              Param #   \n",
            "=================================================================\n",
            " conv1d_11 (Conv1D)          (None, 12, 128)           512       \n",
            "                                                                 \n",
            " dropout_11 (Dropout)        (None, 12, 128)           0         \n",
            "                                                                 \n",
            " flatten_11 (Flatten)        (None, 1536)              0         \n",
            "                                                                 \n",
            " dense_17 (Dense)            (None, 1)                 1537      \n",
            "                                                                 \n",
            "=================================================================\n",
            "Total params: 2,049\n",
            "Trainable params: 2,049\n",
            "Non-trainable params: 0\n",
            "_________________________________________________________________\n",
            "Epoch 1/100\n"
          ]
        },
        {
          "output_type": "stream",
          "name": "stderr",
          "text": [
            "/usr/local/lib/python3.9/dist-packages/keras/backend.py:5703: UserWarning: \"`binary_crossentropy` received `from_logits=True`, but the `output` argument was produced by a Sigmoid activation and thus does not represent logits. Was this intended?\n",
            "  output, from_logits = _get_logits(\n"
          ]
        },
        {
          "output_type": "stream",
          "name": "stdout",
          "text": [
            "82/89 [==========================>...] - ETA: 0s - loss: 0.1081 - precision: 0.0697 - recall: 0.1296 - prc: 0.1205"
          ]
        },
        {
          "output_type": "stream",
          "name": "stderr",
          "text": [
            "/usr/local/lib/python3.9/dist-packages/keras/backend.py:5703: UserWarning: \"`binary_crossentropy` received `from_logits=True`, but the `output` argument was produced by a Sigmoid activation and thus does not represent logits. Was this intended?\n",
            "  output, from_logits = _get_logits(\n"
          ]
        },
        {
          "output_type": "stream",
          "name": "stdout",
          "text": [
            "\b\b\b\b\b\b\b\b\b\b\b\b\b\b\b\b\b\b\b\b\b\b\b\b\b\b\b\b\b\b\b\b\b\b\b\b\b\b\b\b\b\b\b\b\b\b\b\b\b\b\b\b\b\b\b\b\b\b\b\b\b\b\b\b\b\b\b\b\b\b\b\b\b\b\b\b\b\b\b\b\b\b\b\b\b\b\b\b\b\b\b\b\b\b\b\b\b\b\b\b\b\b\b\b\b\b\b\b\b\b\b\b\b\b\r89/89 [==============================] - 3s 10ms/step - loss: 0.1016 - precision: 0.0697 - recall: 0.1192 - prc: 0.1109 - val_loss: 0.0132 - val_precision: 0.0000e+00 - val_recall: 0.0000e+00 - val_prc: 0.0242\n",
            "Epoch 2/100\n",
            "89/89 [==============================] - 1s 6ms/step - loss: 0.0076 - precision: 0.8435 - recall: 0.3003 - prc: 0.5423 - val_loss: 0.0039 - val_precision: 0.9091 - val_recall: 0.4762 - val_prc: 0.6832\n",
            "Epoch 3/100\n",
            "89/89 [==============================] - 1s 6ms/step - loss: 0.0049 - precision: 0.8606 - recall: 0.5542 - prc: 0.6741 - val_loss: 0.0034 - val_precision: 0.9024 - val_recall: 0.5873 - val_prc: 0.6917\n",
            "Epoch 4/100\n",
            "89/89 [==============================] - 1s 7ms/step - loss: 0.0045 - precision: 0.8744 - recall: 0.6037 - prc: 0.6904 - val_loss: 0.0033 - val_precision: 0.8864 - val_recall: 0.6190 - val_prc: 0.7132\n",
            "Epoch 5/100\n",
            "89/89 [==============================] - 1s 6ms/step - loss: 0.0043 - precision: 0.8733 - recall: 0.5975 - prc: 0.6980 - val_loss: 0.0033 - val_precision: 0.8542 - val_recall: 0.6508 - val_prc: 0.7075\n",
            "Epoch 6/100\n",
            "89/89 [==============================] - 1s 6ms/step - loss: 0.0042 - precision: 0.8756 - recall: 0.6099 - prc: 0.7166 - val_loss: 0.0034 - val_precision: 0.7925 - val_recall: 0.6667 - val_prc: 0.7003\n",
            "Epoch 7/100\n",
            "89/89 [==============================] - 1s 6ms/step - loss: 0.0042 - precision: 0.8793 - recall: 0.6316 - prc: 0.7122 - val_loss: 0.0032 - val_precision: 0.9024 - val_recall: 0.5873 - val_prc: 0.7387\n",
            "Epoch 8/100\n",
            "89/89 [==============================] - 1s 6ms/step - loss: 0.0041 - precision: 0.8664 - recall: 0.6223 - prc: 0.7134 - val_loss: 0.0032 - val_precision: 0.9024 - val_recall: 0.5873 - val_prc: 0.7368\n",
            "Epoch 9/100\n",
            "89/89 [==============================] - 1s 7ms/step - loss: 0.0041 - precision: 0.8750 - recall: 0.6068 - prc: 0.7198 - val_loss: 0.0033 - val_precision: 0.8367 - val_recall: 0.6508 - val_prc: 0.7000\n",
            "Epoch 10/100\n",
            "89/89 [==============================] - 1s 7ms/step - loss: 0.0040 - precision: 0.8821 - recall: 0.6254 - prc: 0.7226 - val_loss: 0.0034 - val_precision: 0.7925 - val_recall: 0.6667 - val_prc: 0.7026\n",
            "Epoch 11/100\n",
            "89/89 [==============================] - 1s 6ms/step - loss: 0.0040 - precision: 0.8879 - recall: 0.6378 - prc: 0.7206 - val_loss: 0.0032 - val_precision: 0.8810 - val_recall: 0.5873 - val_prc: 0.7414\n",
            "Epoch 12/100\n",
            "89/89 [==============================] - 1s 7ms/step - loss: 0.0040 - precision: 0.8831 - recall: 0.6316 - prc: 0.7334 - val_loss: 0.0032 - val_precision: 0.8864 - val_recall: 0.6190 - val_prc: 0.7415\n",
            "Epoch 13/100\n",
            "89/89 [==============================] - 1s 8ms/step - loss: 0.0039 - precision: 0.8766 - recall: 0.6378 - prc: 0.7402 - val_loss: 0.0034 - val_precision: 0.8235 - val_recall: 0.6667 - val_prc: 0.6923\n",
            "Epoch 14/100\n",
            "89/89 [==============================] - 1s 8ms/step - loss: 0.0039 - precision: 0.8846 - recall: 0.6409 - prc: 0.7385 - val_loss: 0.0032 - val_precision: 0.8889 - val_recall: 0.6349 - val_prc: 0.7440\n",
            "Epoch 15/100\n",
            "89/89 [==============================] - 1s 9ms/step - loss: 0.0039 - precision: 0.8750 - recall: 0.6285 - prc: 0.7438 - val_loss: 0.0032 - val_precision: 0.8696 - val_recall: 0.6349 - val_prc: 0.7457\n",
            "Epoch 16/100\n",
            "89/89 [==============================] - 1s 7ms/step - loss: 0.0039 - precision: 0.8776 - recall: 0.6440 - prc: 0.7320 - val_loss: 0.0032 - val_precision: 0.8163 - val_recall: 0.6349 - val_prc: 0.7373\n",
            "Epoch 17/100\n",
            "89/89 [==============================] - 1s 6ms/step - loss: 0.0039 - precision: 0.8798 - recall: 0.6347 - prc: 0.7314 - val_loss: 0.0032 - val_precision: 0.8163 - val_recall: 0.6349 - val_prc: 0.7394\n",
            "Epoch 18/100\n",
            "89/89 [==============================] - 1s 6ms/step - loss: 0.0038 - precision: 0.8729 - recall: 0.6378 - prc: 0.7443 - val_loss: 0.0033 - val_precision: 0.8235 - val_recall: 0.6667 - val_prc: 0.7393\n",
            "Epoch 19/100\n",
            "89/89 [==============================] - 1s 6ms/step - loss: 0.0037 - precision: 0.8793 - recall: 0.6316 - prc: 0.7610 - val_loss: 0.0033 - val_precision: 0.8235 - val_recall: 0.6667 - val_prc: 0.7387\n",
            "Epoch 20/100\n",
            "89/89 [==============================] - 1s 7ms/step - loss: 0.0038 - precision: 0.8672 - recall: 0.6471 - prc: 0.7433 - val_loss: 0.0032 - val_precision: 0.8478 - val_recall: 0.6190 - val_prc: 0.7422\n",
            "Epoch 21/100\n",
            "89/89 [==============================] - 1s 6ms/step - loss: 0.0037 - precision: 0.8797 - recall: 0.6563 - prc: 0.7507 - val_loss: 0.0033 - val_precision: 0.8200 - val_recall: 0.6508 - val_prc: 0.7400\n",
            "Epoch 22/100\n",
            "89/89 [==============================] - 1s 6ms/step - loss: 0.0037 - precision: 0.8833 - recall: 0.6563 - prc: 0.7534 - val_loss: 0.0032 - val_precision: 0.8200 - val_recall: 0.6508 - val_prc: 0.7348\n",
            "Epoch 23/100\n",
            "89/89 [==============================] - 1s 6ms/step - loss: 0.0037 - precision: 0.8807 - recall: 0.6625 - prc: 0.7583 - val_loss: 0.0031 - val_precision: 0.8667 - val_recall: 0.6190 - val_prc: 0.7454\n",
            "Epoch 24/100\n",
            "89/89 [==============================] - 1s 6ms/step - loss: 0.0037 - precision: 0.8771 - recall: 0.6409 - prc: 0.7515 - val_loss: 0.0032 - val_precision: 0.8200 - val_recall: 0.6508 - val_prc: 0.7419\n",
            "Epoch 25/100\n",
            "89/89 [==============================] - 1s 6ms/step - loss: 0.0036 - precision: 0.8760 - recall: 0.6563 - prc: 0.7556 - val_loss: 0.0031 - val_precision: 0.8511 - val_recall: 0.6349 - val_prc: 0.7498\n",
            "Epoch 26/100\n",
            "89/89 [==============================] - 1s 6ms/step - loss: 0.0037 - precision: 0.8870 - recall: 0.6563 - prc: 0.7657 - val_loss: 0.0032 - val_precision: 0.8200 - val_recall: 0.6508 - val_prc: 0.7491\n",
            "Epoch 27/100\n",
            "89/89 [==============================] - 1s 7ms/step - loss: 0.0036 - precision: 0.8851 - recall: 0.6440 - prc: 0.7680 - val_loss: 0.0032 - val_precision: 0.8200 - val_recall: 0.6508 - val_prc: 0.7390\n",
            "Epoch 28/100\n",
            "89/89 [==============================] - 1s 6ms/step - loss: 0.0036 - precision: 0.8811 - recall: 0.6656 - prc: 0.7684 - val_loss: 0.0032 - val_precision: 0.9143 - val_recall: 0.5079 - val_prc: 0.7545\n",
            "Epoch 29/100\n",
            "89/89 [==============================] - 1s 6ms/step - loss: 0.0036 - precision: 0.8932 - recall: 0.6471 - prc: 0.7682 - val_loss: 0.0034 - val_precision: 0.8269 - val_recall: 0.6825 - val_prc: 0.7277\n",
            "Epoch 30/100\n",
            "89/89 [==============================] - 1s 6ms/step - loss: 0.0036 - precision: 0.8765 - recall: 0.6594 - prc: 0.7617 - val_loss: 0.0033 - val_precision: 0.8235 - val_recall: 0.6667 - val_prc: 0.7456\n",
            "Epoch 31/100\n",
            "89/89 [==============================] - 1s 6ms/step - loss: 0.0036 - precision: 0.8765 - recall: 0.6594 - prc: 0.7730 - val_loss: 0.0032 - val_precision: 0.8200 - val_recall: 0.6508 - val_prc: 0.7439\n",
            "Epoch 32/100\n",
            "89/89 [==============================] - 1s 7ms/step - loss: 0.0036 - precision: 0.8704 - recall: 0.6656 - prc: 0.7717 - val_loss: 0.0031 - val_precision: 0.8333 - val_recall: 0.6349 - val_prc: 0.7463\n",
            "Epoch 33/100\n",
            "89/89 [==============================] - 1s 6ms/step - loss: 0.0036 - precision: 0.8648 - recall: 0.6533 - prc: 0.7692 - val_loss: 0.0031 - val_precision: 0.8200 - val_recall: 0.6508 - val_prc: 0.7485\n",
            "Epoch 34/100\n",
            "89/89 [==============================] - 1s 8ms/step - loss: 0.0036 - precision: 0.8648 - recall: 0.6533 - prc: 0.7630 - val_loss: 0.0032 - val_precision: 0.8039 - val_recall: 0.6508 - val_prc: 0.7513\n",
            "Epoch 35/100\n",
            "89/89 [==============================] - 1s 8ms/step - loss: 0.0035 - precision: 0.8826 - recall: 0.6749 - prc: 0.7766 - val_loss: 0.0031 - val_precision: 0.8298 - val_recall: 0.6190 - val_prc: 0.7529\n",
            "Epoch 36/100\n",
            "89/89 [==============================] - 1s 8ms/step - loss: 0.0035 - precision: 0.8824 - recall: 0.6502 - prc: 0.7860 - val_loss: 0.0033 - val_precision: 0.8269 - val_recall: 0.6825 - val_prc: 0.7408\n",
            "Epoch 37/100\n",
            "89/89 [==============================] - 1s 8ms/step - loss: 0.0035 - precision: 0.8826 - recall: 0.6749 - prc: 0.7829 - val_loss: 0.0032 - val_precision: 0.8200 - val_recall: 0.6508 - val_prc: 0.7478\n",
            "Epoch 38/100\n",
            "89/89 [==============================] - 1s 6ms/step - loss: 0.0035 - precision: 0.8843 - recall: 0.6625 - prc: 0.7834 - val_loss: 0.0032 - val_precision: 0.8113 - val_recall: 0.6825 - val_prc: 0.7509\n",
            "Epoch 39/100\n",
            "89/89 [==============================] - 1s 6ms/step - loss: 0.0035 - precision: 0.8852 - recall: 0.6687 - prc: 0.7798 - val_loss: 0.0033 - val_precision: 0.8113 - val_recall: 0.6825 - val_prc: 0.7440\n",
            "Epoch 40/100\n",
            "89/89 [==============================] - 1s 6ms/step - loss: 0.0035 - precision: 0.8831 - recall: 0.6780 - prc: 0.7784 - val_loss: 0.0031 - val_precision: 0.8200 - val_recall: 0.6508 - val_prc: 0.7483\n",
            "Epoch 41/100\n",
            "89/89 [==============================] - 1s 6ms/step - loss: 0.0034 - precision: 0.8807 - recall: 0.6625 - prc: 0.7847 - val_loss: 0.0031 - val_precision: 0.8113 - val_recall: 0.6825 - val_prc: 0.7572\n",
            "Epoch 42/100\n",
            "89/89 [==============================] - 1s 6ms/step - loss: 0.0035 - precision: 0.8710 - recall: 0.6687 - prc: 0.7836 - val_loss: 0.0031 - val_precision: 0.8200 - val_recall: 0.6508 - val_prc: 0.7510\n",
            "Epoch 43/100\n",
            "89/89 [==============================] - 1s 7ms/step - loss: 0.0034 - precision: 0.9008 - recall: 0.6749 - prc: 0.7964 - val_loss: 0.0031 - val_precision: 0.8200 - val_recall: 0.6508 - val_prc: 0.7490\n",
            "Epoch 44/100\n",
            "89/89 [==============================] - 1s 6ms/step - loss: 0.0035 - precision: 0.8685 - recall: 0.6749 - prc: 0.7814 - val_loss: 0.0031 - val_precision: 0.8200 - val_recall: 0.6508 - val_prc: 0.7526\n",
            "Epoch 45/100\n",
            "89/89 [==============================] - 1s 6ms/step - loss: 0.0035 - precision: 0.8800 - recall: 0.6811 - prc: 0.7834 - val_loss: 0.0031 - val_precision: 0.7959 - val_recall: 0.6190 - val_prc: 0.7587\n",
            "Epoch 46/100\n",
            "89/89 [==============================] - 1s 6ms/step - loss: 0.0034 - precision: 0.8849 - recall: 0.6904 - prc: 0.7889 - val_loss: 0.0031 - val_precision: 0.8200 - val_recall: 0.6508 - val_prc: 0.7487\n",
            "Epoch 47/100\n",
            "89/89 [==============================] - 1s 6ms/step - loss: 0.0034 - precision: 0.8814 - recall: 0.6904 - prc: 0.7861 - val_loss: 0.0031 - val_precision: 0.8113 - val_recall: 0.6825 - val_prc: 0.7607\n",
            "Epoch 48/100\n",
            "89/89 [==============================] - 1s 6ms/step - loss: 0.0034 - precision: 0.8840 - recall: 0.6842 - prc: 0.7855 - val_loss: 0.0030 - val_precision: 0.8409 - val_recall: 0.5873 - val_prc: 0.7631\n",
            "Epoch 49/100\n",
            "89/89 [==============================] - 1s 6ms/step - loss: 0.0034 - precision: 0.8835 - recall: 0.6811 - prc: 0.7943 - val_loss: 0.0032 - val_precision: 0.8148 - val_recall: 0.6984 - val_prc: 0.7478\n",
            "Epoch 50/100\n",
            "89/89 [==============================] - 1s 6ms/step - loss: 0.0034 - precision: 0.8716 - recall: 0.6935 - prc: 0.7903 - val_loss: 0.0031 - val_precision: 0.8163 - val_recall: 0.6349 - val_prc: 0.7561\n",
            "Epoch 51/100\n",
            "89/89 [==============================] - 1s 6ms/step - loss: 0.0034 - precision: 0.8880 - recall: 0.6873 - prc: 0.7905 - val_loss: 0.0033 - val_precision: 0.7895 - val_recall: 0.7143 - val_prc: 0.7351\n",
            "Epoch 52/100\n",
            "89/89 [==============================] - 1s 6ms/step - loss: 0.0034 - precision: 0.8916 - recall: 0.6873 - prc: 0.7920 - val_loss: 0.0030 - val_precision: 0.8235 - val_recall: 0.6667 - val_prc: 0.7629\n",
            "Epoch 53/100\n",
            "89/89 [==============================] - 1s 6ms/step - loss: 0.0033 - precision: 0.8876 - recall: 0.7090 - prc: 0.8014 - val_loss: 0.0032 - val_precision: 0.8182 - val_recall: 0.7143 - val_prc: 0.7571\n",
            "Epoch 54/100\n",
            "89/89 [==============================] - 1s 7ms/step - loss: 0.0033 - precision: 0.8924 - recall: 0.6935 - prc: 0.7947 - val_loss: 0.0031 - val_precision: 0.8036 - val_recall: 0.7143 - val_prc: 0.7585\n",
            "Epoch 55/100\n",
            "89/89 [==============================] - 1s 7ms/step - loss: 0.0033 - precision: 0.8919 - recall: 0.7152 - prc: 0.7984 - val_loss: 0.0031 - val_precision: 0.8302 - val_recall: 0.6984 - val_prc: 0.7468\n",
            "Epoch 56/100\n",
            "89/89 [==============================] - 1s 8ms/step - loss: 0.0032 - precision: 0.8953 - recall: 0.7152 - prc: 0.8025 - val_loss: 0.0030 - val_precision: 0.8269 - val_recall: 0.6825 - val_prc: 0.7666\n",
            "Epoch 57/100\n",
            "89/89 [==============================] - 1s 8ms/step - loss: 0.0033 - precision: 0.8984 - recall: 0.7121 - prc: 0.8006 - val_loss: 0.0031 - val_precision: 0.8148 - val_recall: 0.6984 - val_prc: 0.7572\n",
            "Epoch 58/100\n",
            "89/89 [==============================] - 1s 8ms/step - loss: 0.0033 - precision: 0.8939 - recall: 0.7307 - prc: 0.8009 - val_loss: 0.0030 - val_precision: 0.8889 - val_recall: 0.6349 - val_prc: 0.7689\n",
            "Epoch 59/100\n",
            "89/89 [==============================] - 1s 6ms/step - loss: 0.0033 - precision: 0.8711 - recall: 0.6904 - prc: 0.7978 - val_loss: 0.0030 - val_precision: 0.8269 - val_recall: 0.6825 - val_prc: 0.7610\n",
            "Epoch 60/100\n",
            "89/89 [==============================] - 1s 6ms/step - loss: 0.0034 - precision: 0.8933 - recall: 0.6997 - prc: 0.7941 - val_loss: 0.0031 - val_precision: 0.8302 - val_recall: 0.6984 - val_prc: 0.7375\n",
            "Epoch 61/100\n",
            "89/89 [==============================] - 1s 6ms/step - loss: 0.0033 - precision: 0.8937 - recall: 0.7028 - prc: 0.8032 - val_loss: 0.0032 - val_precision: 0.8000 - val_recall: 0.6984 - val_prc: 0.7396\n",
            "Epoch 62/100\n",
            "89/89 [==============================] - 1s 6ms/step - loss: 0.0033 - precision: 0.8984 - recall: 0.7121 - prc: 0.7943 - val_loss: 0.0031 - val_precision: 0.8148 - val_recall: 0.6984 - val_prc: 0.7601\n",
            "Epoch 63/100\n",
            "89/89 [==============================] - 1s 6ms/step - loss: 0.0033 - precision: 0.9051 - recall: 0.7090 - prc: 0.8020 - val_loss: 0.0031 - val_precision: 0.8182 - val_recall: 0.7143 - val_prc: 0.7504\n",
            "Epoch 64/100\n",
            "89/89 [==============================] - 1s 6ms/step - loss: 0.0033 - precision: 0.8920 - recall: 0.6904 - prc: 0.8044 - val_loss: 0.0030 - val_precision: 0.8269 - val_recall: 0.6825 - val_prc: 0.7679\n",
            "Epoch 65/100\n",
            "89/89 [==============================] - 1s 6ms/step - loss: 0.0033 - precision: 0.8872 - recall: 0.7059 - prc: 0.8018 - val_loss: 0.0030 - val_precision: 0.8269 - val_recall: 0.6825 - val_prc: 0.7645\n",
            "Epoch 66/100\n",
            "89/89 [==============================] - 1s 6ms/step - loss: 0.0033 - precision: 0.8949 - recall: 0.7121 - prc: 0.7950 - val_loss: 0.0031 - val_precision: 0.8182 - val_recall: 0.7143 - val_prc: 0.7505\n",
            "Epoch 67/100\n",
            "89/89 [==============================] - 1s 6ms/step - loss: 0.0033 - precision: 0.8893 - recall: 0.6966 - prc: 0.8015 - val_loss: 0.0032 - val_precision: 0.8182 - val_recall: 0.7143 - val_prc: 0.7422\n",
            "Epoch 68/100\n",
            "89/89 [==============================] - 1s 6ms/step - loss: 0.0033 - precision: 0.9048 - recall: 0.7059 - prc: 0.7979 - val_loss: 0.0031 - val_precision: 0.8333 - val_recall: 0.7143 - val_prc: 0.7613\n",
            "Epoch 69/100\n",
            "89/89 [==============================] - 1s 6ms/step - loss: 0.0032 - precision: 0.9023 - recall: 0.7152 - prc: 0.8089 - val_loss: 0.0029 - val_precision: 0.8302 - val_recall: 0.6984 - val_prc: 0.7702\n",
            "Epoch 70/100\n",
            "89/89 [==============================] - 1s 7ms/step - loss: 0.0033 - precision: 0.8851 - recall: 0.7152 - prc: 0.8054 - val_loss: 0.0029 - val_precision: 0.8542 - val_recall: 0.6508 - val_prc: 0.7698\n",
            "Epoch 71/100\n",
            "89/89 [==============================] - 1s 6ms/step - loss: 0.0033 - precision: 0.9051 - recall: 0.7090 - prc: 0.7973 - val_loss: 0.0031 - val_precision: 0.8182 - val_recall: 0.7143 - val_prc: 0.7548\n",
            "Epoch 72/100\n",
            "89/89 [==============================] - 1s 6ms/step - loss: 0.0032 - precision: 0.9059 - recall: 0.7152 - prc: 0.8032 - val_loss: 0.0031 - val_precision: 0.8333 - val_recall: 0.7143 - val_prc: 0.7603\n",
            "Epoch 73/100\n",
            "89/89 [==============================] - 1s 7ms/step - loss: 0.0032 - precision: 0.9062 - recall: 0.7183 - prc: 0.8065 - val_loss: 0.0029 - val_precision: 0.8431 - val_recall: 0.6825 - val_prc: 0.7709\n",
            "Epoch 74/100\n",
            "89/89 [==============================] - 1s 7ms/step - loss: 0.0032 - precision: 0.9076 - recall: 0.6997 - prc: 0.8053 - val_loss: 0.0032 - val_precision: 0.7797 - val_recall: 0.7302 - val_prc: 0.7422\n",
            "Epoch 75/100\n",
            "89/89 [==============================] - 1s 6ms/step - loss: 0.0032 - precision: 0.9000 - recall: 0.7245 - prc: 0.8147 - val_loss: 0.0030 - val_precision: 0.8269 - val_recall: 0.6825 - val_prc: 0.7593\n",
            "Epoch 76/100\n",
            "89/89 [==============================] - 1s 6ms/step - loss: 0.0032 - precision: 0.9147 - recall: 0.7307 - prc: 0.8100 - val_loss: 0.0031 - val_precision: 0.8182 - val_recall: 0.7143 - val_prc: 0.7559\n",
            "Epoch 77/100\n",
            "89/89 [==============================] - 1s 9ms/step - loss: 0.0032 - precision: 0.9154 - recall: 0.7368 - prc: 0.8074 - val_loss: 0.0033 - val_precision: 0.7869 - val_recall: 0.7619 - val_prc: 0.7525\n",
            "Epoch 78/100\n",
            "89/89 [==============================] - 1s 8ms/step - loss: 0.0032 - precision: 0.8923 - recall: 0.7183 - prc: 0.8043 - val_loss: 0.0032 - val_precision: 0.8036 - val_recall: 0.7143 - val_prc: 0.7373\n",
            "Epoch 79/100\n",
            "89/89 [==============================] - 1s 9ms/step - loss: 0.0032 - precision: 0.9062 - recall: 0.7183 - prc: 0.8060 - val_loss: 0.0034 - val_precision: 0.7931 - val_recall: 0.7302 - val_prc: 0.7092\n",
            "Epoch 80/100\n",
            "89/89 [==============================] - 1s 6ms/step - loss: 0.0032 - precision: 0.9031 - recall: 0.7214 - prc: 0.8061 - val_loss: 0.0030 - val_precision: 0.8182 - val_recall: 0.7143 - val_prc: 0.7589\n",
            "Epoch 81/100\n",
            "89/89 [==============================] - 1s 8ms/step - loss: 0.0031 - precision: 0.9084 - recall: 0.7059 - prc: 0.8115 - val_loss: 0.0033 - val_precision: 0.7833 - val_recall: 0.7460 - val_prc: 0.7114\n",
            "Epoch 82/100\n",
            "89/89 [==============================] - 1s 8ms/step - loss: 0.0032 - precision: 0.9031 - recall: 0.7214 - prc: 0.8051 - val_loss: 0.0031 - val_precision: 0.8182 - val_recall: 0.7143 - val_prc: 0.7442\n",
            "Epoch 83/100\n",
            "89/89 [==============================] - 1s 8ms/step - loss: 0.0032 - precision: 0.9062 - recall: 0.7183 - prc: 0.8100 - val_loss: 0.0032 - val_precision: 0.7931 - val_recall: 0.7302 - val_prc: 0.7501\n",
            "Epoch 84/100\n",
            "89/89 [==============================] - 1s 8ms/step - loss: 0.0032 - precision: 0.8988 - recall: 0.7152 - prc: 0.8109 - val_loss: 0.0032 - val_precision: 0.7895 - val_recall: 0.7143 - val_prc: 0.7409\n",
            "Epoch 85/100\n",
            "89/89 [==============================] - 1s 6ms/step - loss: 0.0033 - precision: 0.9020 - recall: 0.7121 - prc: 0.8013 - val_loss: 0.0030 - val_precision: 0.8302 - val_recall: 0.6984 - val_prc: 0.7581\n",
            "Epoch 86/100\n",
            "89/89 [==============================] - 1s 6ms/step - loss: 0.0032 - precision: 0.9094 - recall: 0.7152 - prc: 0.8094 - val_loss: 0.0030 - val_precision: 0.8302 - val_recall: 0.6984 - val_prc: 0.7592\n",
            "Epoch 87/100\n",
            "89/89 [==============================] - 1s 6ms/step - loss: 0.0032 - precision: 0.9246 - recall: 0.7214 - prc: 0.8133 - val_loss: 0.0029 - val_precision: 0.8302 - val_recall: 0.6984 - val_prc: 0.7684\n",
            "Epoch 88/100\n",
            "89/89 [==============================] - 1s 7ms/step - loss: 0.0031 - precision: 0.9189 - recall: 0.7368 - prc: 0.8138 - val_loss: 0.0030 - val_precision: 0.8182 - val_recall: 0.7143 - val_prc: 0.7540\n",
            "Epoch 89/100\n",
            "89/89 [==============================] - 1s 6ms/step - loss: 0.0032 - precision: 0.8958 - recall: 0.7183 - prc: 0.8099 - val_loss: 0.0030 - val_precision: 0.8214 - val_recall: 0.7302 - val_prc: 0.7629\n",
            "Epoch 90/100\n",
            "89/89 [==============================] - 1s 6ms/step - loss: 0.0032 - precision: 0.9124 - recall: 0.7090 - prc: 0.8069 - val_loss: 0.0030 - val_precision: 0.8182 - val_recall: 0.7143 - val_prc: 0.7506\n",
            "Epoch 91/100\n",
            "89/89 [==============================] - 1s 6ms/step - loss: 0.0031 - precision: 0.9141 - recall: 0.7245 - prc: 0.8150 - val_loss: 0.0030 - val_precision: 0.8182 - val_recall: 0.7143 - val_prc: 0.7645\n",
            "Epoch 92/100\n",
            "89/89 [==============================] - 1s 7ms/step - loss: 0.0032 - precision: 0.9020 - recall: 0.7121 - prc: 0.8120 - val_loss: 0.0029 - val_precision: 0.8302 - val_recall: 0.6984 - val_prc: 0.7698\n",
            "Epoch 93/100\n",
            "89/89 [==============================] - 1s 6ms/step - loss: 0.0031 - precision: 0.8969 - recall: 0.7276 - prc: 0.8151 - val_loss: 0.0031 - val_precision: 0.8036 - val_recall: 0.7143 - val_prc: 0.7469\n",
            "Epoch 94/100\n",
            "89/89 [==============================] - 1s 6ms/step - loss: 0.0032 - precision: 0.8996 - recall: 0.7214 - prc: 0.8027 - val_loss: 0.0030 - val_precision: 0.8302 - val_recall: 0.6984 - val_prc: 0.7469\n",
            "Epoch 95/100\n",
            "89/89 [==============================] - 1s 7ms/step - loss: 0.0032 - precision: 0.9137 - recall: 0.7214 - prc: 0.8087 - val_loss: 0.0030 - val_precision: 0.8182 - val_recall: 0.7143 - val_prc: 0.7567\n",
            "Epoch 96/100\n",
            "89/89 [==============================] - 1s 7ms/step - loss: 0.0031 - precision: 0.9186 - recall: 0.7337 - prc: 0.8181 - val_loss: 0.0030 - val_precision: 0.8302 - val_recall: 0.6984 - val_prc: 0.7631\n",
            "Epoch 97/100\n",
            "89/89 [==============================] - 1s 8ms/step - loss: 0.0032 - precision: 0.9102 - recall: 0.7214 - prc: 0.8085 - val_loss: 0.0033 - val_precision: 0.8103 - val_recall: 0.7460 - val_prc: 0.6916\n",
            "Epoch 98/100\n",
            "89/89 [==============================] - 1s 8ms/step - loss: 0.0032 - precision: 0.9042 - recall: 0.7307 - prc: 0.8120 - val_loss: 0.0029 - val_precision: 0.8600 - val_recall: 0.6825 - val_prc: 0.7777\n",
            "Epoch 99/100\n",
            "89/89 [==============================] - 1s 9ms/step - loss: 0.0032 - precision: 0.9180 - recall: 0.7276 - prc: 0.8085 - val_loss: 0.0030 - val_precision: 0.8182 - val_recall: 0.7143 - val_prc: 0.7584\n",
            "Epoch 100/100\n",
            "89/89 [==============================] - 1s 6ms/step - loss: 0.0032 - precision: 0.9080 - recall: 0.7337 - prc: 0.8108 - val_loss: 0.0031 - val_precision: 0.8182 - val_recall: 0.7143 - val_prc: 0.7407\n"
          ]
        },
        {
          "output_type": "execute_result",
          "data": {
            "text/plain": [
              "<keras.callbacks.History at 0x7fefe9984dc0>"
            ]
          },
          "metadata": {},
          "execution_count": 109
        }
      ]
    },
    {
      "cell_type": "code",
      "source": [
        "cnn_fs_val_preds = cnn_fs.predict(X_val_norm_fs)>0.5\n"
      ],
      "metadata": {
        "colab": {
          "base_uri": "https://localhost:8080/"
        },
        "id": "2Ibfqn3-baH_",
        "outputId": "83845512-2423-41c1-f703-9f0c60ec282a"
      },
      "execution_count": null,
      "outputs": [
        {
          "output_type": "stream",
          "name": "stdout",
          "text": [
            "1419/1419 [==============================] - 3s 2ms/step\n"
          ]
        }
      ]
    },
    {
      "cell_type": "code",
      "source": [
        "visualize_results(Y_val_fs,cnn_fs_val_preds)"
      ],
      "metadata": {
        "colab": {
          "base_uri": "https://localhost:8080/",
          "height": 605
        },
        "id": "Fi8_BSpEercl",
        "outputId": "8c288104-4e1d-4ab0-e194-5ee8569384be"
      },
      "execution_count": null,
      "outputs": [
        {
          "output_type": "stream",
          "name": "stdout",
          "text": [
            "              precision    recall  f1-score   support\n",
            "\n",
            "           0       1.00      1.00      1.00     45333\n",
            "           1       0.82      0.71      0.76        63\n",
            "\n",
            "    accuracy                           1.00     45396\n",
            "   macro avg       0.91      0.86      0.88     45396\n",
            "weighted avg       1.00      1.00      1.00     45396\n",
            "\n"
          ]
        },
        {
          "output_type": "display_data",
          "data": {
            "text/plain": [
              "<Figure size 640x480 with 2 Axes>"
            ],
            "image/png": "[encoded data removed]"
          },
          "metadata": {}
        }
      ]
    },
    {
      "cell_type": "code",
      "source": [
        "cnn_fs_test_preds=cnn_fs.predict(X_test_norm_fs)>0.5\n",
        "visualize_results(Y_test_fs,cnn_fs_test_preds)\n",
        "PrecisionRecallDisplay.from_predictions(Y_test_fs, cnn_fs_test_preds)"
      ],
      "metadata": {
        "id": "qhduQHGjex1U",
        "colab": {
          "base_uri": "https://localhost:8080/",
          "height": 1000
        },
        "outputId": "c597703f-619f-4e89-cbbd-999b7b16d633"
      },
      "execution_count": null,
      "outputs": [
        {
          "output_type": "stream",
          "name": "stdout",
          "text": [
            "1774/1774 [==============================] - 3s 2ms/step\n",
            "              precision    recall  f1-score   support\n",
            "\n",
            "           0       1.00      1.00      1.00     56659\n",
            "           1       0.83      0.69      0.75        87\n",
            "\n",
            "    accuracy                           1.00     56746\n",
            "   macro avg       0.92      0.84      0.88     56746\n",
            "weighted avg       1.00      1.00      1.00     56746\n",
            "\n"
          ]
        },
        {
          "output_type": "execute_result",
          "data": {
            "text/plain": [
              "<sklearn.metrics._plot.precision_recall_curve.PrecisionRecallDisplay at 0x7fefa81f5760>"
            ]
          },
          "metadata": {},
          "execution_count": 112
        },
        {
          "output_type": "display_data",
          "data": {
            "text/plain": [
              "<Figure size 640x480 with 2 Axes>"
            ],
            "image/png": "[encoded data removed]"
          },
          "metadata": {}
        },
        {
          "output_type": "display_data",
          "data": {
            "text/plain": [
              "<Figure size 640x480 with 1 Axes>"
            ],
            "image/png": "[encoded data removed]"
          },
          "metadata": {}
        }
      ]
    },
    {
      "cell_type": "code",
      "source": [],
      "metadata": {
        "id": "GziAbHKXiwA7"
      },
      "execution_count": null,
      "outputs": []
    }
  ]
}